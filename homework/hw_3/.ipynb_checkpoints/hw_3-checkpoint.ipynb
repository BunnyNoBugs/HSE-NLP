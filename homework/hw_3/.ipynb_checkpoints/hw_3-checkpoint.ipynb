{
 "cells": [
  {
   "cell_type": "code",
   "execution_count": null,
   "metadata": {
    "colab": {
     "base_uri": "https://localhost:8080/",
     "height": 524
    },
    "id": "Filfs7op8WkY",
    "outputId": "aa0ad21e-5fd1-4864-99ae-87a30f509a9f"
   },
   "outputs": [
    {
     "name": "stdout",
     "output_type": "stream",
     "text": [
      "[nltk_data] Downloading package stopwords to /root/nltk_data...\n",
      "[nltk_data]   Unzipping corpora/stopwords.zip.\n",
      "Requirement already satisfied: en_core_web_sm==2.2.5 from https://github.com/explosion/spacy-models/releases/download/en_core_web_sm-2.2.5/en_core_web_sm-2.2.5.tar.gz#egg=en_core_web_sm==2.2.5 in /usr/local/lib/python3.6/dist-packages (2.2.5)\n",
      "Requirement already satisfied: spacy>=2.2.2 in /usr/local/lib/python3.6/dist-packages (from en_core_web_sm==2.2.5) (2.2.4)\n",
      "Requirement already satisfied: blis<0.5.0,>=0.4.0 in /usr/local/lib/python3.6/dist-packages (from spacy>=2.2.2->en_core_web_sm==2.2.5) (0.4.1)\n",
      "Requirement already satisfied: wasabi<1.1.0,>=0.4.0 in /usr/local/lib/python3.6/dist-packages (from spacy>=2.2.2->en_core_web_sm==2.2.5) (0.8.0)\n",
      "Requirement already satisfied: preshed<3.1.0,>=3.0.2 in /usr/local/lib/python3.6/dist-packages (from spacy>=2.2.2->en_core_web_sm==2.2.5) (3.0.2)\n",
      "Requirement already satisfied: srsly<1.1.0,>=1.0.2 in /usr/local/lib/python3.6/dist-packages (from spacy>=2.2.2->en_core_web_sm==2.2.5) (1.0.2)\n",
      "Requirement already satisfied: setuptools in /usr/local/lib/python3.6/dist-packages (from spacy>=2.2.2->en_core_web_sm==2.2.5) (50.3.0)\n",
      "Requirement already satisfied: tqdm<5.0.0,>=4.38.0 in /usr/local/lib/python3.6/dist-packages (from spacy>=2.2.2->en_core_web_sm==2.2.5) (4.41.1)\n",
      "Requirement already satisfied: cymem<2.1.0,>=2.0.2 in /usr/local/lib/python3.6/dist-packages (from spacy>=2.2.2->en_core_web_sm==2.2.5) (2.0.3)\n",
      "Requirement already satisfied: murmurhash<1.1.0,>=0.28.0 in /usr/local/lib/python3.6/dist-packages (from spacy>=2.2.2->en_core_web_sm==2.2.5) (1.0.2)\n",
      "Requirement already satisfied: plac<1.2.0,>=0.9.6 in /usr/local/lib/python3.6/dist-packages (from spacy>=2.2.2->en_core_web_sm==2.2.5) (1.1.3)\n",
      "Requirement already satisfied: catalogue<1.1.0,>=0.0.7 in /usr/local/lib/python3.6/dist-packages (from spacy>=2.2.2->en_core_web_sm==2.2.5) (1.0.0)\n",
      "Requirement already satisfied: thinc==7.4.0 in /usr/local/lib/python3.6/dist-packages (from spacy>=2.2.2->en_core_web_sm==2.2.5) (7.4.0)\n",
      "Requirement already satisfied: numpy>=1.15.0 in /usr/local/lib/python3.6/dist-packages (from spacy>=2.2.2->en_core_web_sm==2.2.5) (1.18.5)\n",
      "Requirement already satisfied: requests<3.0.0,>=2.13.0 in /usr/local/lib/python3.6/dist-packages (from spacy>=2.2.2->en_core_web_sm==2.2.5) (2.23.0)\n",
      "Requirement already satisfied: importlib-metadata>=0.20; python_version < \"3.8\" in /usr/local/lib/python3.6/dist-packages (from catalogue<1.1.0,>=0.0.7->spacy>=2.2.2->en_core_web_sm==2.2.5) (2.0.0)\n",
      "Requirement already satisfied: chardet<4,>=3.0.2 in /usr/local/lib/python3.6/dist-packages (from requests<3.0.0,>=2.13.0->spacy>=2.2.2->en_core_web_sm==2.2.5) (3.0.4)\n",
      "Requirement already satisfied: certifi>=2017.4.17 in /usr/local/lib/python3.6/dist-packages (from requests<3.0.0,>=2.13.0->spacy>=2.2.2->en_core_web_sm==2.2.5) (2020.6.20)\n",
      "Requirement already satisfied: idna<3,>=2.5 in /usr/local/lib/python3.6/dist-packages (from requests<3.0.0,>=2.13.0->spacy>=2.2.2->en_core_web_sm==2.2.5) (2.10)\n",
      "Requirement already satisfied: urllib3!=1.25.0,!=1.25.1,<1.26,>=1.21.1 in /usr/local/lib/python3.6/dist-packages (from requests<3.0.0,>=2.13.0->spacy>=2.2.2->en_core_web_sm==2.2.5) (1.24.3)\n",
      "Requirement already satisfied: zipp>=0.5 in /usr/local/lib/python3.6/dist-packages (from importlib-metadata>=0.20; python_version < \"3.8\"->catalogue<1.1.0,>=0.0.7->spacy>=2.2.2->en_core_web_sm==2.2.5) (3.2.0)\n",
      "\u001b[38;5;2m✔ Download and installation successful\u001b[0m\n",
      "You can now load the model via spacy.load('en_core_web_sm')\n",
      "\u001b[38;5;2m✔ Linking successful\u001b[0m\n",
      "/usr/local/lib/python3.6/dist-packages/en_core_web_sm -->\n",
      "/usr/local/lib/python3.6/dist-packages/spacy/data/en\n",
      "You can now load the model via spacy.load('en')\n"
     ]
    }
   ],
   "source": [
    "\n",
    "import nltk; nltk.download('stopwords')\n",
    "\n",
    "\n",
    "!python3 -m spacy download en"
   ]
  },
  {
   "cell_type": "code",
   "execution_count": 1,
   "metadata": {
    "id": "SsxRoSGK9zBL"
   },
   "outputs": [
    {
     "name": "stderr",
     "output_type": "stream",
     "text": [
      "c:\\program files\\python37\\lib\\site-packages\\matplotlib\\backend_bases.py:57: DeprecationWarning: PILLOW_VERSION is deprecated and will be removed in a future release. Use __version__ instead.\n",
      "  from PIL import PILLOW_VERSION\n",
      "c:\\program files\\python37\\lib\\site-packages\\matplotlib\\backend_bases.py:57: DeprecationWarning: PILLOW_VERSION is deprecated and will be removed in a future release. Use __version__ instead.\n",
      "  from PIL import PILLOW_VERSION\n"
     ]
    }
   ],
   "source": [
    "import re\n",
    "import numpy as np\n",
    "import pandas as pd\n",
    "from pprint import pprint\n",
    "\n",
    "# Gensim\n",
    "import gensim\n",
    "import gensim.corpora as corpora\n",
    "from gensim.utils import simple_preprocess\n",
    "from gensim.models import CoherenceModel\n",
    "\n",
    "# spacy for lemmatization\n",
    "import spacy\n",
    "\n",
    "# Plotting tools\n",
    "import pyLDAvis\n",
    "import pyLDAvis.gensim  # don't skip this\n",
    "import matplotlib.pyplot as plt\n",
    "%matplotlib inline\n",
    "\n",
    "# Enable logging for gensim - optional\n",
    "import logging\n",
    "logging.basicConfig(format='%(asctime)s : %(levelname)s : %(message)s', level=logging.ERROR)\n",
    "\n",
    "import warnings\n",
    "warnings.filterwarnings(\"ignore\",category=DeprecationWarning)"
   ]
  },
  {
   "cell_type": "code",
   "execution_count": 2,
   "metadata": {
    "id": "jYWmtv1M91nu"
   },
   "outputs": [],
   "source": [
    "from nltk.corpus import stopwords\n",
    "stop_words = stopwords.words('english')\n",
    "stop_words.extend(['from', 'subject', 're', 'edu', 'use'])"
   ]
  },
  {
   "cell_type": "code",
   "execution_count": 3,
   "metadata": {
    "colab": {
     "base_uri": "https://localhost:8080/",
     "height": 296
    },
    "id": "fAyh7LTgAVch",
    "outputId": "17557e77-250d-41ed-92a9-728f13bd8800"
   },
   "outputs": [
    {
     "name": "stdout",
     "output_type": "stream",
     "text": [
      "['rec.autos' 'comp.sys.mac.hardware' 'comp.graphics' 'sci.space'\n",
      " 'talk.politics.guns' 'sci.med' 'comp.sys.ibm.pc.hardware'\n",
      " 'comp.os.ms-windows.misc' 'rec.motorcycles' 'talk.religion.misc'\n",
      " 'misc.forsale' 'alt.atheism' 'sci.electronics' 'comp.windows.x'\n",
      " 'rec.sport.hockey' 'rec.sport.baseball' 'soc.religion.christian'\n",
      " 'talk.politics.mideast' 'talk.politics.misc' 'sci.crypt']\n"
     ]
    },
    {
     "data": {
      "text/html": [
       "<div>\n",
       "<style scoped>\n",
       "    .dataframe tbody tr th:only-of-type {\n",
       "        vertical-align: middle;\n",
       "    }\n",
       "\n",
       "    .dataframe tbody tr th {\n",
       "        vertical-align: top;\n",
       "    }\n",
       "\n",
       "    .dataframe thead th {\n",
       "        text-align: right;\n",
       "    }\n",
       "</style>\n",
       "<table border=\"1\" class=\"dataframe\">\n",
       "  <thead>\n",
       "    <tr style=\"text-align: right;\">\n",
       "      <th></th>\n",
       "      <th>content</th>\n",
       "      <th>target</th>\n",
       "      <th>target_names</th>\n",
       "    </tr>\n",
       "  </thead>\n",
       "  <tbody>\n",
       "    <tr>\n",
       "      <td>0</td>\n",
       "      <td>From: lerxst@wam.umd.edu (where's my thing)\\nS...</td>\n",
       "      <td>7</td>\n",
       "      <td>rec.autos</td>\n",
       "    </tr>\n",
       "    <tr>\n",
       "      <td>1</td>\n",
       "      <td>From: guykuo@carson.u.washington.edu (Guy Kuo)...</td>\n",
       "      <td>4</td>\n",
       "      <td>comp.sys.mac.hardware</td>\n",
       "    </tr>\n",
       "    <tr>\n",
       "      <td>2</td>\n",
       "      <td>From: twillis@ec.ecn.purdue.edu (Thomas E Will...</td>\n",
       "      <td>4</td>\n",
       "      <td>comp.sys.mac.hardware</td>\n",
       "    </tr>\n",
       "    <tr>\n",
       "      <td>3</td>\n",
       "      <td>From: jgreen@amber (Joe Green)\\nSubject: Re: W...</td>\n",
       "      <td>1</td>\n",
       "      <td>comp.graphics</td>\n",
       "    </tr>\n",
       "    <tr>\n",
       "      <td>4</td>\n",
       "      <td>From: jcm@head-cfa.harvard.edu (Jonathan McDow...</td>\n",
       "      <td>14</td>\n",
       "      <td>sci.space</td>\n",
       "    </tr>\n",
       "  </tbody>\n",
       "</table>\n",
       "</div>"
      ],
      "text/plain": [
       "                                             content  target  \\\n",
       "0  From: lerxst@wam.umd.edu (where's my thing)\\nS...       7   \n",
       "1  From: guykuo@carson.u.washington.edu (Guy Kuo)...       4   \n",
       "2  From: twillis@ec.ecn.purdue.edu (Thomas E Will...       4   \n",
       "3  From: jgreen@amber (Joe Green)\\nSubject: Re: W...       1   \n",
       "4  From: jcm@head-cfa.harvard.edu (Jonathan McDow...      14   \n",
       "\n",
       "            target_names  \n",
       "0              rec.autos  \n",
       "1  comp.sys.mac.hardware  \n",
       "2  comp.sys.mac.hardware  \n",
       "3          comp.graphics  \n",
       "4              sci.space  "
      ]
     },
     "execution_count": 3,
     "metadata": {},
     "output_type": "execute_result"
    }
   ],
   "source": [
    "df = pd.read_json('https://raw.githubusercontent.com/selva86/datasets/master/newsgroups.json')\n",
    "print(df.target_names.unique())\n",
    "df.head()"
   ]
  },
  {
   "cell_type": "code",
   "execution_count": 4,
   "metadata": {
    "colab": {
     "base_uri": "https://localhost:8080/",
     "height": 185
    },
    "id": "3_DJRWg8BGsW",
    "outputId": "63996d50-d0d2-4ba7-89f2-15663d125856"
   },
   "outputs": [
    {
     "name": "stdout",
     "output_type": "stream",
     "text": [
      "['From: (wheres my thing) Subject: WHAT car is this!? Nntp-Posting-Host: '\n",
      " 'rac3.wam.umd.edu Organization: University of Maryland, College Park Lines: '\n",
      " '15 I was wondering if anyone out there could enlighten me on this car I saw '\n",
      " 'the other day. It was a 2-door sports car, looked to be from the late 60s/ '\n",
      " 'early 70s. It was called a Bricklin. The doors were really small. In '\n",
      " 'addition, the front bumper was separate from the rest of the body. This is '\n",
      " 'all I know. If anyone can tellme a model name, engine specs, years of '\n",
      " 'production, where this car is made, history, or whatever info you have on '\n",
      " 'this funky looking car, please e-mail. Thanks, - IL ---- brought to you by '\n",
      " 'your neighborhood Lerxst ---- ']\n"
     ]
    }
   ],
   "source": [
    "# Convert to list\n",
    "data = df.content.values.tolist()\n",
    "\n",
    "\n",
    "#YOURCODE\n",
    "\n",
    "# Remove Emails\n",
    "data = [re.sub('\\S*@\\S*\\s?', '', sent) for sent in data]\n",
    "\n",
    "# Remove new line characters\n",
    "data = [re.sub('\\s+', ' ', sent) for sent in data]\n",
    "\n",
    "# Remove distracting single quotes\n",
    "data = [re.sub(\"\\'\", \"\", sent) for sent in data]\n",
    "\n",
    "pprint(data[:1])"
   ]
  },
  {
   "cell_type": "code",
   "execution_count": null,
   "metadata": {
    "colab": {
     "base_uri": "https://localhost:8080/",
     "height": 54
    },
    "id": "vE4tBFnlBa_v",
    "outputId": "ddb5fe57-38e9-4ed2-9d49-fde4fa85b66c"
   },
   "outputs": [
    {
     "name": "stdout",
     "output_type": "stream",
     "text": [
      "[['from', 'wheres', 'my', 'thing', 'subject', 'what', 'car', 'is', 'this', 'nntp', 'posting', 'host', 'rac', 'wam', 'umd', 'edu', 'organization', 'university', 'of', 'maryland', 'college', 'park', 'lines', 'was', 'wondering', 'if', 'anyone', 'out', 'there', 'could', 'enlighten', 'me', 'on', 'this', 'car', 'saw', 'the', 'other', 'day', 'it', 'was', 'door', 'sports', 'car', 'looked', 'to', 'be', 'from', 'the', 'late', 'early', 'it', 'was', 'called', 'bricklin', 'the', 'doors', 'were', 'really', 'small', 'in', 'addition', 'the', 'front', 'bumper', 'was', 'separate', 'from', 'the', 'rest', 'of', 'the', 'body', 'this', 'is', 'all', 'know', 'if', 'anyone', 'can', 'tellme', 'model', 'name', 'engine', 'specs', 'years', 'of', 'production', 'where', 'this', 'car', 'is', 'made', 'history', 'or', 'whatever', 'info', 'you', 'have', 'on', 'this', 'funky', 'looking', 'car', 'please', 'mail', 'thanks', 'il', 'brought', 'to', 'you', 'by', 'your', 'neighborhood', 'lerxst']]\n"
     ]
    }
   ],
   "source": [
    "#tokenize\n",
    "\n",
    "def sent_to_words(sentences):\n",
    "    for sentence in sentences:\n",
    "        yield(gensim.utils.simple_preprocess(str(sentence), deacc=True))  # deacc=True removes punctuations\n",
    "\n",
    "data_words = list(sent_to_words(data))\n",
    "\n",
    "print(data_words[:1])"
   ]
  },
  {
   "cell_type": "code",
   "execution_count": null,
   "metadata": {
    "id": "TGTWQtPCCjo_"
   },
   "outputs": [],
   "source": [
    "bigrams = [b for l in text2 for b in zip(l.split(\" \")[:-1], l.split(\" \")[1:])]\n",
    "freq = nltk.FreqDist(bigrams) #computes freq of occurrence\n",
    "fdist = freq.keys() # sorted according to freq"
   ]
  },
  {
   "cell_type": "code",
   "execution_count": null,
   "metadata": {
    "colab": {
     "base_uri": "https://localhost:8080/",
     "height": 87
    },
    "id": "hqxJzKq5B07B",
    "outputId": "44c12050-d890-45af-c523-4b810083df73"
   },
   "outputs": [
    {
     "name": "stderr",
     "output_type": "stream",
     "text": [
      "/usr/local/lib/python3.6/dist-packages/gensim/models/phrases.py:598: UserWarning: For a faster implementation, use the gensim.models.phrases.Phraser class\n",
      "  warnings.warn(\"For a faster implementation, use the gensim.models.phrases.Phraser class\")\n"
     ]
    },
    {
     "name": "stdout",
     "output_type": "stream",
     "text": [
      "['from', 'wheres', 'my', 'thing', 'subject', 'what', 'car', 'is', 'this', 'nntp_posting_host', 'rac_wam_umd_edu', 'organization', 'university', 'of', 'maryland_college_park', 'lines', 'was', 'wondering', 'if', 'anyone', 'out', 'there', 'could', 'enlighten', 'me', 'on', 'this', 'car', 'saw', 'the', 'other', 'day', 'it', 'was', 'door', 'sports', 'car', 'looked', 'to', 'be', 'from', 'the', 'late', 'early', 'it', 'was', 'called', 'bricklin', 'the', 'doors', 'were', 'really', 'small', 'in', 'addition', 'the', 'front_bumper', 'was', 'separate', 'from', 'the', 'rest', 'of', 'the', 'body', 'this', 'is', 'all', 'know', 'if', 'anyone', 'can', 'tellme', 'model', 'name', 'engine', 'specs', 'years', 'of', 'production', 'where', 'this', 'car', 'is', 'made', 'history', 'or', 'whatever', 'info', 'you', 'have', 'on', 'this', 'funky', 'looking', 'car', 'please', 'mail', 'thanks', 'il', 'brought', 'to', 'you', 'by', 'your', 'neighborhood', 'lerxst']\n"
     ]
    }
   ],
   "source": [
    "# Build the bigram and trigram models\n",
    "bigram = gensim.models.Phrases(data_words, min_count=5, threshold=100) # higher threshold fewer phrases.\n",
    "trigram = gensim.models.Phrases(bigram[data_words], threshold=100)  \n",
    "\n",
    "# Faster way to get a sentence clubbed as a trigram/bigram\n",
    "bigram_mod = gensim.models.phrases.Phraser(bigram)\n",
    "trigram_mod = gensim.models.phrases.Phraser(trigram)\n",
    "\n",
    "# See trigram example\n",
    "print(trigram_mod[bigram_mod[data_words[0]]])"
   ]
  },
  {
   "cell_type": "markdown",
   "metadata": {
    "id": "iTPyrXMwCBN5"
   },
   "source": [
    "Отвлечёмся?\n",
    "\n",
    "Это мы сейчас делаем широкий топик? а как сделать узкий???  Типа в категории \"машины\" выделить \"производство тойот в Японии\""
   ]
  },
  {
   "cell_type": "code",
   "execution_count": null,
   "metadata": {
    "id": "BLY1GmA0BbmB"
   },
   "outputs": [],
   "source": [
    "def remove_stopwords(texts):\n",
    "    return [[word for word in simple_preprocess(str(doc)) if word not in stop_words] for doc in texts]\n",
    "\n",
    "def make_bigrams(texts):\n",
    "    return [bigram_mod[doc] for doc in texts]\n",
    "\n",
    "def make_trigrams(texts):\n",
    "    return [trigram_mod[bigram_mod[doc]] for doc in texts]\n",
    "\n",
    "def lemmatization(texts, allowed_postags=['NOUN', 'ADJ', 'VERB', 'ADV']):\n",
    "    \"\"\"https://spacy.io/api/annotation\"\"\"\n",
    "    texts_out = []\n",
    "    for sent in texts:\n",
    "        doc = nlp(\" \".join(sent)) \n",
    "        texts_out.append([token.lemma_ for token in doc if token.pos_ in allowed_postags])\n",
    "    return texts_out"
   ]
  },
  {
   "cell_type": "code",
   "execution_count": null,
   "metadata": {
    "colab": {
     "base_uri": "https://localhost:8080/",
     "height": 54
    },
    "id": "rE1F6oMECSvm",
    "outputId": "f4efaab5-a189-4ddd-eec6-307e29b22999"
   },
   "outputs": [
    {
     "name": "stdout",
     "output_type": "stream",
     "text": [
      "[['where', 'thing', 'car', 'nntp_poste', 'host', 'park', 'line', 'wonder', 'could', 'enlighten', 'car', 'see', 'day', 'door', 'sport', 'car', 'look', 'late', 'early', 'call', 'bricklin', 'door', 'really', 'small', 'addition', 'separate', 'rest', 'body', 'know', 'tellme', 'model', 'name', 'engine', 'year', 'production', 'car', 'make', 'history', 'info', 'funky', 'look', 'car', 'mail', 'thank', 'bring', 'neighborhood', 'lerxst']]\n"
     ]
    }
   ],
   "source": [
    "# Remove Stop Words\n",
    "data_words_nostops = remove_stopwords(data_words)\n",
    "\n",
    "# Form Bigrams\n",
    "data_words_bigrams = make_bigrams(data_words_nostops)\n",
    "\n",
    "# Initialize spacy 'en' model, keeping only tagger component (for efficiency)\n",
    "# python3 -m spacy download en\n",
    "nlp = spacy.load('en', disable=['parser', 'ner'])\n",
    "\n",
    "# Do lemmatization keeping only noun, adj, vb, adv\n",
    "data_lemmatized = lemmatization(data_words_bigrams, allowed_postags=['NOUN', 'ADJ', 'VERB', 'ADV'])\n",
    "\n",
    "print(data_lemmatized[:1])"
   ]
  },
  {
   "cell_type": "markdown",
   "metadata": {
    "id": "AxbgbcQDDL5z"
   },
   "source": [
    "The two main inputs to the LDA topic model are the dictionary(id2word) and the corpus. Let’s create them."
   ]
  },
  {
   "cell_type": "code",
   "execution_count": null,
   "metadata": {
    "colab": {
     "base_uri": "https://localhost:8080/",
     "height": 54
    },
    "id": "H0Wa02IHC59A",
    "outputId": "b7d20b6a-e4f6-4f70-f4dd-2c233c07c582"
   },
   "outputs": [
    {
     "name": "stdout",
     "output_type": "stream",
     "text": [
      "[[(0, 1), (1, 1), (2, 1), (3, 1), (4, 1), (5, 5), (6, 1), (7, 1), (8, 2), (9, 1), (10, 1), (11, 1), (12, 1), (13, 1), (14, 1), (15, 1), (16, 1), (17, 1), (18, 1), (19, 1), (20, 2), (21, 1), (22, 1), (23, 1), (24, 1), (25, 1), (26, 1), (27, 1), (28, 1), (29, 1), (30, 1), (31, 1), (32, 1), (33, 1), (34, 1), (35, 1), (36, 1), (37, 1), (38, 1), (39, 1), (40, 1)]]\n"
     ]
    }
   ],
   "source": [
    "# Create Dictionary\n",
    "id2word = corpora.Dictionary(data_lemmatized)\n",
    "\n",
    "# Create Corpus\n",
    "texts = data_lemmatized\n",
    "\n",
    "# Term Document Frequency\n",
    "corpus = [id2word.doc2bow(text) for text in texts]\n",
    "\n",
    "# View\n",
    "print(corpus[:1])"
   ]
  },
  {
   "cell_type": "markdown",
   "metadata": {
    "id": "V7PuV3-_DWwI"
   },
   "source": [
    "Первая цифра - айди слова в документе, вторая - частота этого слова в документе.\n",
    "таков формат ввода"
   ]
  },
  {
   "cell_type": "code",
   "execution_count": null,
   "metadata": {
    "colab": {
     "base_uri": "https://localhost:8080/",
     "height": 706
    },
    "id": "N-35v67xD1gG",
    "outputId": "0f92df42-b108-4086-83a7-3943372ea6d2"
   },
   "outputs": [
    {
     "data": {
      "text/plain": [
       "[[('addition', 1),\n",
       "  ('body', 1),\n",
       "  ('bricklin', 1),\n",
       "  ('bring', 1),\n",
       "  ('call', 1),\n",
       "  ('car', 5),\n",
       "  ('could', 1),\n",
       "  ('day', 1),\n",
       "  ('door', 2),\n",
       "  ('early', 1),\n",
       "  ('engine', 1),\n",
       "  ('enlighten', 1),\n",
       "  ('funky', 1),\n",
       "  ('history', 1),\n",
       "  ('host', 1),\n",
       "  ('info', 1),\n",
       "  ('know', 1),\n",
       "  ('late', 1),\n",
       "  ('lerxst', 1),\n",
       "  ('line', 1),\n",
       "  ('look', 2),\n",
       "  ('mail', 1),\n",
       "  ('make', 1),\n",
       "  ('model', 1),\n",
       "  ('name', 1),\n",
       "  ('neighborhood', 1),\n",
       "  ('nntp_poste', 1),\n",
       "  ('park', 1),\n",
       "  ('production', 1),\n",
       "  ('really', 1),\n",
       "  ('rest', 1),\n",
       "  ('see', 1),\n",
       "  ('separate', 1),\n",
       "  ('small', 1),\n",
       "  ('sport', 1),\n",
       "  ('tellme', 1),\n",
       "  ('thank', 1),\n",
       "  ('thing', 1),\n",
       "  ('where', 1),\n",
       "  ('wonder', 1),\n",
       "  ('year', 1)]]"
      ]
     },
     "execution_count": 17,
     "metadata": {
      "tags": []
     },
     "output_type": "execute_result"
    }
   ],
   "source": [
    "[[(id2word[id], freq) for id, freq in cp] for cp in corpus[:1]]"
   ]
  },
  {
   "cell_type": "markdown",
   "metadata": {
    "id": "Uhwy16jWD9-6"
   },
   "source": [
    "## Тренеруем нашу модель"
   ]
  },
  {
   "cell_type": "code",
   "execution_count": null,
   "metadata": {
    "id": "GBmqT7oLD9YP"
   },
   "outputs": [],
   "source": [
    "lda_model = gensim.models.ldamodel.LdaModel(corpus=corpus,\n",
    "                                           id2word=id2word,\n",
    "                                           num_topics=20, \n",
    "                                           random_state=100,\n",
    "                                           update_every=1,\n",
    "                                           chunksize=100,\n",
    "                                           passes=10,\n",
    "                                           alpha='auto',\n",
    "                                           per_word_topics=True)\n"
   ]
  },
  {
   "cell_type": "code",
   "execution_count": null,
   "metadata": {
    "colab": {
     "base_uri": "https://localhost:8080/",
     "height": 1000
    },
    "id": "70i5r5TFD6M5",
    "outputId": "458482bd-7074-4df7-dd51-199c876c3d09"
   },
   "outputs": [
    {
     "name": "stdout",
     "output_type": "stream",
     "text": [
      "[(0,\n",
      "  '0.051*\"report\" + 0.027*\"black\" + 0.020*\"fire\" + 0.020*\"white\" + '\n",
      "  '0.016*\"trial\" + 0.016*\"cover\" + 0.015*\"medium\" + 0.013*\"vote\" + '\n",
      "  '0.012*\"minor\" + 0.012*\"title\"'),\n",
      " (1,\n",
      "  '0.021*\"god\" + 0.020*\"accept\" + 0.016*\"member\" + 0.015*\"man\" + '\n",
      "  '0.014*\"israeli\" + 0.014*\"season\" + 0.012*\"publish\" + 0.012*\"lebanese\" + '\n",
      "  '0.012*\"jewish\" + 0.011*\"brain\"'),\n",
      " (2,\n",
      "  '0.017*\"package\" + 0.016*\"press\" + 0.015*\"item\" + 0.015*\"break\" + '\n",
      "  '0.011*\"level\" + 0.010*\"edge\" + 0.009*\"hole\" + 0.007*\"eye\" + '\n",
      "  '0.007*\"equipment\" + 0.007*\"contribute\"'),\n",
      " (3,\n",
      "  '0.025*\"pc\" + 0.022*\"contain\" + 0.020*\"input\" + 0.020*\"reality\" + '\n",
      "  '0.017*\"picture\" + 0.016*\"object\" + 0.016*\"level\" + 0.015*\"box\" + '\n",
      "  '0.015*\"quality\" + 0.013*\"greek\"'),\n",
      " (4,\n",
      "  '0.089*\"ax\" + 0.076*\"max\" + 0.032*\"space\" + 0.021*\"launch\" + 0.018*\"di_di\" + '\n",
      "  '0.017*\"orbit\" + 0.016*\"sphere\" + 0.015*\"satellite\" + 0.014*\"plane\" + '\n",
      "  '0.014*\"mission\"'),\n",
      " (5,\n",
      "  '0.019*\"people\" + 0.017*\"kill\" + 0.015*\"child\" + 0.015*\"government\" + '\n",
      "  '0.012*\"attack\" + 0.012*\"year\" + 0.012*\"die\" + 0.011*\"country\" + 0.010*\"say\" '\n",
      "  '+ 0.009*\"war\"'),\n",
      " (6,\n",
      "  '0.035*\"window\" + 0.032*\"card\" + 0.020*\"image\" + 0.020*\"driver\" + '\n",
      "  '0.020*\"problem\" + 0.019*\"run\" + 0.018*\"sale\" + 0.018*\"machine\" + '\n",
      "  '0.017*\"color\" + 0.016*\"screen\"'),\n",
      " (7,\n",
      "  '0.025*\"people\" + 0.021*\"say\" + 0.014*\"reason\" + 0.014*\"believe\" + '\n",
      "  '0.012*\"may\" + 0.012*\"evidence\" + 0.010*\"make\" + 0.010*\"think\" + '\n",
      "  '0.009*\"many\" + 0.009*\"mean\"'),\n",
      " (8,\n",
      "  '0.032*\"book\" + 0.023*\"physical\" + 0.021*\"science\" + 0.017*\"choose\" + '\n",
      "  '0.016*\"explain\" + 0.015*\"create\" + 0.011*\"author\" + 0.011*\"earth\" + '\n",
      "  '0.010*\"study\" + 0.010*\"nature\"'),\n",
      " (9,\n",
      "  '0.033*\"mail\" + 0.028*\"file\" + 0.027*\"send\" + 0.026*\"program\" + '\n",
      "  '0.025*\"thank\" + 0.024*\"information\" + 0.021*\"software\" + 0.021*\"list\" + '\n",
      "  '0.019*\"include\" + 0.019*\"address\"'),\n",
      " (10,\n",
      "  '0.073*\"group\" + 0.031*\"week\" + 0.021*\"young\" + 0.017*\"drug\" + 0.015*\"watch\" '\n",
      "  '+ 0.013*\"nntp_posting\" + 0.013*\"age\" + 0.013*\"route\" + 0.011*\"kid\" + '\n",
      "  '0.010*\"capable\"'),\n",
      " (11,\n",
      "  '0.073*\"car\" + 0.023*\"existence\" + 0.022*\"model\" + 0.020*\"engine\" + '\n",
      "  '0.016*\"pain\" + 0.012*\"keyboard\" + 0.012*\"mile\" + 0.011*\"should\" + '\n",
      "  '0.011*\"price\" + 0.011*\"insurance\"'),\n",
      " (12,\n",
      "  '0.070*\"drive\" + 0.025*\"power\" + 0.024*\"player\" + 0.017*\"speed\" + '\n",
      "  '0.017*\"light\" + 0.014*\"high\" + 0.013*\"bus\" + 0.012*\"university\" + '\n",
      "  '0.012*\"fast\" + 0.012*\"scsi\"'),\n",
      " (13,\n",
      "  '0.040*\"line\" + 0.039*\"would\" + 0.035*\"write\" + 0.024*\"article\" + 0.021*\"be\" '\n",
      "  '+ 0.020*\"get\" + 0.020*\"know\" + 0.020*\"go\" + 0.014*\"good\" + 0.014*\"think\"'),\n",
      " (14,\n",
      "  '0.027*\"patient\" + 0.017*\"family\" + 0.014*\"food\" + 0.013*\"treatment\" + '\n",
      "  '0.012*\"disease\" + 0.012*\"doctor\" + 0.011*\"cd\" + 0.011*\"diagnosis\" + '\n",
      "  '0.011*\"risk\" + 0.010*\"cause\"'),\n",
      " (15,\n",
      "  '0.029*\"wire\" + 0.021*\"ground\" + 0.021*\"eat\" + 0.019*\"material\" + '\n",
      "  '0.018*\"seller\" + 0.018*\"controller\" + 0.016*\"signal\" + 0.016*\"trust\" + '\n",
      "  '0.015*\"lead\" + 0.015*\"expensive\"'),\n",
      " (16,\n",
      "  '0.042*\"gun\" + 0.025*\"right\" + 0.016*\"carry\" + 0.015*\"law\" + 0.014*\"state\" + '\n",
      "  '0.014*\"crime\" + 0.014*\"weapon\" + 0.014*\"shoot\" + 0.013*\"steal\" + '\n",
      "  '0.013*\"protect\"'),\n",
      " (17,\n",
      "  '0.028*\"use\" + 0.025*\"system\" + 0.016*\"also\" + 0.014*\"may\" + 0.014*\"number\" '\n",
      "  '+ 0.012*\"new\" + 0.009*\"work\" + 0.009*\"support\" + 0.008*\"bit\" + '\n",
      "  '0.008*\"need\"'),\n",
      " (18,\n",
      "  '0.043*\"team\" + 0.039*\"game\" + 0.036*\"year\" + 0.030*\"play\" + 0.024*\"win\" + '\n",
      "  '0.017*\"lose\" + 0.013*\"hit\" + 0.013*\"fan\" + 0.012*\"last\" + 0.012*\"hockey\"'),\n",
      " (19,\n",
      "  '0.054*\"key\" + 0.030*\"public\" + 0.021*\"government\" + 0.017*\"internet\" + '\n",
      "  '0.015*\"encryption\" + 0.015*\"technology\" + 0.014*\"chip\" + 0.014*\"security\" + '\n",
      "  '0.014*\"instal\" + 0.013*\"private\"')]\n"
     ]
    }
   ],
   "source": [
    "pprint(lda_model.print_topics())\n",
    "doc_lda = lda_model[corpus]\n",
    "#показывает не все слова, а 10 первых"
   ]
  },
  {
   "cell_type": "markdown",
   "metadata": {
    "id": "2otIMyDzGAZX"
   },
   "source": [
    "Смотрим на темы и инерпритируем"
   ]
  },
  {
   "cell_type": "markdown",
   "metadata": {
    "id": "pJ76RdQaHGxr"
   },
   "source": [
    "## Как нам понять, что наша модель хороша?"
   ]
  },
  {
   "cell_type": "markdown",
   "metadata": {
    "id": "vPe1vij8HPdx"
   },
   "source": [
    "Во-первых, можно использовать perplexity. Помните, что наша модель (1) и (2) основанная на теориях вероятности? Значит, можно использовать perplexity. In information theory, perplexity is a measurement of how well a probability distribution or probability model predicts a sample. It may be used to compare probability models. A low perplexity indicates the probability distribution is good at predicting the sample."
   ]
  },
  {
   "cell_type": "code",
   "execution_count": null,
   "metadata": {
    "colab": {
     "base_uri": "https://localhost:8080/",
     "height": 50
    },
    "id": "RltBn_fiH5N4",
    "outputId": "3ae43e12-62b6-46e0-f4dd-71a4c8b22d98"
   },
   "outputs": [
    {
     "name": "stdout",
     "output_type": "stream",
     "text": [
      "\n",
      "Perplexity:  -8.348722848931784\n"
     ]
    }
   ],
   "source": [
    "print('\\nPerplexity: ', lda_model.log_perplexity(corpus))  # a measure of how good the model is. lower the better."
   ]
  },
  {
   "cell_type": "markdown",
   "metadata": {
    "id": "pL1zW7m9IacN"
   },
   "source": [
    "Также можно посчитать - другую штуку --- coherence score, придуманную одним индийским мальчиком. Люди пишут, что она лучше работает https://rare-technologies.com/what-is-topic-coherence/"
   ]
  },
  {
   "cell_type": "code",
   "execution_count": null,
   "metadata": {
    "colab": {
     "base_uri": "https://localhost:8080/",
     "height": 50
    },
    "id": "lsvKbnffJEBB",
    "outputId": "7816f3ae-7e02-4c99-f724-0e4a38446e28"
   },
   "outputs": [
    {
     "name": "stdout",
     "output_type": "stream",
     "text": [
      "\n",
      "Coherence Score:  0.4392813747423439\n"
     ]
    }
   ],
   "source": [
    "coherence_model_lda = CoherenceModel(model=lda_model, texts=data_lemmatized, dictionary=id2word, coherence='c_v')\n",
    "coherence_lda = coherence_model_lda.get_coherence()\n",
    "print('\\nCoherence Score: ', coherence_lda)"
   ]
  },
  {
   "cell_type": "markdown",
   "metadata": {
    "id": "W_OitGpAIA9x"
   },
   "source": [
    "Также можно поработать головой самим.\n",
    "Заметьте, что тут нумерация начинается с 1."
   ]
  },
  {
   "cell_type": "code",
   "execution_count": null,
   "metadata": {
    "colab": {
     "base_uri": "https://localhost:8080/",
     "height": 861
    },
    "id": "_aXeFjA5F7xc",
    "outputId": "b94fe000-dc07-4a91-a613-428d76e2078d"
   },
   "outputs": [
    {
     "data": {
      "text/html": [
       "\n",
       "<link rel=\"stylesheet\" type=\"text/css\" href=\"https://cdn.rawgit.com/bmabey/pyLDAvis/files/ldavis.v1.0.0.css\">\n",
       "\n",
       "\n",
       "<div id=\"ldavis_el991399208597045602462860019\"></div>\n",
       "<script type=\"text/javascript\">\n",
       "\n",
       "var ldavis_el991399208597045602462860019_data = {\"mdsDat\": {\"x\": [-0.33866856750251, -0.3105671027861622, -0.22956546450890714, -0.1411224163282307, -0.05018401993579006, -0.022136582757079765, 0.020467865886021026, 0.04042053075214738, -0.051647748274137845, 0.023227400888704106, 0.06299112254399553, 0.11423352515506335, 0.05579931284708623, 0.11158255465161743, 0.12665873617088494, 0.09592497028040194, 0.13173679386915474, 0.10880686336062541, 0.12166896795308069, 0.13037325773403521], \"y\": [0.015796319963087314, -0.10209954301421627, 0.07660561859334697, -0.19223659266303852, 0.25383166461768875, 0.28592269171171986, -0.012451060659741584, -0.0009100903828713421, -0.014666830660166542, -0.12937682593000732, 0.06450885845208809, -0.004343798944824528, -0.14082127831543434, -0.040582798425033074, 0.0209379040408287, -0.07602273211897823, 0.017561386590854444, 0.029944749738475003, -0.03670586436269659, -0.014891778231081218], \"topics\": [1, 2, 3, 4, 5, 6, 7, 8, 9, 10, 11, 12, 13, 14, 15, 16, 17, 18, 19, 20], \"cluster\": [1, 1, 1, 1, 1, 1, 1, 1, 1, 1, 1, 1, 1, 1, 1, 1, 1, 1, 1, 1], \"Freq\": [24.176510182067595, 15.732317714490149, 12.43614396375775, 5.440729777456241, 4.782155321913831, 3.871378128081362, 3.304306026464964, 3.2465202239568565, 3.2415240390161677, 3.160994285829994, 2.908455108965682, 2.657394183748703, 2.3525798902860067, 2.1601163819850573, 2.0002654512969, 1.8965107501910747, 1.7522240498804287, 1.7427249420439939, 1.6325718953867683, 1.504577683180458]}, \"tinfo\": {\"Term\": [\"line\", \"write\", \"would\", \"people\", \"article\", \"drive\", \"be\", \"use\", \"year\", \"system\", \"ax\", \"key\", \"get\", \"group\", \"say\", \"go\", \"know\", \"max\", \"car\", \"problem\", \"right\", \"good\", \"team\", \"thank\", \"mail\", \"think\", \"window\", \"game\", \"file\", \"program\", \"be\", \"have\", \"lot\", \"will\", \"nntp_poste\", \"maybe\", \"like\", \"test\", \"ill\", \"distribution_usa\", \"pretty\", \"bike\", \"guess\", \"wonder\", \"pin\", \"nice\", \"sorry\", \"there\", \"worth\", \"anyway\", \"wait\", \"internal\", \"advice\", \"drop\", \"motif\", \"pull\", \"disclaimer\", \"personally\", \"laugh\", \"folk\", \"article\", \"get\", \"organization\", \"s\", \"hear\", \"money\", \"want\", \"write\", \"turn\", \"go\", \"line\", \"friend\", \"host\", \"look\", \"back\", \"sure\", \"would\", \"really\", \"much\", \"put\", \"know\", \"could\", \"good\", \"little\", \"try\", \"probably\", \"time\", \"bad\", \"take\", \"think\", \"see\", \"well\", \"make\", \"thing\", \"come\", \"still\", \"way\", \"say\", \"need\", \"reason\", \"believe\", \"claim\", \"sense\", \"faith\", \"agree\", \"rule\", \"religion\", \"argument\", \"prove\", \"matter\", \"understand\", \"mind\", \"truth\", \"atheist\", \"belief\", \"certainly\", \"church\", \"conclusion\", \"statement\", \"christian\", \"religious\", \"slave\", \"indeed\", \"sin\", \"logic\", \"therefore\", \"judge\", \"clearly\", \"argue\", \"evidence\", \"true\", \"person\", \"certain\", \"fact\", \"clear\", \"word\", \"people\", \"life\", \"exist\", \"mean\", \"talk\", \"say\", \"world\", \"view\", \"many\", \"point\", \"may\", \"must\", \"become\", \"even\", \"think\", \"make\", \"question\", \"law\", \"see\", \"would\", \"thing\", \"give\", \"come\", \"can\", \"know\", \"system\", \"add\", \"cheap\", \"hardware\", \"function\", \"currently\", \"device\", \"section\", \"field\", \"remove\", \"replace\", \"release\", \"block\", \"special\", \"secure\", \"period\", \"announce\", \"port\", \"nee\", \"mount\", \"operate\", \"recommend\", \"site\", \"development\", \"transfer\", \"external\", \"tool\", \"convince\", \"secret\", \"master\", \"build\", \"connect\", \"standard\", \"type\", \"support\", \"use\", \"service\", \"datum\", \"number\", \"require\", \"large\", \"design\", \"receive\", \"detail\", \"note\", \"new\", \"single\", \"bit\", \"provide\", \"base\", \"also\", \"high\", \"allow\", \"return\", \"order\", \"cost\", \"may\", \"possible\", \"work\", \"part\", \"need\", \"case\", \"call\", \"set\", \"first\", \"attack\", \"war\", \"soldier\", \"murder\", \"village\", \"visit\", \"terrorist\", \"turkish\", \"withdraw\", \"population\", \"gift\", \"president\", \"town\", \"house\", \"armenian\", \"door\", \"civilian\", \"male\", \"justify\", \"education\", \"minority\", \"somehow\", \"girl\", \"inhabitant\", \"border\", \"restraint\", \"role\", \"victim\", \"islamic\", \"escape\", \"country\", \"national\", \"kill\", \"military\", \"die\", \"burn\", \"child\", \"woman\", \"american\", \"city\", \"fight\", \"government\", \"death\", \"force\", \"live\", \"people\", \"year\", \"say\", \"state\", \"today\", \"area\", \"place\", \"mail\", \"software\", \"address\", \"email\", \"com\", \"copy\", \"info\", \"entry\", \"appreciate\", \"server\", \"distribution\", \"faq\", \"connection\", \"library\", \"select\", \"client\", \"update\", \"mine\", \"byte\", \"winner\", \"welcome\", \"frame\", \"localtalk\", \"shipping\", \"travel\", \"guilty\", \"variable\", \"conference\", \"beautiful\", \"educational\", \"ca\", \"list\", \"send\", \"advance\", \"originator\", \"page\", \"file\", \"information\", \"request\", \"program\", \"source\", \"thank\", \"include\", \"news\", \"available\", \"network\", \"name\", \"computer\", \"post\", \"message\", \"interested\", \"line\", \"window\", \"card\", \"image\", \"color\", \"screen\", \"memory\", \"disk\", \"tape\", \"display\", \"graphic\", \"monitor\", \"video\", \"mouse\", \"apple\", \"convert\", \"processor\", \"font\", \"blind\", \"resolution\", \"accelerator\", \"map\", \"este\", \"compatible\", \"egg\", \"default\", \"string\", \"setup\", \"icon\", \"utility\", \"specification\", \"sale\", \"mode\", \"machine\", \"driver\", \"version\", \"character\", \"application\", \"run\", \"error\", \"problem\", \"offer\", \"set\", \"user\", \"bit\", \"use\", \"program\", \"computer\", \"file\", \"key\", \"internet\", \"encryption\", \"security\", \"instal\", \"ripem\", \"clipper\", \"private\", \"encrypt\", \"tap\", \"market\", \"communication\", \"rational\", \"tax\", \"crash\", \"ram\", \"federal\", \"ensure\", \"pgp\", \"proposal\", \"illegal\", \"random\", \"privacy\", \"predict\", \"manage\", \"sequence\", \"amendment\", \"hint\", \"scheme\", \"corporation\", \"public\", \"pro\", \"step\", \"solution\", \"technology\", \"government\", \"chip\", \"access\", \"message\", \"information\", \"issue\", \"book\", \"physical\", \"science\", \"choose\", \"author\", \"nature\", \"revelation\", \"scientific\", \"direct\", \"theory\", \"animal\", \"objective\", \"translation\", \"benefit\", \"language\", \"topic\", \"statistic\", \"specifically\", \"energy\", \"attitude\", \"principle\", \"contradict\", \"prize\", \"cry\", \"daughter\", \"scientist\", \"element\", \"pattern\", \"implementation\", \"explicitly\", \"student\", \"earth\", \"explain\", \"create\", \"son\", \"study\", \"consistent\", \"research\", \"examine\", \"describe\", \"purpose\", \"concern\", \"necessarily\", \"define\", \"team\", \"game\", \"play\", \"hit\", \"fan\", \"hockey\", \"score\", \"wing\", \"cpu\", \"playoff\", \"average\", \"defense\", \"rider\", \"upgrade\", \"stat\", \"award\", \"coach\", \"king\", \"yesterday\", \"talent\", \"ball\", \"blue\", \"clock\", \"tie\", \"club\", \"offense\", \"weekend\", \"rock\", \"soul\", \"pitch\", \"win\", \"division\", \"trade\", \"goal\", \"lose\", \"year\", \"pick\", \"boy\", \"last\", \"final\", \"run\", \"next\", \"first\", \"great\", \"good\", \"point\", \"throw\", \"god\", \"israeli\", \"season\", \"publish\", \"lebanese\", \"jewish\", \"brain\", \"society\", \"respect\", \"practice\", \"pen\", \"terrorism\", \"evil\", \"hide\", \"interpretation\", \"homosexual\", \"sex\", \"marriage\", \"impact\", \"imply\", \"gay\", \"arab\", \"northern\", \"acquire\", \"economic\", \"compromise\", \"western\", \"penguin\", \"neutral\", \"aid\", \"accept\", \"member\", \"community\", \"shall\", \"assumption\", \"man\", \"exactly\", \"necessary\", \"state\", \"history\", \"whole\", \"right\", \"force\", \"drive\", \"player\", \"bus\", \"university\", \"scsi\", \"switch\", \"cool\", \"printer\", \"baseball\", \"air\", \"hot\", \"star\", \"foot\", \"cycle\", \"stick\", \"helmet\", \"ice\", \"slip\", \"water\", \"tube\", \"jumper\", \"electronic\", \"oil\", \"cold\", \"cap\", \"gas\", \"saturn\", \"remind\", \"maxtor\", \"deliver\", \"light\", \"blow\", \"speed\", \"power\", \"performance\", \"compare\", \"fast\", \"slow\", \"high\", \"low\", \"ride\", \"ever\", \"head\", \"extra\", \"driver\", \"rate\", \"package\", \"press\", \"item\", \"edge\", \"hole\", \"contribute\", \"extremely\", \"slightly\", \"promise\", \"fun\", \"pad\", \"mac\", \"miracle\", \"negative\", \"violence\", \"registration\", \"finish\", \"fool\", \"professional\", \"pitcher\", \"detailed\", \"audio\", \"detect\", \"wind\", \"vertical\", \"essentially\", \"storage\", \"mhz\", \"bend\", \"differential\", \"equipment\", \"break\", \"degree\", \"level\", \"eye\", \"overall\", \"due\", \"gun\", \"weapon\", \"steal\", \"firearm\", \"tv\", \"cop\", \"beat\", \"review\", \"blank\", \"militia\", \"headache\", \"shell\", \"rsa\", \"specify\", \"patent\", \"permit\", \"shot\", \"export\", \"glock\", \"sink\", \"gang\", \"floor\", \"distance\", \"truck\", \"usage\", \"sky\", \"knife\", \"rush\", \"islander\", \"park\", \"criminal\", \"shoot\", \"crime\", \"police\", \"carry\", \"protect\", \"right\", \"arm\", \"rate\", \"law\", \"state\", \"keep\", \"stop\", \"group\", \"young\", \"nntp_posting\", \"route\", \"kid\", \"waste\", \"fax\", \"link\", \"dangerous\", \"btw\", \"conversation\", \"planet\", \"tomorrow\", \"telephone\", \"dream\", \"direction\", \"taste\", \"relevant\", \"funny\", \"buyer\", \"warrant\", \"advocate\", \"wisdom\", \"decade\", \"newspaper\", \"gold\", \"contrary\", \"opponent\", \"imho\", \"warning\", \"week\", \"drug\", \"watch\", \"capable\", \"age\", \"recent\", \"laboratory\", \"issue\", \"environment\", \"discussion\", \"primarily\", \"pc\", \"input\", \"reality\", \"picture\", \"object\", \"box\", \"quality\", \"greek\", \"generate\", \"tumor\", \"interface\", \"ide\", \"digital\", \"status\", \"workstation\", \"mirror\", \"unlikely\", \"unix\", \"management\", \"technique\", \"anywhere\", \"algorithm\", \"expansion\", \"universe\", \"drink\", \"manufacturer\", \"manufacture\", \"routine\", \"shape\", \"compression\", \"contain\", \"scan\", \"level\", \"sample\", \"method\", \"original\", \"patient\", \"family\", \"food\", \"treatment\", \"disease\", \"doctor\", \"cd\", \"diagnosis\", \"medical\", \"wave\", \"ticket\", \"syndrome\", \"health\", \"neurologist\", \"dn\", \"father\", \"liar\", \"immediate\", \"msg\", \"diagnose\", \"spring\", \"eeg\", \"modem\", \"researcher\", \"migraine\", \"surrender\", \"probability\", \"confirm\", \"optional\", \"estimate\", \"adult\", \"blood\", \"risk\", \"cause\", \"effect\", \"study\", \"serious\", \"ax\", \"max\", \"launch\", \"di_di\", \"orbit\", \"sphere\", \"satellite\", \"plane\", \"flight\", \"prediction\", \"moon\", \"shuttle\", \"realistic\", \"lunar\", \"velocity\", \"investigation\", \"solar\", \"horse\", \"wide_range\", \"univ\", \"specifie\", \"film\", \"distant\", \"straightforward\", \"pot\", \"scare\", \"farin\", \"consultation\", \"comet\", \"vat\", \"mission\", \"space\", \"fuel\", \"car\", \"existence\", \"engine\", \"pain\", \"keyboard\", \"mile\", \"should\", \"motorcycle\", \"prayer\", \"battery\", \"observation\", \"accident\", \"morality\", \"sight\", \"cross\", \"arrogance\", \"up\", \"thinking\", \"leg\", \"honor\", \"tongue\", \"freenet\", \"national_capital\", \"react\", \"enjoyable\", \"luxury\", \"cure\", \"jungle\", \"necessarilly\", \"mechanic\", \"insurance\", \"auto\", \"concept\", \"model\", \"dealer\", \"vehicle\", \"mid\", \"pound\", \"safety\", \"race\", \"price\", \"ride\", \"owner\", \"sound\", \"report\", \"black\", \"white\", \"trial\", \"medium\", \"vote\", \"minor\", \"title\", \"past\", \"smoke\", \"ethnic\", \"benign\", \"tank\", \"devil\", \"canadian\", \"wise\", \"trace\", \"brother\", \"assist\", \"echo\", \"channel\", \"advertising\", \"penalty\", \"injury\", \"surveillance\", \"mass\", \"correctly\", \"occupant\", \"revolver\", \"blanking\", \"fire\", \"strange\", \"cover\", \"schedule\", \"table\", \"official\", \"begin\", \"wire\", \"eat\", \"material\", \"seller\", \"controller\", \"signal\", \"trust\", \"expensive\", \"sensitive\", \"circuit\", \"damage\", \"decent\", \"metal\", \"insert\", \"noise\", \"configuration\", \"dept\", \"own\", \"fair\", \"contest\", \"timer\", \"few\", \"voltage\", \"struggle\", \"biker\", \"tire\", \"fold\", \"surgery\", \"stock\", \"unusual\", \"firm\", \"ground\", \"seat\", \"purchase\", \"lead\", \"condition\", \"stop\"], \"Freq\": [11975.0, 10060.0, 12046.0, 5647.0, 6479.0, 2284.0, 5686.0, 4580.0, 3537.0, 3512.0, 1769.0, 2027.0, 5394.0, 1780.0, 6428.0, 5622.0, 6321.0, 1498.0, 1438.0, 3003.0, 2638.0, 4558.0, 1575.0, 2494.0, 1764.0, 5551.0, 1542.0, 1439.0, 1855.0, 2036.0, 5685.1370493445365, 2113.276554916175, 1414.063231341499, 1338.8652811552613, 1087.4676154421104, 1070.9283705962844, 886.7270596832534, 826.3645998376646, 693.0355450775406, 667.8845413281118, 662.9474922085622, 619.3213727366868, 616.4400662014635, 606.8509016132896, 570.1353288878295, 469.6336116173427, 412.6718600012363, 412.04745933501005, 401.8726966667999, 390.9786719730046, 362.9055252237708, 349.44118671257013, 340.28981444819163, 335.1696209353468, 317.59338412394527, 307.5177094686267, 303.1944149330971, 297.0836273054855, 292.7429812449274, 274.9445749985916, 6443.290643299464, 5343.509546722309, 2885.457172551083, 2819.207143231363, 1499.550826545723, 900.710100743016, 3293.4841945548155, 9678.710660591218, 941.1868230841729, 5327.879191282736, 11036.734313491108, 620.3912563293769, 3447.1968421144193, 2735.199575909238, 1753.3914344420043, 1834.2303463473902, 10541.844921607819, 2085.575639691957, 2489.3285933731063, 1352.705442258013, 5329.776799822114, 3297.681102615916, 3888.6727739118764, 1386.588839323147, 2518.055600245895, 1325.567529996074, 3580.5638414182868, 1441.223389148346, 2680.102572984745, 3854.832850997363, 3150.652287920762, 2370.9672946077862, 3701.778417332246, 2244.0395542917763, 2223.0987423716933, 1663.1674449333032, 1897.4622272513514, 2125.8646096340876, 1882.131741757143, 2467.6809006644507, 2424.626605258865, 1516.4181269300607, 1298.5654932346908, 1056.0647324408571, 931.1851071328521, 789.1416668053894, 788.4359102137153, 751.3022111570598, 714.666065534408, 714.0717311331915, 705.4001564709341, 660.5009842177031, 646.822731596472, 637.536184198537, 622.9461638755093, 557.0876669531875, 517.9797602435561, 492.2219607731621, 476.47648323602294, 472.15939034813357, 467.14791470018696, 465.1086487303626, 421.67839649060426, 393.6257713938015, 369.83535527741316, 362.309973326423, 340.48665104832656, 325.7175238968739, 322.1902298764604, 2088.875562742541, 1165.2706387493788, 1141.993409915544, 499.3296129084052, 1511.277651351885, 616.857524334363, 876.9856975243581, 4487.4376473118455, 886.5924079424613, 1115.9817465234612, 1554.4143346577646, 994.8141262613276, 3665.241475139653, 927.9980354356402, 723.978627987205, 1649.7913988144476, 1453.1020329289063, 2185.6643055201234, 1108.1942701326304, 811.7525131846382, 1294.3844727323271, 1694.609920261668, 1709.7213170260134, 1163.0798319830299, 889.0675191398444, 1165.017353859118, 1479.3912178124408, 1056.707043731803, 981.4610825055637, 990.3344082610107, 956.5396525731933, 990.327129008776, 3511.8530537471706, 757.3934100964434, 688.3202241714376, 634.7357877515591, 537.1044863564126, 528.026133857552, 521.7914667269372, 517.1438937514188, 480.2599746713019, 476.9800868842753, 467.43198799409083, 458.39224702697805, 451.2923677234795, 376.6728199835982, 368.6622512500936, 364.7335197212649, 360.5505274960744, 354.4111958663713, 346.6828084457507, 342.07646251640847, 335.590313673512, 333.6787976475146, 333.6417554244237, 324.90299478014833, 318.1393725503389, 316.9489211582952, 312.99390370946196, 308.52245293675963, 308.054112384441, 299.1652212119808, 1058.236418426322, 441.8046218287282, 683.9078513308846, 959.1126064165928, 1303.6031233624674, 3903.550925221688, 617.019469995704, 721.9944493329975, 1924.1230670932953, 949.4011359564303, 981.1743398436364, 631.8118387842947, 830.3886252945554, 433.3841692903777, 783.6349317435026, 1688.1607712234293, 660.3702484998086, 1153.6832748648774, 1049.8194968324497, 907.1403077024618, 2210.76383207747, 1037.1559606249184, 848.9396844802045, 673.7006754986973, 990.2426553058783, 741.0546837899772, 1997.3349776617924, 820.1992349604805, 1307.5108326940788, 870.9959253269485, 1070.359458577244, 869.1755926727079, 867.0120391376129, 758.909100707647, 703.3483161978794, 743.2781837878143, 568.4358923167116, 534.9629606663694, 466.06811938135047, 464.35652022152794, 358.7788409062135, 324.6744438217571, 321.433928217626, 291.8154702735694, 275.1593608135531, 273.06345855316476, 264.80511847672807, 259.92157409628317, 248.8950730976078, 247.75283411424516, 237.0506621614731, 234.07819181953508, 228.4774761772779, 212.62949314568462, 189.22708207011507, 187.65177977813877, 177.73254600903402, 173.07573874151785, 161.12456740853105, 160.6312153709876, 155.96086280660396, 154.51115845738738, 151.84478035722802, 151.19999848025884, 150.545790678648, 687.6497235425013, 269.2456587023894, 1067.7829323592694, 416.15248463768995, 720.2901415087086, 214.077752853947, 911.6250262478644, 468.3991691396286, 328.85254570853266, 402.9406852799759, 271.8210959393138, 892.742911021328, 566.0168481906101, 453.1796049231075, 551.7769221815386, 1156.9932015513928, 722.1352197713479, 637.0165170425066, 329.71372335773873, 292.2348166448062, 298.0621263662343, 276.2003032896131, 1763.3016664989464, 1145.6901111383381, 1032.6078067868357, 929.8603064909771, 874.953164923755, 823.6527850856723, 796.5272937410188, 775.5514312178285, 593.9693182187178, 570.3545886570096, 502.4969085127807, 484.5172098419946, 346.7751393222581, 333.1062355114213, 282.62650686345916, 281.60666458540015, 281.434126180271, 262.67234727731653, 230.32770746972642, 197.10717501528757, 194.0451463490922, 180.0829121631115, 171.77988486288413, 157.18902452321132, 151.1410530570288, 134.00831881462724, 132.77744260560797, 120.57338029958284, 115.78078790977581, 114.88213990637769, 592.2858744267896, 1131.067443587577, 1452.2015957095748, 559.0331324566163, 330.6691745410419, 476.6858470233493, 1530.0168690155758, 1295.5354163621514, 354.0832295164289, 1413.680724685793, 918.3528849678884, 1338.7586252427748, 1038.1653437452878, 488.32939838108814, 646.9262880135963, 378.42675908872735, 668.0000614300499, 583.6964690785851, 720.4721535501234, 575.6568633174625, 456.36850691787026, 937.7656933645189, 1541.288742398227, 1402.9264455887824, 891.770960798118, 759.5176077841634, 680.4048763077446, 677.2473252959892, 657.5146771776825, 596.3406019881729, 596.0434149691064, 577.5022018234025, 532.1490200808239, 494.71957705646776, 305.4034462879343, 287.73484343814556, 265.8231020354469, 242.46558649554032, 238.81897963994294, 213.4934957308332, 210.70447697799537, 168.42641755993196, 167.6808954252183, 166.01340145203906, 161.67136679418846, 160.35653814284734, 154.85937214585329, 151.89018885152524, 151.59356160252892, 147.1053760681785, 144.49329554569925, 135.6382622729337, 794.327896827881, 498.6744034903326, 788.4346375292421, 885.7965246616684, 620.1250897823218, 391.8514658295485, 458.61794934908045, 843.0168196620033, 354.87154870444334, 872.1544191700001, 345.42511326373545, 524.2559364071709, 329.0849974549997, 412.4861376165477, 538.0746442671557, 416.80300297651644, 344.92095380563694, 324.79650734876924, 2026.9344805284795, 628.8296804700777, 574.8065908532283, 527.1536975369611, 521.9279745905795, 472.1229348693837, 431.2738847389777, 487.7055909258394, 405.5323901952824, 328.68772980962774, 282.69812247929997, 245.95653881406685, 245.08679535557567, 237.79157256809845, 231.38245923935006, 223.11820245053838, 217.92821715011112, 202.33975828677714, 192.57415552074738, 190.4995304460316, 178.86472891824826, 175.03432042100562, 165.1964084267495, 161.7643261369903, 161.0523182582846, 159.11689105395558, 153.2876414448812, 149.89096670128376, 144.25670182752523, 143.4912525297844, 1111.064822887595, 273.09227063915716, 234.14426521364237, 450.5431300251945, 548.589752608362, 767.8871715766595, 531.2074272306529, 336.51651547746536, 487.3980421612879, 293.6196304765543, 219.6400104318717, 1163.028282762361, 834.2235926488387, 755.1508271283068, 612.3698608452494, 394.9475282966732, 353.58491142330865, 347.5105740182803, 322.3991977742584, 321.167642815742, 315.8046398653249, 261.28259162928066, 244.7926463298169, 219.53655196556576, 205.57258481111367, 197.52108175027996, 192.11591629019475, 189.08241760370427, 183.51995354985723, 173.41324151572726, 169.463399572555, 165.48592155523184, 159.66580530667605, 143.43788208146557, 139.04108339612728, 136.80385016297433, 135.7271528108179, 132.2871955822374, 131.72669025128093, 129.35945310167762, 129.19032510742997, 243.50028859420013, 386.7547552236884, 587.484625867658, 538.6374636646811, 213.33104989483294, 361.82548005381204, 223.92309167587953, 315.05059666610236, 195.06268310963105, 252.63948198541954, 238.64166533433914, 206.52098523101682, 190.15566684778258, 191.05046796389712, 1574.8340152196097, 1438.354948935079, 1092.977108436872, 476.60704329317747, 464.8889053969858, 446.24579352313236, 440.5784306794906, 382.02332817809327, 377.45660516494905, 325.43004314284923, 282.78307042233354, 224.49730749852225, 205.156363588683, 190.42797285867331, 176.84744969879864, 171.3174580502049, 166.007260313688, 161.21818685257898, 153.45569171801156, 152.93697058633836, 151.14817946908425, 149.30590562105337, 148.00710017209144, 147.6157967890757, 139.58307581114772, 136.93197366066082, 135.65606625146899, 133.31191032148047, 132.51308659613278, 124.76234300486382, 879.8748438290171, 371.8142281987193, 311.66981255362145, 362.41197094559504, 617.2299133806885, 1314.8891275404505, 234.56300285815257, 185.79074058573835, 451.204246008607, 205.25262568665212, 433.30034796497955, 290.96623501548345, 353.19173904769565, 253.8056564848849, 298.8427516506552, 228.7456224886036, 186.71129802828582, 749.8798373912863, 502.15820557798753, 496.2466154922352, 438.5501092066501, 421.2561387296904, 411.83018339458334, 374.8706791252971, 337.45894040831143, 336.0388810301293, 278.85480739766695, 264.89434163129437, 255.83660585476068, 242.77319639416282, 215.1666683545133, 200.17694956068277, 195.86647883375346, 193.6660865061433, 191.897685276093, 189.73801233094753, 187.10782276638375, 179.01046609039636, 176.21138249946281, 161.3152351845205, 147.96145497655928, 147.78970228333893, 137.11684466646125, 134.03709649933143, 127.44791926921093, 126.07559297937105, 119.44132526572949, 715.870543792424, 555.3213648432346, 340.9190242278174, 338.69444957307, 193.153254969274, 525.1468066228654, 241.93228297572105, 222.49727074861292, 303.35893399741144, 208.34746816385768, 202.1638559830853, 204.39988192539107, 194.57805109194692, 2283.443856977268, 796.8273921254101, 414.5522764247011, 406.23746783376066, 397.96608946918184, 309.4725684806501, 303.45610581956896, 275.44700471426995, 265.7888869880966, 258.65816375884054, 258.0151211466898, 252.24728123919593, 245.01232546667194, 214.99833830611945, 195.10853331146734, 188.56424047675964, 181.65198351996938, 180.91822678712236, 180.1683978120549, 178.19005924728162, 176.2046862092244, 170.9153587007034, 158.56398583144406, 155.1622521823336, 151.93332189867624, 142.3905542420261, 140.20983693934073, 138.69253163666306, 129.97426541822264, 129.06507503860766, 544.9585655488897, 184.26019799798587, 569.1740363814971, 819.2572077918911, 299.12718271463655, 395.98594640908794, 402.48540212277715, 370.66612444023616, 450.2014577943457, 326.32331280097816, 229.73285309297592, 255.95928103712748, 221.4341779135888, 190.68384961587415, 221.6892846164639, 200.07892391822818, 522.2088170609386, 465.7710780421639, 463.58916635598246, 290.50622739307687, 263.47511370220195, 200.41725119111487, 194.17440727968284, 181.16252328557394, 181.03857516462034, 178.08561702294307, 174.75437329602195, 170.8615974945879, 166.59246428294006, 165.4846997836091, 159.21333844292826, 157.7946487338599, 156.52850840869093, 149.34872512776434, 148.82068461518642, 146.2574274138222, 141.44352886705315, 138.95055224830608, 138.23761651708548, 138.19671964525241, 137.93307664059978, 133.2932028764344, 130.25483216983892, 129.3123597763451, 128.91194209510414, 125.26668528394097, 200.59320414874858, 441.48001284725655, 169.4473230268927, 328.9426640541076, 208.89478010096389, 146.62031554339126, 167.1306067560015, 1106.9160097234455, 378.2066047277222, 357.03748846411247, 296.8769832111053, 294.32820173254044, 279.84544973948033, 276.5413308111111, 238.5340427130987, 219.39391246238375, 209.48447490363128, 191.01142498388876, 190.92299469061203, 185.72698206161354, 181.4591226087265, 171.29064081975977, 169.78585385127428, 155.46586109711967, 154.5485065846018, 147.14433424035664, 129.8784215272982, 127.98709682841613, 126.95965284741834, 123.36482350464289, 122.80339195460162, 108.64087661878611, 105.18960889074978, 96.53921139370856, 92.48683661336699, 91.70854736482505, 91.40955550107644, 283.51600579304613, 377.0014590271533, 380.42106057099767, 319.24263593145673, 424.56025784572324, 348.1939396131034, 675.8713090098095, 186.90716590292482, 314.01910093533826, 410.78999499698267, 382.65911761717877, 254.12699133256456, 196.54891287882626, 1779.5101127030478, 504.8163981820813, 315.1260365501598, 309.7781500513317, 275.07382371589966, 235.2941945175495, 219.06563245470616, 209.3947966433747, 200.04590482135595, 197.3073251772767, 170.66020767449766, 168.18551170528235, 156.83479973409473, 150.4754916542224, 147.29332757330556, 138.20743352933405, 138.00689147686472, 135.45173790444997, 132.15984755242783, 128.24144642856947, 123.32136858865066, 121.40111909252786, 120.4043602395653, 120.09335366864345, 119.64042188462443, 119.62989334168739, 115.74709845526978, 114.40873551825446, 112.78498887209281, 111.19282785474225, 745.1454850385252, 416.60215503917726, 362.50784163161717, 246.1824797080672, 310.6289971555219, 192.3115258748324, 142.92621971178477, 230.87990697171327, 147.55727939407845, 172.09099917938948, 131.0129859772908, 560.5422302795371, 445.45983056679944, 440.99524851905534, 390.9329997600324, 362.94373113828783, 347.70964797810757, 347.02153037681336, 304.5778376708063, 261.83455277199994, 250.83270627153738, 248.1117663513009, 237.9893658650864, 237.71417351386881, 204.39423363996343, 189.13169100938666, 181.44750779625468, 156.85415022967146, 152.71492744881058, 151.39356033826152, 146.01753903571273, 145.9649636874082, 144.9192411665198, 144.00565640840367, 141.44567130522114, 139.38837552448558, 126.61922325705045, 125.34582497299009, 125.1287189687791, 116.62565814125618, 115.95216992773784, 489.9827263251001, 254.54625698852985, 352.0546918364479, 162.14022866790728, 225.01073254393455, 238.38062573858625, 577.2578216255591, 355.09648886565566, 297.3024248844239, 273.52717745125454, 264.36535205001206, 250.0108736286019, 245.51769143804407, 238.20963425035313, 171.1924591535291, 165.1849334859562, 156.3248100979529, 153.03285184059322, 150.2052729710095, 143.46797265249435, 133.17305955075017, 122.09945092032206, 119.7372386311144, 119.3474571003269, 113.90352866266804, 113.15540618966206, 110.67130054343973, 137.52661880406, 109.83183782581217, 104.09957934740731, 101.03493465078931, 100.59039883144101, 100.46009937986128, 99.99237949187267, 98.60976141130428, 98.0212649902527, 147.17430251086387, 155.96956036488646, 232.70865804637546, 221.28019854857794, 136.25138534077655, 117.13108008159858, 109.67220180221533, 1768.6188314890494, 1497.1994582351745, 425.0181611823531, 349.8745089752898, 329.2739115073225, 317.74399064665585, 287.90918583885207, 272.94467737098086, 254.67237058836463, 182.09039275772832, 180.45657793821093, 167.8967359175343, 142.92467175941604, 139.22468528955466, 125.32681178277257, 123.10172511239982, 122.54494672986074, 119.7161506599609, 118.45128881204133, 117.17390649845888, 109.17183643403679, 109.0699959429128, 107.27043005809674, 105.06553828156729, 97.62983733166003, 93.94285961640936, 93.25534877783181, 88.39436781095836, 86.01571887298523, 84.47336149470068, 268.7218255679586, 634.1104536804241, 131.28072160992713, 1437.4868263756698, 449.7977791470191, 392.5952168896434, 316.57724003238116, 237.15374093913738, 227.34309751295697, 222.73686703779163, 212.65263315231277, 202.09739997723455, 201.45474003841227, 171.89306091856668, 146.16263783870573, 139.82693594382627, 130.26403400227483, 129.43059012102333, 126.87932106139228, 112.7792780700593, 110.78276777448832, 107.83889851326637, 94.69899694758574, 92.53330002730827, 81.00231158296312, 80.9651645630021, 79.65533351653771, 78.82672772767381, 75.09431813017295, 70.54908610391743, 70.40287125499837, 70.38453598441575, 67.2509777656894, 213.57641558062784, 95.57774296664863, 177.3443631902106, 431.7691776477769, 205.52348410586353, 181.20523421996194, 92.10872993113327, 97.09997359937256, 188.0304081208299, 158.5910924209545, 217.48323016195403, 134.1345354015326, 121.0415853233409, 106.15709329923483, 939.7265863826902, 492.9908102589153, 366.88078672101483, 299.7042586784534, 284.0083570260001, 243.5778640478437, 228.83480755589562, 218.95086309043157, 192.28726762209055, 168.98951502045728, 161.64873423732178, 152.6660458057131, 151.60662317491102, 144.50880056826412, 136.61160401498424, 135.78614365306194, 124.58196390719046, 119.36547915028851, 118.16745258803641, 115.98129252922962, 115.5656781641496, 114.14339770277496, 113.65921529382162, 113.29234020679779, 109.34097362843661, 107.5204954971521, 100.89093219963569, 91.37209454164638, 88.27357090657405, 86.36902224177734, 377.6406476027186, 138.75656144352163, 287.6883871162746, 125.98523107147201, 146.34022314821397, 141.88482822731967, 141.01549564804176, 496.5102641885883, 351.42406863036734, 326.9137210094888, 311.7783301824583, 299.90912927987904, 277.14633155114865, 272.53595280497285, 247.86115335362507, 202.6639077939638, 192.53282698836625, 175.8188631355924, 160.7774854677545, 144.94884647795317, 136.6517659013985, 134.626179448077, 133.66405554863175, 128.39416863665218, 125.4086179601274, 111.2102892950529, 108.87798134995957, 102.13362097146047, 90.69563542519482, 90.69475731507447, 90.00648510965236, 89.45053856173743, 89.24981524566586, 86.95033754381129, 86.30965732473241, 79.42343074093193, 72.76086117805826, 155.65099947606143, 355.02438341106733, 121.90916717973927, 167.23586673948708, 254.01912603337001, 153.88286541694768, 136.93859938557944], \"Total\": [11975.0, 10060.0, 12046.0, 5647.0, 6479.0, 2284.0, 5686.0, 4580.0, 3537.0, 3512.0, 1769.0, 2027.0, 5394.0, 1780.0, 6428.0, 5622.0, 6321.0, 1498.0, 1438.0, 3003.0, 2638.0, 4558.0, 1575.0, 2494.0, 1764.0, 5551.0, 1542.0, 1439.0, 1855.0, 2036.0, 5686.113601543539, 2114.253107110681, 1415.039783536004, 1339.8418333497664, 1088.4441676366155, 1071.9049227907894, 887.7036118777585, 827.3411520509019, 694.0120972720457, 668.8610935226169, 663.9240444030672, 620.2979249356661, 617.4166184004671, 607.8274538077947, 571.1118811393306, 470.6101638118479, 413.6484122007903, 413.02401152951523, 402.8492488613051, 391.9552241675098, 363.88207741827597, 350.41773892876733, 341.2663666469384, 336.1461731335855, 318.56993633868495, 308.4942616631319, 304.1709671318439, 298.0601795139661, 293.7195334455713, 275.92112719309677, 6479.324795420701, 5394.193698862736, 2904.3128951520107, 2862.8116969971024, 1514.1174518140167, 910.4805598064112, 3379.977882766256, 10060.3963077732, 955.8229213511437, 5622.50366599445, 11975.422289551308, 630.0060416631011, 3698.8418227723487, 2914.5403163169244, 1843.456320405395, 1943.1463615122318, 12046.493328847668, 2230.507040766216, 2716.5036341911004, 1433.2848066924341, 6321.032157710401, 3779.2507211288316, 4558.420053993831, 1480.0154060913753, 3072.5713761051816, 1435.188924625704, 4685.846693880648, 1588.8700584396404, 3424.214686255465, 5551.48399147855, 4330.076216792823, 3118.190976810832, 5896.98771884671, 3301.674826903094, 3430.0994805172068, 1966.470269832353, 2944.5888347028963, 6428.995672538136, 3218.1208777185134, 2468.661525716316, 2425.6072303065625, 1517.398751977757, 1299.5461182910287, 1057.045357492721, 932.1657321880981, 790.1222918633855, 789.4165352614116, 752.2828362047561, 715.6466907235566, 715.0523561851295, 706.3807815186304, 661.4816092702685, 647.8033566441683, 638.5168092462333, 623.9267889232057, 558.0682920008838, 518.9603852912525, 493.202585825026, 477.45710828371944, 473.14001539583006, 468.12853974788345, 466.0892739434236, 422.65902153830075, 394.60639644149796, 370.8159803827338, 363.2905983831798, 341.46727610216175, 326.6981489445704, 323.17085493594817, 2108.7081062051802, 1196.6156724685015, 1174.9367316082507, 505.55234200075483, 1603.4983409547094, 637.9764769560711, 934.0231809671084, 5647.883908724911, 959.349134800828, 1277.1063781886596, 2034.1822189720062, 1206.9565356146873, 6428.995672538136, 1109.9101618437687, 818.188201583411, 2872.2717066182504, 2658.1276278666587, 5440.888149648158, 1695.7955227159819, 1033.712580586434, 2928.5907054667678, 5551.48399147855, 5896.98771884671, 2442.993119989011, 1328.6336271472505, 4330.076216792823, 12046.493328847668, 3301.674826903094, 3003.965803399172, 3430.0994805172068, 2632.5967281814715, 6321.032157710401, 3512.827769938931, 758.3681259055473, 689.2949399944252, 635.7105035852178, 538.0792021730663, 529.0008499367581, 522.7661825360411, 518.1186095727013, 481.2346904981565, 477.95480270608755, 468.40670380692836, 459.3669628360821, 452.26708353682517, 377.64753579270223, 369.6369670634393, 365.70823553453, 361.52524332642105, 355.38591167547537, 347.65752425485476, 343.05117837394624, 336.5650294963064, 334.65351347003417, 334.61647123352776, 325.87771059824945, 319.114088359443, 317.92363698510036, 313.96861952306455, 309.4971687859642, 309.02882819778665, 300.1399370518098, 1080.4272348086631, 446.29175838302154, 706.821008063428, 1007.2947917108769, 1412.1152295432296, 4580.843576048925, 644.3911735551707, 771.2934357837224, 2269.4365554552346, 1055.2451280050127, 1118.0783735896998, 691.9641879453625, 950.1763444599939, 450.7344162283076, 941.1617846236196, 2517.786315052977, 772.5723065759518, 1603.9157205171887, 1449.8057211716598, 1190.425005468486, 4347.151956814241, 1506.7620085248523, 1140.204657508519, 810.4368426363814, 1498.9321910437043, 953.5051245437884, 5440.888149648158, 1226.8941428419596, 3428.779118218141, 1690.8561108588249, 3218.1208777185134, 2002.8585652963752, 2284.0305940136013, 1520.8145248230576, 2754.9817502584833, 744.2519740031605, 569.4096825217763, 535.9367508714341, 467.0419095864154, 465.3303104306505, 359.75263114639193, 325.6482340310636, 322.4077184226909, 292.7892604887318, 276.13315101861804, 274.03724884190115, 265.778908681793, 260.8953643013481, 249.8688633065355, 248.7266243193101, 238.0244523789131, 235.05198202884165, 229.4512663957436, 213.60328336986026, 190.20087229451943, 188.62556998320372, 178.7063362590389, 174.04952895145175, 162.09835761765365, 161.6050055850496, 156.934653574624, 155.48494867996138, 152.81857057560677, 152.17378868532379, 151.51958088371293, 699.4494085514964, 275.05379323101516, 1145.7957380028718, 432.3774601318994, 792.9819545994903, 223.5555332226807, 1171.8667979510908, 552.0538133111736, 370.2606717895794, 507.80744180031286, 311.3855736998404, 1661.5517582516568, 894.4704798217949, 714.9670041176961, 1274.8020121203685, 5647.883908724911, 3537.3365179867355, 6428.995672538136, 1869.1924610525377, 687.5047086216221, 911.2265824811458, 1356.8362570615436, 1764.275747496171, 1146.6641921355629, 1033.581887789109, 930.8343874882015, 875.9272459469892, 824.6268660828968, 797.5013747382432, 776.5255122190439, 594.9433992209118, 571.328669654234, 503.47098951000527, 485.4912908437177, 347.7492203270789, 334.08031650864586, 283.6005878726497, 282.58074558262473, 282.40820717749557, 263.6464282745411, 231.301788479645, 198.08125601667317, 195.019227355533, 181.05699318197102, 172.75396594647503, 158.1631055204359, 152.11513409657724, 134.98239987611868, 133.7515236162005, 121.54746130086502, 116.7548689568713, 115.85622094714836, 608.0775712375015, 1193.6935656980606, 1587.4569781091084, 605.0132876699917, 349.199780922727, 516.5172471769765, 1855.7310834217162, 1590.0770203485308, 386.08796427555427, 2036.1052175778088, 1323.2830940123908, 2494.882307930445, 1794.308879157952, 720.1496279830122, 1190.8978519948178, 479.6901150066771, 1442.0691481352176, 1264.0951283250602, 2078.889535245361, 1288.4732644864382, 743.2371590223523, 11975.422289551308, 1542.2613168210614, 1403.8990200252063, 892.7435352354552, 760.4901822118667, 681.377450730579, 678.2198997188235, 658.4872516005169, 597.3131764191116, 597.0159893919407, 578.4747762462368, 533.1215945036582, 495.6921514835438, 306.3760207107687, 288.70753510552237, 266.7956764726328, 243.43816091837476, 239.79155406277738, 214.46607038660122, 211.67705140432184, 169.3989919946583, 168.65346984805274, 166.98597802380354, 162.64394124061036, 161.32911290309875, 155.83194659155842, 152.86276328865677, 152.56613602909684, 148.07795049101293, 145.46586997239646, 136.61083675965853, 809.8969812910768, 548.691178124744, 923.722123392935, 1108.4081846645427, 818.1367310720279, 476.48551797551386, 710.693057919702, 2287.0944337929095, 591.5806399973999, 3003.7675371418477, 671.7869722107995, 1520.8145248230576, 683.3936740218171, 1603.9157205171887, 4580.843576048925, 2036.1052175778088, 1264.0951283250602, 1855.7310834217162, 2027.9113143397717, 629.8065142875085, 575.7834246645205, 528.1305313482533, 522.9048084297025, 473.09976875453583, 432.25071855027, 488.8562400384912, 406.5092240065747, 329.6645636251114, 283.67495629892915, 246.9333726303287, 246.0636292988322, 238.7684063854306, 232.35929310816033, 224.09503628594453, 218.90505096140345, 203.31659209806946, 193.5509893320397, 191.47636425732392, 179.84156273558042, 176.0111542364654, 166.17324223804184, 162.74116001412918, 162.02915209749406, 160.09372487021744, 154.26447526221335, 150.8678005428286, 145.23353564779023, 144.4680863490429, 1223.8347071949795, 287.7055048573875, 262.8321427415706, 634.3823260122888, 969.0621507118572, 1661.5517582516568, 1095.1550147934227, 553.7116625544363, 1288.4732644864382, 1590.0770203485308, 1378.0778496640498, 1164.0071894622133, 835.2024993980743, 756.1297338281591, 613.3487675674736, 395.9264350026644, 354.5638181276353, 348.4894807231815, 323.3781044741109, 322.14654951983607, 316.78354656517735, 262.2614983381302, 245.7715530296694, 220.51545866915174, 206.55149152030927, 198.49998845013246, 193.0948229961859, 190.06132431177545, 184.49886024970974, 174.39214822044872, 170.44230628575554, 166.46482825508434, 160.64471202001027, 144.4167888042997, 140.01999015287498, 137.78275688758472, 136.7060595106704, 133.2661022820899, 132.7055969877525, 130.3383598320461, 130.16923181101595, 247.33704419914952, 454.2482367420733, 771.4047366843355, 778.0168222720206, 251.94719840895928, 559.8299831350896, 292.4661977897181, 565.7038403224954, 253.96167470445084, 590.6975292249232, 670.7594105264193, 522.8534649994141, 319.5221709724879, 418.8584990402976, 1575.813034282447, 1439.3339679979163, 1093.956127507259, 477.58606235601485, 465.8679244598232, 447.22481258596974, 441.557449742328, 383.00234724093065, 378.4356242667536, 326.4090622056866, 283.76208951495005, 225.47632657089147, 206.13538267692113, 191.40699195322077, 177.826468761636, 172.29647715646107, 166.98627937652535, 162.19720591541633, 154.43471079774852, 153.9159896491757, 152.12719853616323, 150.28492468389072, 148.9861192741459, 148.59481585996716, 140.56209488351695, 137.91099273882838, 136.635085343612, 134.29092938431782, 133.4921056808714, 125.74136206770113, 1033.4867546674977, 407.6132012350685, 366.80890189690876, 455.5562590750564, 902.9175962242194, 3537.3365179867355, 373.60944120304373, 238.17071604501234, 1654.7264832299645, 333.1901602139282, 2287.0944337929095, 1211.9398398480807, 2754.9817502584833, 1323.2704678615385, 4558.420053993831, 2658.1276278666587, 335.40664125175306, 750.8608997544092, 503.1392679274202, 497.2276778499899, 439.53117156621244, 422.2372011041798, 412.811245744016, 375.851741522653, 338.44000282842666, 337.0199433846107, 279.8358697519686, 265.87540399278254, 256.8176682417243, 243.75425874864425, 216.14773073765792, 201.1580119193316, 196.8475411831861, 194.64714885557595, 192.87874762552565, 190.7190747297108, 188.0888851158164, 179.991528439829, 177.19244484889546, 162.29629756317735, 148.94251734043442, 148.77076463277157, 138.09790702362756, 135.01815885675464, 128.42898162696562, 127.05665535571887, 120.42238762352311, 727.4359498094433, 567.2344714063407, 383.6245952288829, 388.5743727788362, 214.24551215900405, 1443.642996358821, 427.0375356663145, 384.37254443668485, 1869.1924610525377, 599.7966264576231, 777.1519651739897, 2638.2962249734614, 714.9670041176961, 2284.422606303532, 797.8061414558349, 415.5310257559344, 407.216217164266, 398.9448387954456, 310.4513178069139, 304.43485516929013, 276.42575405164195, 266.7676363185214, 259.6369130885963, 258.9938704729536, 253.22603056962072, 245.9910747929357, 215.97708764144352, 196.0872826438698, 189.5429898030234, 182.63073285039417, 181.8969761602306, 181.14714713831867, 179.16880859018434, 177.18343554958403, 171.89410804558003, 159.54273515770782, 156.14100154981617, 152.91207123097985, 143.36930356828987, 141.18858629098474, 139.6712810049391, 130.95301476472093, 130.04382439010922, 596.7917115842748, 189.52120718647637, 654.5366134268612, 1204.6244357695757, 376.55990202239536, 569.3315217477725, 601.9671164743232, 537.5254977529275, 1506.7620085248523, 821.8103016990362, 364.7978584018769, 955.7740569488507, 553.1083162739253, 245.93990673058406, 1108.4081846645427, 706.9742075358276, 523.1830726076358, 466.74533360344185, 464.5634219227861, 291.4804829397742, 264.4493745688467, 201.3915067378122, 195.14866283142894, 182.13677884651875, 182.01283071131766, 179.05987257784804, 175.72862887972417, 171.83585306913255, 167.56671985225432, 166.45895533446748, 160.1875940082639, 158.76890430145153, 157.50276395538825, 150.32298067446166, 149.79494018051759, 147.2316829688416, 142.41778446358995, 139.9248077950034, 139.21187207315978, 139.1709751961411, 138.90733220415214, 134.26745842313173, 131.2290877447459, 130.2866153230424, 129.88619766667682, 126.24094091782837, 213.99335734072588, 532.6665216022243, 210.93552842512923, 699.5197578279078, 336.92907096554273, 171.12844252057954, 438.51898148528744, 1107.8934273942948, 379.1840223985713, 358.01490613496156, 297.8544008819544, 295.3056194075506, 280.8228674145711, 277.51874849225993, 239.5114603982449, 220.37133021331763, 210.4618925820301, 191.98884288299848, 191.90041240018277, 186.70439975107553, 182.43654030771106, 172.2680585052308, 170.7632715361158, 156.44327877212982, 155.5259242658312, 148.12175194369658, 130.85583928754264, 128.96451450694863, 127.93707053073263, 124.3422412070036, 123.78080962545073, 109.61829430830234, 106.16702657412759, 97.51662907346915, 93.46425430590763, 92.68596504818757, 92.38697317608657, 287.30095388671407, 424.2953236216153, 451.22384990464906, 380.35567741458294, 607.6133017873186, 510.09802268670086, 2638.2962249734614, 266.49247827705886, 706.9742075358276, 1328.6336271472505, 1869.1924610525377, 1602.4262145911994, 898.9579228519937, 1780.490778141967, 505.79706363341904, 316.1067019890789, 310.75881559204925, 276.05448916236844, 236.27485996539662, 220.04629789859476, 210.37546210626175, 201.02657026631485, 198.28799061619577, 171.64087316547182, 169.16617714869994, 157.81546518293294, 151.4561571051075, 148.27399301222462, 139.18809896825312, 138.98755692065274, 136.43240335215125, 133.1405129913469, 129.22211190716317, 124.30203403181133, 122.38178453144693, 121.3850256826518, 121.07401911172353, 120.62108732354349, 120.61055878895883, 116.7277639044703, 115.38940098491558, 113.76565433992805, 112.17349329979999, 828.9241887687991, 469.2985513128336, 430.19939078194614, 284.644229055966, 559.5866877194636, 275.5786114153076, 194.10835440103256, 1378.0778496640498, 271.5658579618259, 634.264968293672, 207.03754066980642, 561.519920117775, 446.43752040006785, 441.97293840423976, 391.910689602517, 363.92142097155624, 348.687337811376, 347.9992202100818, 305.5555275075667, 262.8122426135009, 251.81039628668174, 249.08945618830273, 238.96705570208823, 238.69186337064542, 205.37192349383275, 190.10938085800487, 182.42519766875327, 157.83184008017983, 153.69261731244376, 152.37125018064046, 146.99522887809167, 146.94265352864272, 145.8969310040298, 144.98334624583308, 142.4233611477057, 140.3660653626229, 127.59700861214263, 126.32351481229828, 126.10640880204745, 117.60334797452454, 116.9298597610062, 597.9514567732576, 342.3033692496964, 699.5197578279078, 209.5430104221597, 417.4063822536966, 560.7775714049989, 578.2410561474901, 356.07972339937805, 298.28565940635497, 274.5104119731856, 265.348586577983, 250.99410815053295, 246.50092595997512, 239.19286878916054, 172.17569367546014, 166.16816800788726, 157.30804462404498, 154.01608636252428, 151.18850750062393, 144.451207199374, 134.23160186959325, 123.08268545901899, 120.72047324479625, 120.33069168165984, 114.88676318459908, 114.13864071924617, 111.65453511834932, 138.7492628578134, 110.81507235271276, 105.08281393292691, 102.01816917272035, 101.57363335337205, 101.4433339855437, 100.97561405876607, 99.59299610145533, 99.00449952181762, 178.08747504433805, 210.43799503838665, 449.7372130003971, 1066.3390334078229, 559.394781693254, 559.8299831350896, 397.2035940511271, 1769.5882425955258, 1498.1688693416509, 425.98757228882937, 350.8439200817661, 330.2433226137988, 318.713401893954, 288.87859694532835, 273.9140884824267, 255.64178169484086, 183.0598039009855, 181.42598904468716, 168.86614702401053, 143.8940830721937, 140.1940963960309, 126.29622293396493, 124.07113630758566, 123.51435783633697, 120.68556181248492, 119.42070024934961, 118.14331767828672, 110.14124789979638, 110.0394070663347, 108.23984127429345, 106.03494950714084, 98.59924855653263, 94.9122707918364, 94.22475995715163, 89.36378421106977, 86.98512997946146, 85.44277265183035, 312.69662384575764, 1188.3805602524392, 182.12282336233793, 1438.4674953194624, 450.77844810757745, 393.57588583343585, 317.55790898104254, 238.13440988789938, 228.32376646447491, 223.71753599504189, 213.6333020961052, 203.07806892607573, 202.4354089822047, 172.87372986652656, 147.14330678249817, 140.80760489167636, 131.24470296904775, 130.41125906481577, 127.85999001845856, 113.7599470448163, 111.76343671828076, 108.81956746092155, 95.67966590474899, 93.51396898518587, 81.98298059273183, 81.94583357277082, 80.63600247849688, 79.80766954669045, 76.07498711947572, 71.52975509501721, 71.3971940221455, 71.39183409583889, 68.2316467181414, 228.52792136135636, 100.67971544695656, 201.92050935228053, 627.4902816480013, 268.00838609554353, 255.2800011141292, 99.26689323189078, 107.81728653924877, 381.4087337720788, 308.1472932334674, 1035.9606391998086, 364.7978584018769, 297.363585764687, 796.7958578086993, 940.7072832008924, 493.9715055148009, 367.86148197690045, 300.68495393433903, 284.98905228188573, 244.5585593037293, 229.81550282442626, 219.9315583566975, 193.2679628822178, 169.97021029042807, 162.62942952576483, 153.64674147261385, 152.58731843079664, 145.48949582831077, 137.59229927086986, 136.76683891847048, 125.5626591630761, 120.34617440617416, 119.14814790058325, 116.9619877962235, 116.54637343764479, 115.12409296315914, 114.63991055386829, 114.27303547621196, 110.32166909668223, 108.50119075644895, 101.87162747062052, 92.35278984189897, 89.25426617901353, 87.34986928241062, 524.7466414114772, 160.60262565352963, 615.0137619993511, 173.5105023835896, 253.8436356332869, 255.10720142378435, 683.3804966322504, 497.4893348357297, 352.40313928237777, 327.89279166584646, 312.7574009286961, 300.8881999357235, 278.12540220432993, 273.51502346458847, 248.84022401321576, 203.64297854586133, 193.5118976355077, 176.79793378273385, 161.75655611905697, 145.9279171250946, 137.63083656759466, 135.60525009521845, 134.64312622471076, 129.3732392924288, 126.38768861330868, 112.18935994219434, 109.85705206843897, 103.11269161860191, 91.6747061151723, 91.67382796221591, 90.98555577772072, 90.42960923528582, 90.2288858928073, 87.92940820116002, 87.28872801568357, 80.40250139596789, 73.73993187166954, 159.40945107827852, 372.4517937047523, 145.08860733003516, 311.11530169489663, 862.1088671601763, 421.6313832697823, 898.9579228519937], \"Category\": [\"Default\", \"Default\", \"Default\", \"Default\", \"Default\", \"Default\", \"Default\", \"Default\", \"Default\", \"Default\", \"Default\", \"Default\", \"Default\", \"Default\", \"Default\", \"Default\", \"Default\", \"Default\", \"Default\", \"Default\", \"Default\", \"Default\", \"Default\", \"Default\", \"Default\", \"Default\", \"Default\", \"Default\", \"Default\", \"Default\", \"Topic1\", \"Topic1\", \"Topic1\", \"Topic1\", \"Topic1\", \"Topic1\", \"Topic1\", \"Topic1\", \"Topic1\", \"Topic1\", \"Topic1\", \"Topic1\", \"Topic1\", \"Topic1\", \"Topic1\", \"Topic1\", \"Topic1\", \"Topic1\", \"Topic1\", \"Topic1\", \"Topic1\", \"Topic1\", \"Topic1\", \"Topic1\", \"Topic1\", \"Topic1\", \"Topic1\", \"Topic1\", \"Topic1\", \"Topic1\", \"Topic1\", \"Topic1\", \"Topic1\", \"Topic1\", \"Topic1\", \"Topic1\", \"Topic1\", \"Topic1\", \"Topic1\", \"Topic1\", \"Topic1\", \"Topic1\", \"Topic1\", \"Topic1\", \"Topic1\", \"Topic1\", \"Topic1\", \"Topic1\", \"Topic1\", \"Topic1\", \"Topic1\", \"Topic1\", \"Topic1\", \"Topic1\", \"Topic1\", \"Topic1\", \"Topic1\", \"Topic1\", \"Topic1\", \"Topic1\", \"Topic1\", \"Topic1\", \"Topic1\", \"Topic1\", \"Topic1\", \"Topic1\", \"Topic1\", \"Topic1\", \"Topic1\", \"Topic2\", \"Topic2\", \"Topic2\", \"Topic2\", \"Topic2\", \"Topic2\", \"Topic2\", \"Topic2\", \"Topic2\", \"Topic2\", \"Topic2\", \"Topic2\", \"Topic2\", \"Topic2\", \"Topic2\", \"Topic2\", \"Topic2\", \"Topic2\", \"Topic2\", \"Topic2\", \"Topic2\", \"Topic2\", \"Topic2\", \"Topic2\", \"Topic2\", \"Topic2\", \"Topic2\", \"Topic2\", \"Topic2\", \"Topic2\", \"Topic2\", \"Topic2\", \"Topic2\", \"Topic2\", \"Topic2\", \"Topic2\", \"Topic2\", \"Topic2\", \"Topic2\", \"Topic2\", \"Topic2\", \"Topic2\", \"Topic2\", \"Topic2\", \"Topic2\", \"Topic2\", \"Topic2\", \"Topic2\", \"Topic2\", \"Topic2\", \"Topic2\", \"Topic2\", \"Topic2\", \"Topic2\", \"Topic2\", \"Topic2\", \"Topic2\", \"Topic2\", \"Topic2\", \"Topic2\", \"Topic2\", \"Topic2\", \"Topic3\", \"Topic3\", \"Topic3\", \"Topic3\", \"Topic3\", \"Topic3\", \"Topic3\", \"Topic3\", \"Topic3\", \"Topic3\", \"Topic3\", \"Topic3\", \"Topic3\", \"Topic3\", \"Topic3\", \"Topic3\", \"Topic3\", \"Topic3\", \"Topic3\", \"Topic3\", \"Topic3\", \"Topic3\", \"Topic3\", \"Topic3\", \"Topic3\", \"Topic3\", \"Topic3\", \"Topic3\", \"Topic3\", \"Topic3\", \"Topic3\", \"Topic3\", \"Topic3\", \"Topic3\", \"Topic3\", \"Topic3\", \"Topic3\", \"Topic3\", \"Topic3\", \"Topic3\", \"Topic3\", \"Topic3\", \"Topic3\", \"Topic3\", \"Topic3\", \"Topic3\", \"Topic3\", \"Topic3\", \"Topic3\", \"Topic3\", \"Topic3\", \"Topic3\", \"Topic3\", \"Topic3\", \"Topic3\", \"Topic3\", \"Topic3\", \"Topic3\", \"Topic3\", \"Topic3\", \"Topic3\", \"Topic3\", \"Topic3\", \"Topic3\", \"Topic3\", \"Topic4\", \"Topic4\", \"Topic4\", \"Topic4\", \"Topic4\", \"Topic4\", \"Topic4\", \"Topic4\", \"Topic4\", \"Topic4\", \"Topic4\", \"Topic4\", \"Topic4\", \"Topic4\", \"Topic4\", \"Topic4\", \"Topic4\", \"Topic4\", \"Topic4\", \"Topic4\", \"Topic4\", \"Topic4\", \"Topic4\", \"Topic4\", \"Topic4\", \"Topic4\", \"Topic4\", \"Topic4\", \"Topic4\", \"Topic4\", \"Topic4\", \"Topic4\", \"Topic4\", \"Topic4\", \"Topic4\", \"Topic4\", \"Topic4\", \"Topic4\", \"Topic4\", \"Topic4\", \"Topic4\", \"Topic4\", \"Topic4\", \"Topic4\", \"Topic4\", \"Topic4\", \"Topic4\", \"Topic4\", \"Topic4\", \"Topic4\", \"Topic4\", \"Topic4\", \"Topic5\", \"Topic5\", \"Topic5\", \"Topic5\", \"Topic5\", \"Topic5\", \"Topic5\", \"Topic5\", \"Topic5\", \"Topic5\", \"Topic5\", \"Topic5\", \"Topic5\", \"Topic5\", \"Topic5\", \"Topic5\", \"Topic5\", \"Topic5\", \"Topic5\", \"Topic5\", \"Topic5\", \"Topic5\", \"Topic5\", \"Topic5\", \"Topic5\", \"Topic5\", \"Topic5\", \"Topic5\", \"Topic5\", \"Topic5\", \"Topic5\", \"Topic5\", \"Topic5\", \"Topic5\", \"Topic5\", \"Topic5\", \"Topic5\", \"Topic5\", \"Topic5\", \"Topic5\", \"Topic5\", \"Topic5\", \"Topic5\", \"Topic5\", \"Topic5\", \"Topic5\", \"Topic5\", \"Topic5\", \"Topic5\", \"Topic5\", \"Topic5\", \"Topic5\", \"Topic6\", \"Topic6\", \"Topic6\", \"Topic6\", \"Topic6\", \"Topic6\", \"Topic6\", \"Topic6\", \"Topic6\", \"Topic6\", \"Topic6\", \"Topic6\", \"Topic6\", \"Topic6\", \"Topic6\", \"Topic6\", \"Topic6\", \"Topic6\", \"Topic6\", \"Topic6\", \"Topic6\", \"Topic6\", \"Topic6\", \"Topic6\", \"Topic6\", \"Topic6\", \"Topic6\", \"Topic6\", \"Topic6\", \"Topic6\", \"Topic6\", \"Topic6\", \"Topic6\", \"Topic6\", \"Topic6\", \"Topic6\", \"Topic6\", \"Topic6\", \"Topic6\", \"Topic6\", \"Topic6\", \"Topic6\", \"Topic6\", \"Topic6\", \"Topic6\", \"Topic6\", \"Topic6\", \"Topic6\", \"Topic7\", \"Topic7\", \"Topic7\", \"Topic7\", \"Topic7\", \"Topic7\", \"Topic7\", \"Topic7\", \"Topic7\", \"Topic7\", \"Topic7\", \"Topic7\", \"Topic7\", \"Topic7\", \"Topic7\", \"Topic7\", \"Topic7\", \"Topic7\", \"Topic7\", \"Topic7\", \"Topic7\", \"Topic7\", \"Topic7\", \"Topic7\", \"Topic7\", \"Topic7\", \"Topic7\", \"Topic7\", \"Topic7\", \"Topic7\", \"Topic7\", \"Topic7\", \"Topic7\", \"Topic7\", \"Topic7\", \"Topic7\", \"Topic7\", \"Topic7\", \"Topic7\", \"Topic7\", \"Topic7\", \"Topic8\", \"Topic8\", \"Topic8\", \"Topic8\", \"Topic8\", \"Topic8\", \"Topic8\", \"Topic8\", \"Topic8\", \"Topic8\", \"Topic8\", \"Topic8\", \"Topic8\", \"Topic8\", \"Topic8\", \"Topic8\", \"Topic8\", \"Topic8\", \"Topic8\", \"Topic8\", \"Topic8\", \"Topic8\", \"Topic8\", \"Topic8\", \"Topic8\", \"Topic8\", \"Topic8\", \"Topic8\", \"Topic8\", \"Topic8\", \"Topic8\", \"Topic8\", \"Topic8\", \"Topic8\", \"Topic8\", \"Topic8\", \"Topic8\", \"Topic8\", \"Topic8\", \"Topic8\", \"Topic8\", \"Topic8\", \"Topic8\", \"Topic8\", \"Topic9\", \"Topic9\", \"Topic9\", \"Topic9\", \"Topic9\", \"Topic9\", \"Topic9\", \"Topic9\", \"Topic9\", \"Topic9\", \"Topic9\", \"Topic9\", \"Topic9\", \"Topic9\", \"Topic9\", \"Topic9\", \"Topic9\", \"Topic9\", \"Topic9\", \"Topic9\", \"Topic9\", \"Topic9\", \"Topic9\", \"Topic9\", \"Topic9\", \"Topic9\", \"Topic9\", \"Topic9\", \"Topic9\", \"Topic9\", \"Topic9\", \"Topic9\", \"Topic9\", \"Topic9\", \"Topic9\", \"Topic9\", \"Topic9\", \"Topic9\", \"Topic9\", \"Topic9\", \"Topic9\", \"Topic9\", \"Topic9\", \"Topic9\", \"Topic9\", \"Topic9\", \"Topic9\", \"Topic10\", \"Topic10\", \"Topic10\", \"Topic10\", \"Topic10\", \"Topic10\", \"Topic10\", \"Topic10\", \"Topic10\", \"Topic10\", \"Topic10\", \"Topic10\", \"Topic10\", \"Topic10\", \"Topic10\", \"Topic10\", \"Topic10\", \"Topic10\", \"Topic10\", \"Topic10\", \"Topic10\", \"Topic10\", \"Topic10\", \"Topic10\", \"Topic10\", \"Topic10\", \"Topic10\", \"Topic10\", \"Topic10\", \"Topic10\", \"Topic10\", \"Topic10\", \"Topic10\", \"Topic10\", \"Topic10\", \"Topic10\", \"Topic10\", \"Topic10\", \"Topic10\", \"Topic10\", \"Topic10\", \"Topic10\", \"Topic10\", \"Topic11\", \"Topic11\", \"Topic11\", \"Topic11\", \"Topic11\", \"Topic11\", \"Topic11\", \"Topic11\", \"Topic11\", \"Topic11\", \"Topic11\", \"Topic11\", \"Topic11\", \"Topic11\", \"Topic11\", \"Topic11\", \"Topic11\", \"Topic11\", \"Topic11\", \"Topic11\", \"Topic11\", \"Topic11\", \"Topic11\", \"Topic11\", \"Topic11\", \"Topic11\", \"Topic11\", \"Topic11\", \"Topic11\", \"Topic11\", \"Topic11\", \"Topic11\", \"Topic11\", \"Topic11\", \"Topic11\", \"Topic11\", \"Topic11\", \"Topic11\", \"Topic11\", \"Topic11\", \"Topic11\", \"Topic11\", \"Topic11\", \"Topic11\", \"Topic11\", \"Topic11\", \"Topic12\", \"Topic12\", \"Topic12\", \"Topic12\", \"Topic12\", \"Topic12\", \"Topic12\", \"Topic12\", \"Topic12\", \"Topic12\", \"Topic12\", \"Topic12\", \"Topic12\", \"Topic12\", \"Topic12\", \"Topic12\", \"Topic12\", \"Topic12\", \"Topic12\", \"Topic12\", \"Topic12\", \"Topic12\", \"Topic12\", \"Topic12\", \"Topic12\", \"Topic12\", \"Topic12\", \"Topic12\", \"Topic12\", \"Topic12\", \"Topic12\", \"Topic12\", \"Topic12\", \"Topic12\", \"Topic12\", \"Topic12\", \"Topic12\", \"Topic13\", \"Topic13\", \"Topic13\", \"Topic13\", \"Topic13\", \"Topic13\", \"Topic13\", \"Topic13\", \"Topic13\", \"Topic13\", \"Topic13\", \"Topic13\", \"Topic13\", \"Topic13\", \"Topic13\", \"Topic13\", \"Topic13\", \"Topic13\", \"Topic13\", \"Topic13\", \"Topic13\", \"Topic13\", \"Topic13\", \"Topic13\", \"Topic13\", \"Topic13\", \"Topic13\", \"Topic13\", \"Topic13\", \"Topic13\", \"Topic13\", \"Topic13\", \"Topic13\", \"Topic13\", \"Topic13\", \"Topic13\", \"Topic13\", \"Topic13\", \"Topic13\", \"Topic13\", \"Topic13\", \"Topic13\", \"Topic13\", \"Topic14\", \"Topic14\", \"Topic14\", \"Topic14\", \"Topic14\", \"Topic14\", \"Topic14\", \"Topic14\", \"Topic14\", \"Topic14\", \"Topic14\", \"Topic14\", \"Topic14\", \"Topic14\", \"Topic14\", \"Topic14\", \"Topic14\", \"Topic14\", \"Topic14\", \"Topic14\", \"Topic14\", \"Topic14\", \"Topic14\", \"Topic14\", \"Topic14\", \"Topic14\", \"Topic14\", \"Topic14\", \"Topic14\", \"Topic14\", \"Topic14\", \"Topic14\", \"Topic14\", \"Topic14\", \"Topic14\", \"Topic14\", \"Topic14\", \"Topic14\", \"Topic14\", \"Topic14\", \"Topic14\", \"Topic15\", \"Topic15\", \"Topic15\", \"Topic15\", \"Topic15\", \"Topic15\", \"Topic15\", \"Topic15\", \"Topic15\", \"Topic15\", \"Topic15\", \"Topic15\", \"Topic15\", \"Topic15\", \"Topic15\", \"Topic15\", \"Topic15\", \"Topic15\", \"Topic15\", \"Topic15\", \"Topic15\", \"Topic15\", \"Topic15\", \"Topic15\", \"Topic15\", \"Topic15\", \"Topic15\", \"Topic15\", \"Topic15\", \"Topic15\", \"Topic15\", \"Topic15\", \"Topic15\", \"Topic15\", \"Topic15\", \"Topic15\", \"Topic16\", \"Topic16\", \"Topic16\", \"Topic16\", \"Topic16\", \"Topic16\", \"Topic16\", \"Topic16\", \"Topic16\", \"Topic16\", \"Topic16\", \"Topic16\", \"Topic16\", \"Topic16\", \"Topic16\", \"Topic16\", \"Topic16\", \"Topic16\", \"Topic16\", \"Topic16\", \"Topic16\", \"Topic16\", \"Topic16\", \"Topic16\", \"Topic16\", \"Topic16\", \"Topic16\", \"Topic16\", \"Topic16\", \"Topic16\", \"Topic16\", \"Topic16\", \"Topic16\", \"Topic16\", \"Topic16\", \"Topic16\", \"Topic16\", \"Topic17\", \"Topic17\", \"Topic17\", \"Topic17\", \"Topic17\", \"Topic17\", \"Topic17\", \"Topic17\", \"Topic17\", \"Topic17\", \"Topic17\", \"Topic17\", \"Topic17\", \"Topic17\", \"Topic17\", \"Topic17\", \"Topic17\", \"Topic17\", \"Topic17\", \"Topic17\", \"Topic17\", \"Topic17\", \"Topic17\", \"Topic17\", \"Topic17\", \"Topic17\", \"Topic17\", \"Topic17\", \"Topic17\", \"Topic17\", \"Topic17\", \"Topic17\", \"Topic17\", \"Topic18\", \"Topic18\", \"Topic18\", \"Topic18\", \"Topic18\", \"Topic18\", \"Topic18\", \"Topic18\", \"Topic18\", \"Topic18\", \"Topic18\", \"Topic18\", \"Topic18\", \"Topic18\", \"Topic18\", \"Topic18\", \"Topic18\", \"Topic18\", \"Topic18\", \"Topic18\", \"Topic18\", \"Topic18\", \"Topic18\", \"Topic18\", \"Topic18\", \"Topic18\", \"Topic18\", \"Topic18\", \"Topic18\", \"Topic18\", \"Topic18\", \"Topic18\", \"Topic18\", \"Topic18\", \"Topic18\", \"Topic18\", \"Topic18\", \"Topic18\", \"Topic18\", \"Topic18\", \"Topic18\", \"Topic18\", \"Topic18\", \"Topic18\", \"Topic19\", \"Topic19\", \"Topic19\", \"Topic19\", \"Topic19\", \"Topic19\", \"Topic19\", \"Topic19\", \"Topic19\", \"Topic19\", \"Topic19\", \"Topic19\", \"Topic19\", \"Topic19\", \"Topic19\", \"Topic19\", \"Topic19\", \"Topic19\", \"Topic19\", \"Topic19\", \"Topic19\", \"Topic19\", \"Topic19\", \"Topic19\", \"Topic19\", \"Topic19\", \"Topic19\", \"Topic19\", \"Topic19\", \"Topic19\", \"Topic19\", \"Topic19\", \"Topic19\", \"Topic19\", \"Topic19\", \"Topic19\", \"Topic19\", \"Topic20\", \"Topic20\", \"Topic20\", \"Topic20\", \"Topic20\", \"Topic20\", \"Topic20\", \"Topic20\", \"Topic20\", \"Topic20\", \"Topic20\", \"Topic20\", \"Topic20\", \"Topic20\", \"Topic20\", \"Topic20\", \"Topic20\", \"Topic20\", \"Topic20\", \"Topic20\", \"Topic20\", \"Topic20\", \"Topic20\", \"Topic20\", \"Topic20\", \"Topic20\", \"Topic20\", \"Topic20\", \"Topic20\", \"Topic20\", \"Topic20\", \"Topic20\", \"Topic20\", \"Topic20\", \"Topic20\", \"Topic20\", \"Topic20\"], \"logprob\": [30.0, 29.0, 28.0, 27.0, 26.0, 25.0, 24.0, 23.0, 22.0, 21.0, 20.0, 19.0, 18.0, 17.0, 16.0, 15.0, 14.0, 13.0, 12.0, 11.0, 10.0, 9.0, 8.0, 7.0, 6.0, 5.0, 4.0, 3.0, 2.0, 1.0, -3.8715999126434326, -4.861199855804443, -5.262899875640869, -5.317599773406982, -5.525599956512451, -5.540900230407715, -5.729599952697754, -5.800099849700928, -5.976099967956543, -6.013000011444092, -6.020500183105469, -6.088500022888184, -6.093200206756592, -6.10890007019043, -6.171299934387207, -6.365200042724609, -6.494500160217285, -6.495999813079834, -6.520999908447266, -6.548500061035156, -6.623000144958496, -6.660799980163574, -6.687399864196777, -6.702499866485596, -6.756400108337402, -6.788599967956543, -6.802800178527832, -6.8231000900268555, -6.837900161743164, -6.900599956512451, -3.7464001178741455, -3.933500051498413, -4.549699783325195, -4.572999954223633, -5.20419979095459, -5.714000225067139, -4.417500019073486, -3.3394999504089355, -5.670000076293945, -3.936500072479248, -3.208199977874756, -6.0868000984191895, -4.371799945831299, -4.6031999588012695, -5.047900199890137, -5.002799987792969, -3.2541000843048096, -4.8744001388549805, -4.697400093078613, -5.307300090789795, -3.9361000061035156, -4.416200160980225, -4.251299858093262, -5.282599925994873, -4.6859002113342285, -5.327600002288818, -4.333899974822998, -5.243899822235107, -4.623600006103516, -4.2600998878479, -4.4618000984191895, -4.746099948883057, -4.300600051879883, -4.80109977722168, -4.810500144958496, -5.1006999015808105, -4.968900203704834, -4.855199813842773, -4.9770002365112305, -4.276500225067139, -4.294099807739258, -4.763400077819824, -4.918499946594238, -5.125199794769287, -5.250999927520752, -5.416600227355957, -5.417399883270264, -5.465700149536133, -5.515699863433838, -5.516499996185303, -5.52869987487793, -5.5945000648498535, -5.6153998374938965, -5.629899978637695, -5.6529998779296875, -5.764800071716309, -5.837600231170654, -5.888599872589111, -5.92110013961792, -5.930200099945068, -5.940899848937988, -5.945199966430664, -6.043300151824951, -6.112100124359131, -6.1743998527526855, -6.195000171661377, -6.2571001052856445, -6.301499843597412, -6.312399864196777, -4.4430999755859375, -5.026800155639648, -5.046999931335449, -5.874199867248535, -4.7667999267578125, -5.662899971008301, -5.310999870300293, -3.678499937057495, -5.300099849700928, -5.070000171661377, -4.73859977722168, -5.184899806976318, -3.8808000087738037, -5.254499912261963, -5.502699851989746, -4.679100036621094, -4.806000232696533, -4.397799968719482, -5.077000141143799, -5.388299942016602, -4.9217000007629395, -4.652299880981445, -4.643400192260742, -5.02869987487793, -5.297299861907959, -5.0269999504089355, -4.788099765777588, -5.124599933624268, -5.198500156402588, -5.189499855041504, -5.2241997718811035, -5.189499855041504, -3.688499927520752, -5.222499847412109, -5.3180999755859375, -5.399199962615967, -5.566199779510498, -5.583199977874756, -5.595099925994873, -5.604100227355957, -5.678100109100342, -5.684899806976318, -5.705100059509277, -5.724699974060059, -5.740300178527832, -5.921000003814697, -5.942500114440918, -5.953199863433838, -5.964799880981445, -5.981900215148926, -6.004000186920166, -6.017399787902832, -6.036499977111816, -6.042200088500977, -6.042300224304199, -6.068900108337402, -6.089900016784668, -6.093599796295166, -6.106200218200684, -6.12060022354126, -6.122099876403809, -6.151400089263916, -4.888000011444092, -5.761499881744385, -5.3246002197265625, -4.986400127410889, -4.679500102996826, -3.58270001411438, -5.427499771118164, -5.270400047302246, -4.290200233459473, -4.996600151062012, -4.963600158691406, -5.403800010681152, -5.130499839782715, -5.780799865722656, -5.188399791717529, -4.421000003814697, -5.359600067138672, -4.801700115203857, -4.895999908447266, -5.042099952697754, -4.151299953460693, -4.908199787139893, -5.108399868011475, -5.339600086212158, -4.954400062561035, -5.24429988861084, -4.252799987792969, -5.1427998542785645, -4.676499843597412, -5.082799911499023, -4.8765997886657715, -5.084799766540527, -5.087299823760986, -5.2204999923706055, -5.296500205993652, -4.414599895477295, -4.682799816131592, -4.743500232696533, -4.881400108337402, -4.885000228881836, -5.14300012588501, -5.2428998947143555, -5.252900123596191, -5.349599838256836, -5.408299922943115, -5.415999889373779, -5.446700096130371, -5.4653000831604, -5.508699893951416, -5.513299942016602, -5.557400226593018, -5.570000171661377, -5.594299793243408, -5.666100025177002, -5.782700061798096, -5.791100025177002, -5.845399856567383, -5.872000217437744, -5.94350004196167, -5.946599960327148, -5.976099967956543, -5.985400199890137, -6.002799987792969, -6.0071001052856445, -6.01140022277832, -4.492400169372559, -5.430099964141846, -4.0524001121521, -4.99459981918335, -4.446000099182129, -5.65939998626709, -4.2104997634887695, -4.876399993896484, -5.230100154876709, -5.026899814605713, -5.420599937438965, -4.231400012969971, -4.687099933624268, -4.90939998626709, -4.712600231170654, -3.972100019454956, -4.44350004196167, -4.568900108337402, -5.227499961853027, -5.348100185394287, -5.328400135040283, -5.404600143432617, -3.4217000007629395, -3.8529000282287598, -3.9567999839782715, -4.061600208282471, -4.122499942779541, -4.1828999519348145, -4.216400146484375, -4.243100166320801, -4.509799957275391, -4.5503997802734375, -4.67710018157959, -4.713500022888184, -5.047999858856201, -5.088200092315674, -5.252500057220459, -5.256199836730957, -5.256800174713135, -5.325799942016602, -5.457200050354004, -5.6128997802734375, -5.628600120544434, -5.7032999992370605, -5.750500202178955, -5.839200019836426, -5.878499984741211, -5.998799800872803, -6.007999897003174, -6.104400157928467, -6.144999980926514, -6.1528000831604, -4.512700080871582, -3.865799903869629, -3.615799903869629, -4.570499897003174, -5.095600128173828, -4.729800224304199, -3.5636000633239746, -3.7300000190734863, -5.027100086212158, -3.642699956893921, -4.074100017547607, -3.697200059890747, -3.9514999389648438, -4.705699920654297, -4.4243998527526855, -4.960700035095215, -4.392399787902832, -4.527299880981445, -4.316800117492676, -4.541200160980225, -4.773399829864502, -4.053199768066406, -3.3450000286102295, -3.4391000270843506, -3.892199993133545, -4.052700042724609, -4.162700176239014, -4.167399883270264, -4.196899890899658, -4.294600009918213, -4.295100212097168, -4.326700210571289, -4.4085001945495605, -4.481400012969971, -4.963799953460693, -5.023399829864502, -5.10260009765625, -5.194499969482422, -5.209700107574463, -5.321800231933594, -5.33489990234375, -5.558899879455566, -5.563300132751465, -5.573299884796143, -5.599800109863281, -5.607999801635742, -5.642899990081787, -5.662199974060059, -5.6641998291015625, -5.694200038909912, -5.712200164794922, -5.775400161743164, -4.007900238037109, -4.473400115966797, -4.0152997970581055, -3.898900032043457, -4.255499839782715, -4.7144999504089355, -4.557199954986572, -3.9484000205993652, -4.813600063323975, -3.914400100708008, -4.84060001373291, -4.423399925231934, -4.889100074768066, -4.6631999015808105, -4.39739990234375, -4.6528000831604, -4.842100143432617, -4.902200222015381, -2.9126999378204346, -4.083099842071533, -4.172999858856201, -4.259500026702881, -4.269499778747559, -4.369800090789795, -4.460299968719482, -4.337299823760986, -4.5218000411987305, -4.731900215148926, -4.882599830627441, -5.021900177001953, -5.025400161743164, -5.055600166320801, -5.082900047302246, -5.11929988861084, -5.1427998542785645, -5.217100143432617, -5.266499996185303, -5.277400016784668, -5.340400218963623, -5.361999988555908, -5.419899940490723, -5.440899848937988, -5.445300102233887, -5.457399845123291, -5.494699954986572, -5.517099857330322, -5.5553998947143555, -5.560699939727783, -3.5139000415802, -4.917200088500977, -5.071100234985352, -4.416600227355957, -4.219699859619141, -3.8833999633789062, -4.2519001960754395, -4.708399772644043, -4.337900161743164, -4.844699859619141, -5.135000228881836, -3.4505999088287354, -3.782900094985962, -3.8824000358581543, -4.0920000076293945, -4.530600070953369, -4.641200065612793, -4.658599853515625, -4.73360013961792, -4.737400054931641, -4.754199981689453, -4.94379997253418, -5.008999824523926, -5.117800235748291, -5.183599948883057, -5.223499774932861, -5.251299858093262, -5.267199993133545, -5.296999931335449, -5.353700160980225, -5.376699924468994, -5.4004998207092285, -5.436299800872803, -5.543499946594238, -5.5746002197265625, -5.590799808502197, -5.598700046539307, -5.6244001388549805, -5.628600120544434, -5.6468000411987305, -5.648099899291992, -5.014200210571289, -4.551599979400635, -4.133500099182129, -4.220300197601318, -5.146500110626221, -4.618199825286865, -5.098100185394287, -4.7565999031066895, -5.236000061035156, -4.977399826049805, -5.03439998626709, -5.178999900817871, -5.261499881744385, -5.256800174713135, -3.145900011062622, -3.236599922180176, -3.511199951171875, -4.341100215911865, -4.366000175476074, -4.4070000648498535, -4.4197001457214355, -4.562300205230713, -4.574399948120117, -4.722700119018555, -4.863100051879883, -5.093999862670898, -5.184100151062012, -5.258600234985352, -5.332499980926514, -5.364299774169922, -5.3958001136779785, -5.425099849700928, -5.474400043487549, -5.477799892425537, -5.48960018157959, -5.501800060272217, -5.5106000900268555, -5.513199806213379, -5.569200038909912, -5.5883002281188965, -5.597700119018555, -5.615099906921387, -5.621099948883057, -5.681399822235107, -3.7279999256134033, -4.589399814605713, -4.765900135040283, -4.614999771118164, -4.082600116729736, -3.3262999057769775, -5.050099849700928, -5.283199787139893, -4.395899772644043, -5.183599948883057, -4.436399936676025, -4.83459997177124, -4.6407999992370605, -4.97130012512207, -4.8078999519348145, -5.075200080871582, -5.278299808502197, -3.862799882888794, -4.263800144195557, -4.275599956512451, -4.399199962615967, -4.4394001960754395, -4.462100028991699, -4.556099891662598, -4.661200046539307, -4.66540002822876, -4.8520002365112305, -4.903299808502197, -4.9380998611450195, -4.990499973297119, -5.111299991607666, -5.183499813079834, -5.2052001953125, -5.2164998054504395, -5.2256999015808105, -5.236999988555908, -5.250999927520752, -5.295199871063232, -5.310999870300293, -5.3993000984191895, -5.4857001304626465, -5.4868998527526855, -5.561800003051758, -5.58459997177124, -5.635000228881836, -5.6458001136779785, -5.69980001449585, -3.9091999530792236, -4.163099765777588, -4.651000022888184, -4.657599925994873, -5.219200134277344, -4.218999862670898, -4.99399995803833, -5.0777997970581055, -4.7677998542785645, -5.143499851226807, -5.173600196838379, -5.162600040435791, -5.2118000984191895, -2.6659998893737793, -3.7188000679016113, -4.372200012207031, -4.392499923706055, -4.413000106811523, -4.6645002365112305, -4.684199810028076, -4.781000137329102, -4.816699981689453, -4.843900203704834, -4.846399784088135, -4.86899995803833, -4.898099899291992, -5.028800010681152, -5.125800132751465, -5.159999847412109, -5.197299957275391, -5.201399803161621, -5.20550012588501, -5.216599941253662, -5.227799892425537, -5.258200168609619, -5.333199977874756, -5.354899883270264, -5.375999927520752, -5.440800189971924, -5.456299781799316, -5.467100143432617, -5.532100200653076, -5.539100170135498, -4.098700046539307, -5.18310022354126, -4.055200099945068, -3.690999984741211, -4.698500156402588, -4.418000221252441, -4.401700019836426, -4.484099864959717, -4.289700031280518, -4.611499786376953, -4.962500095367432, -4.854400157928467, -4.999300003051758, -5.148799896240234, -4.9980998039245605, -5.1006999015808105, -4.05109977722168, -4.16540002822876, -4.170100212097168, -4.637499809265137, -4.735199928283691, -5.008699893951416, -5.04040002822876, -5.1097002029418945, -5.110400199890137, -5.1269001960754395, -5.145699977874756, -5.168300151824951, -5.193600177764893, -5.200200080871582, -5.238900184631348, -5.247799873352051, -5.255899906158447, -5.302800178527832, -5.306399822235107, -5.323800086975098, -5.3572001457214355, -5.375, -5.380199909210205, -5.38040018081665, -5.382400035858154, -5.416600227355957, -5.439599990844727, -5.446899890899658, -5.449999809265137, -5.478700160980225, -5.007800102233887, -4.218999862670898, -5.176599979400635, -4.513199806213379, -4.967299938201904, -5.321300029754639, -5.190400123596191, -3.177999973297119, -4.2519001960754395, -4.309500217437744, -4.49399995803833, -4.502600193023682, -4.553100109100342, -4.564899921417236, -4.712800025939941, -4.79640007019043, -4.842599868774414, -4.934999942779541, -4.935400009155273, -4.9629998207092285, -4.986299991607666, -5.043900012969971, -5.052800178527832, -5.140900135040283, -5.1468000411987305, -5.195899963378906, -5.320700168609619, -5.335400104522705, -5.343400001525879, -5.372099876403809, -5.376699924468994, -5.499199867248535, -5.531499862670898, -5.617300033569336, -5.660200119018555, -5.668700218200684, -5.671899795532227, -4.539999961853027, -4.255000114440918, -4.245999813079834, -4.421299934387207, -4.136199951171875, -4.334499835968018, -3.671299934387207, -4.956699848175049, -4.43779993057251, -4.1691999435424805, -4.240099906921387, -4.649499893188477, -4.906400203704834, -2.6178998947143555, -3.877700090408325, -4.348999977111816, -4.366099834442139, -4.484899997711182, -4.64109992980957, -4.712600231170654, -4.757699966430664, -4.803400039672852, -4.817200183868408, -4.962299823760986, -4.976900100708008, -5.046800136566162, -5.088099956512451, -5.109499931335449, -5.1732001304626465, -5.174600124359131, -5.193299770355225, -5.217899799346924, -5.248000144958496, -5.287199974060059, -5.302800178527832, -5.311100006103516, -5.313700199127197, -5.317500114440918, -5.317500114440918, -5.350500106811523, -5.362199783325195, -5.376500129699707, -5.390699863433838, -3.4883999824523926, -4.069799900054932, -4.208899974822998, -4.595900058746338, -4.36329984664917, -4.842800140380859, -5.139599800109863, -4.659999847412109, -5.107699871063232, -4.95389986038208, -5.226600170135498, -3.696199893951416, -3.9260001182556152, -3.936000108718872, -4.05649995803833, -4.130799770355225, -4.173699855804443, -4.1757001876831055, -4.306099891662598, -4.457300186157227, -4.50029993057251, -4.511199951171875, -4.552800178527832, -4.553999900817871, -4.704999923706055, -4.782599925994873, -4.824100017547607, -4.969699859619141, -4.996500015258789, -5.005199909210205, -5.041299819946289, -5.0416998863220215, -5.048900127410889, -5.055200099945068, -5.0731000900268555, -5.087800025939941, -5.183899879455566, -5.193999767303467, -5.195700168609619, -5.26609992980957, -5.271900177001953, -3.830699920654297, -4.485599994659424, -4.161300182342529, -4.936600208282471, -4.60890007019043, -4.551199913024902, -3.6135001182556152, -4.099400043487549, -4.2769999504089355, -4.360400199890137, -4.394499778747559, -4.450300216674805, -4.468400001525879, -4.498600006103516, -4.828999996185303, -4.864699840545654, -4.919899940490723, -4.941100120544434, -4.959799766540527, -5.00570011138916, -5.080100059509277, -5.166999816894531, -5.186500072479248, -5.189799785614014, -5.236400127410889, -5.243000030517578, -5.265200138092041, -5.047999858856201, -5.272799968719482, -5.326399803161621, -5.356299877166748, -5.3607001304626465, -5.361999988555908, -5.366700172424316, -5.3805999755859375, -5.386600017547607, -4.980199813842773, -4.922100067138672, -4.521999835968018, -4.572400093078613, -5.057300090789795, -5.208499908447266, -5.2743000984191895, -2.4147000312805176, -2.5813000202178955, -3.8405001163482666, -4.035099983215332, -4.095799922943115, -4.131400108337402, -4.230000019073486, -4.283400058746338, -4.352700233459473, -4.688199996948242, -4.697199821472168, -4.7692999839782715, -4.9303998947143555, -4.956600189208984, -5.061699867248535, -5.079699993133545, -5.084199905395508, -5.107500076293945, -5.118199825286865, -5.129000186920166, -5.199699878692627, -5.200699806213379, -5.217299938201904, -5.238100051879883, -5.311500072479248, -5.349999904632568, -5.3572998046875, -5.410900115966797, -5.4380998611450195, -5.456200122833252, -4.298999786376953, -3.4403998851776123, -5.0152997970581055, -2.6166000366210938, -3.77839994430542, -3.9144999980926514, -4.129700183868408, -4.418499946594238, -4.4608001708984375, -4.481200218200684, -4.527599811553955, -4.578499794006348, -4.581699848175049, -4.7403998374938965, -4.902500152587891, -4.946800231933594, -5.0177001953125, -5.024099826812744, -5.044000148773193, -5.161799907684326, -5.179699897766113, -5.206600189208984, -5.33650016784668, -5.3597002029418945, -5.492800235748291, -5.493199825286865, -5.509500026702881, -5.519999980926514, -5.56850004196167, -5.630899906158447, -5.632999897003174, -5.633299827575684, -5.678800106048584, -4.523200035095215, -5.327300071716309, -4.709099769592285, -3.8192999362945557, -4.561699867248535, -4.687600135803223, -5.364299774169922, -5.311500072479248, -4.650599956512451, -4.820899963378906, -4.505099773406982, -4.988399982452393, -5.091100215911865, -5.222300052642822, -2.976300001144409, -3.6214001178741455, -3.9168999195098877, -4.119100093841553, -4.172900199890137, -4.326499938964844, -4.388899803161621, -4.43310022354126, -4.562900066375732, -4.6921000480651855, -4.736499786376953, -4.793700218200684, -4.800600051879883, -4.848599910736084, -4.904799938201904, -4.910900115966797, -4.997000217437744, -5.039700031280518, -5.049799919128418, -5.06850004196167, -5.0721001625061035, -5.084499835968018, -5.088699817657471, -5.0920000076293945, -5.127500057220459, -5.1442999839782715, -5.207900047302246, -5.307000160217285, -5.3414998054504395, -5.36329984664917, -3.888000011444092, -4.889200210571289, -4.160099983215332, -4.985799789428711, -4.835999965667725, -4.8668999671936035, -4.8730998039245605, -3.5327000617980957, -3.8782999515533447, -3.9505999088287354, -3.997999906539917, -4.036799907684326, -4.115699768066406, -4.132500171661377, -4.227399826049805, -4.428699970245361, -4.480000019073486, -4.570799827575684, -4.660299777984619, -4.763899803161621, -4.82289981842041, -4.837800025939941, -4.84499979019165, -4.885200023651123, -4.908699989318848, -5.028900146484375, -5.050099849700928, -5.113999843597412, -5.232800006866455, -5.232800006866455, -5.2403998374938965, -5.246600151062012, -5.248899936676025, -5.275000095367432, -5.282400131225586, -5.365499973297119, -5.453100204467773, -4.692699909210205, -3.8680999279022217, -4.936999797821045, -4.6209001541137695, -4.202899932861328, -4.704100131988525, -4.820799827575684], \"loglift\": [30.0, 29.0, 28.0, 27.0, 26.0, 25.0, 24.0, 23.0, 22.0, 21.0, 20.0, 19.0, 18.0, 17.0, 16.0, 15.0, 14.0, 13.0, 12.0, 11.0, 10.0, 9.0, 8.0, 7.0, 6.0, 5.0, 4.0, 3.0, 2.0, 1.0, 1.4196, 1.4193, 1.4191, 1.4191, 1.4189, 1.4189, 1.4187, 1.4186, 1.4184, 1.4183, 1.4183, 1.4182, 1.4182, 1.4182, 1.4181, 1.4177, 1.4174, 1.4174, 1.4174, 1.4173, 1.4171, 1.417, 1.4169, 1.4169, 1.4167, 1.4166, 1.4166, 1.4165, 1.4165, 1.4162, 1.4142, 1.4103, 1.4133, 1.4044, 1.4101, 1.409, 1.3939, 1.3811, 1.4044, 1.366, 1.3382, 1.4044, 1.3493, 1.3563, 1.3697, 1.3621, 1.2864, 1.3526, 1.3325, 1.3619, 1.2492, 1.2835, 1.2609, 1.3546, 1.2208, 1.3403, 1.1508, 1.3223, 1.1748, 1.0551, 1.1018, 1.1458, 0.9542, 1.0336, 0.9861, 1.2523, 0.9803, 0.3131, 0.8834, 1.8491, 1.849, 1.8488, 1.8487, 1.8485, 1.8484, 1.8482, 1.8482, 1.8481, 1.8481, 1.8481, 1.8481, 1.848, 1.8479, 1.8479, 1.8479, 1.8477, 1.8476, 1.8475, 1.8474, 1.8474, 1.8474, 1.8473, 1.8471, 1.847, 1.8468, 1.8468, 1.8466, 1.8464, 1.8464, 1.84, 1.8229, 1.821, 1.8371, 1.7902, 1.8158, 1.7864, 1.6195, 1.7706, 1.7146, 1.5805, 1.6562, 1.2875, 1.6704, 1.7271, 1.295, 1.2455, 0.9374, 1.424, 1.6077, 1.033, 0.6628, 0.6113, 1.1073, 1.4477, 0.5366, -0.2477, 0.7102, 0.7308, 0.6072, 0.837, -0.0041, 2.0843, 2.0833, 2.0831, 2.083, 2.0828, 2.0827, 2.0827, 2.0827, 2.0825, 2.0825, 2.0825, 2.0824, 2.0824, 2.082, 2.0819, 2.0819, 2.0819, 2.0818, 2.0818, 2.0817, 2.0817, 2.0816, 2.0816, 2.0816, 2.0815, 2.0815, 2.0815, 2.0814, 2.0814, 2.0813, 2.0638, 2.0745, 2.0516, 2.0355, 2.0046, 1.9246, 2.0412, 2.0185, 1.9195, 1.9789, 1.9539, 1.9936, 1.9498, 2.0453, 1.9014, 1.6848, 1.9276, 1.7551, 1.7618, 1.8128, 1.4084, 1.7111, 1.7896, 1.8998, 1.67, 1.8325, 1.0824, 1.6819, 1.1205, 1.4212, 0.9838, 1.2498, 1.1159, 1.3894, 0.7192, 2.9099, 2.9095, 2.9094, 2.9092, 2.9092, 2.9085, 2.9083, 2.9082, 2.9079, 2.9077, 2.9077, 2.9076, 2.9075, 2.9074, 2.9073, 2.9072, 2.9071, 2.907, 2.9067, 2.9061, 2.9061, 2.9058, 2.9056, 2.9052, 2.9052, 2.905, 2.905, 2.9049, 2.9048, 2.9048, 2.8942, 2.8899, 2.8407, 2.873, 2.8151, 2.8679, 2.6601, 2.7469, 2.7927, 2.6799, 2.7754, 2.29, 2.4536, 2.4553, 2.0739, 1.3258, 1.3223, 0.5995, 1.1762, 2.0557, 1.7938, 1.3195, 3.0397, 3.0394, 3.0393, 3.0392, 3.0392, 3.0391, 3.0391, 3.039, 3.0386, 3.0386, 3.0383, 3.0383, 3.0375, 3.0374, 3.0368, 3.0368, 3.0368, 3.0366, 3.0361, 3.0353, 3.0353, 3.0349, 3.0346, 3.0341, 3.0339, 3.033, 3.033, 3.0322, 3.0319, 3.0318, 3.014, 2.9864, 2.9512, 2.9612, 2.9858, 2.96, 2.8473, 2.8354, 2.9537, 2.6754, 2.675, 2.4178, 2.4931, 2.6518, 2.43, 2.8032, 2.2707, 2.2675, 1.9806, 2.2346, 2.5526, 0.4932, 3.2509, 3.2509, 3.2505, 3.2503, 3.2501, 3.2501, 3.2501, 3.2499, 3.2499, 3.2499, 3.2497, 3.2496, 3.2484, 3.2482, 3.2479, 3.2476, 3.2475, 3.247, 3.247, 3.2458, 3.2458, 3.2457, 3.2456, 3.2455, 3.2453, 3.2452, 3.2452, 3.245, 3.2449, 3.2444, 3.2321, 3.156, 3.0932, 3.0274, 2.9745, 3.056, 2.8135, 2.2535, 2.7405, 2.0149, 2.5864, 2.1865, 2.5208, 1.8936, 1.1099, 1.6654, 1.9528, 1.5087, 3.4095, 3.4084, 3.4082, 3.4081, 3.4081, 3.4079, 3.4077, 3.4076, 3.4075, 3.407, 3.4065, 3.406, 3.406, 3.4058, 3.4057, 3.4056, 3.4055, 3.4051, 3.4049, 3.4048, 3.4045, 3.4044, 3.404, 3.4039, 3.4039, 3.4038, 3.4036, 3.4034, 3.4032, 3.4032, 3.3133, 3.3578, 3.2944, 3.0677, 2.841, 2.6381, 2.6864, 2.9119, 2.4378, 1.7207, 1.5735, 3.4267, 3.4264, 3.4263, 3.426, 3.4251, 3.4248, 3.4248, 3.4246, 3.4245, 3.4245, 3.4238, 3.4236, 3.4231, 3.4228, 3.4226, 3.4225, 3.4224, 3.4223, 3.422, 3.4218, 3.4217, 3.4215, 3.4208, 3.4206, 3.4205, 3.4204, 3.4202, 3.4202, 3.42, 3.42, 3.412, 3.2667, 3.1552, 3.0599, 3.2612, 2.9911, 3.1605, 2.8422, 3.1637, 2.5782, 2.3941, 2.4987, 2.9086, 2.6426, 3.4285, 3.4284, 3.4282, 3.4271, 3.427, 3.4269, 3.4269, 3.4266, 3.4265, 3.4261, 3.4257, 3.4248, 3.4244, 3.424, 3.4236, 3.4234, 3.4232, 3.4231, 3.4228, 3.4227, 3.4227, 3.4226, 3.4225, 3.4225, 3.4221, 3.422, 3.4219, 3.4218, 3.4218, 3.4213, 3.2682, 3.3372, 3.2662, 3.2004, 3.0487, 2.4395, 2.9636, 3.1808, 2.1297, 2.9447, 1.7655, 2.0024, 1.375, 1.7778, 0.7043, 0.9764, 2.8433, 3.453, 3.4523, 3.4523, 3.452, 3.452, 3.4519, 3.4517, 3.4514, 3.4514, 3.4508, 3.4506, 3.4505, 3.4503, 3.4497, 3.4494, 3.4493, 3.4492, 3.4492, 3.4491, 3.4491, 3.4488, 3.4487, 3.4482, 3.4477, 3.4477, 3.4472, 3.447, 3.4466, 3.4465, 3.4461, 3.4383, 3.4331, 3.3363, 3.3169, 3.3506, 2.443, 2.8861, 2.9076, 1.6359, 2.3969, 2.1077, 0.8965, 2.1529, 3.5371, 3.5363, 3.5352, 3.5351, 3.5351, 3.5344, 3.5343, 3.534, 3.5339, 3.5338, 3.5338, 3.5337, 3.5336, 3.533, 3.5325, 3.5324, 3.5322, 3.5322, 3.5321, 3.5321, 3.532, 3.5318, 3.5314, 3.5313, 3.5311, 3.5307, 3.5306, 3.5305, 3.53, 3.53, 3.4467, 3.5094, 3.3978, 3.152, 3.3073, 3.1745, 3.135, 3.1659, 2.3295, 2.6139, 3.0751, 2.22, 2.6221, 3.2831, 1.9281, 2.2753, 3.626, 3.6257, 3.6257, 3.6245, 3.6241, 3.623, 3.6228, 3.6225, 3.6225, 3.6224, 3.6223, 3.6221, 3.622, 3.622, 3.6217, 3.6217, 3.6216, 3.6213, 3.6213, 3.6212, 3.621, 3.6208, 3.6208, 3.6208, 3.6208, 3.6205, 3.6204, 3.6203, 3.6203, 3.6201, 3.5632, 3.4401, 3.4088, 2.8733, 3.1498, 3.4733, 2.6632, 3.7488, 3.7471, 3.7469, 3.7464, 3.7463, 3.7462, 3.7461, 3.7456, 3.7452, 3.745, 3.7446, 3.7446, 3.7444, 3.7443, 3.744, 3.7439, 3.7434, 3.7434, 3.743, 3.7422, 3.742, 3.742, 3.7418, 3.7417, 3.7407, 3.7404, 3.7396, 3.7391, 3.7391, 3.739, 3.7364, 3.6315, 3.579, 3.5745, 3.3912, 3.3678, 2.3878, 3.3949, 2.9381, 2.5758, 2.1635, 1.9082, 2.2293, 3.8345, 3.8331, 3.8319, 3.8318, 3.8314, 3.8308, 3.8305, 3.8303, 3.8301, 3.8301, 3.8293, 3.8292, 3.8288, 3.8285, 3.8284, 3.8279, 3.8279, 3.8278, 3.8276, 3.8274, 3.8271, 3.827, 3.8269, 3.8269, 3.8268, 3.8268, 3.8266, 3.8265, 3.8264, 3.8262, 3.7285, 3.7159, 3.6638, 3.6898, 3.2464, 3.4753, 3.5289, 2.0485, 3.225, 2.5306, 3.3774, 3.9101, 3.9097, 3.9097, 3.9094, 3.9092, 3.9091, 3.9091, 3.9087, 3.9082, 3.908, 3.908, 3.9078, 3.9078, 3.9071, 3.9067, 3.9065, 3.9057, 3.9055, 3.9055, 3.9052, 3.9052, 3.9052, 3.9051, 3.905, 3.9049, 3.9042, 3.9041, 3.9041, 3.9035, 3.9035, 3.7128, 3.6157, 3.2253, 3.6554, 3.294, 3.0564, 3.9635, 3.9624, 3.9619, 3.9616, 3.9614, 3.9612, 3.9612, 3.961, 3.9594, 3.9592, 3.9589, 3.9588, 3.9586, 3.9583, 3.9572, 3.9571, 3.957, 3.9569, 3.9566, 3.9565, 3.9563, 3.9563, 3.9562, 3.9558, 3.9555, 3.9554, 3.9554, 3.9554, 3.9552, 3.9552, 3.7745, 3.6656, 3.3063, 2.3926, 2.5528, 2.4008, 2.6782, 4.0437, 4.0436, 4.042, 4.0415, 4.0413, 4.0412, 4.0409, 4.0407, 4.0405, 4.039, 4.0389, 4.0385, 4.0375, 4.0373, 4.0366, 4.0364, 4.0364, 4.0362, 4.0361, 4.036, 4.0354, 4.0354, 4.0353, 4.0351, 4.0344, 4.034, 4.0339, 4.0334, 4.0331, 4.0329, 3.8927, 3.4162, 3.7169, 4.049, 4.0475, 4.0472, 4.0466, 4.0456, 4.0454, 4.0453, 4.0451, 4.0449, 4.0449, 4.044, 4.043, 4.0427, 4.0422, 4.0422, 4.042, 4.0411, 4.0409, 4.0407, 4.0394, 4.0392, 4.0377, 4.0377, 4.0375, 4.0374, 4.0367, 4.0359, 4.0357, 4.0355, 4.0352, 3.9821, 3.9977, 3.9199, 3.6759, 3.7843, 3.707, 3.9749, 3.945, 3.3425, 3.3855, 2.4888, 3.0492, 3.1509, 2.034, 4.114, 4.113, 4.1123, 4.1117, 4.1116, 4.111, 4.1107, 4.1105, 4.1099, 4.1092, 4.109, 4.1086, 4.1086, 4.1083, 4.1079, 4.1078, 4.1072, 4.1068, 4.1067, 4.1066, 4.1066, 4.1065, 4.1064, 4.1064, 4.1061, 4.1059, 4.1053, 4.1043, 4.104, 4.1037, 3.786, 3.9688, 3.3552, 3.7949, 3.5642, 3.5283, 2.5368, 4.1947, 4.1939, 4.1937, 4.1935, 4.1934, 4.1931, 4.1931, 4.1927, 4.1918, 4.1916, 4.1911, 4.1906, 4.1899, 4.1895, 4.1894, 4.1894, 4.1891, 4.1889, 4.1879, 4.1877, 4.1871, 4.1859, 4.1859, 4.1858, 4.1858, 4.1857, 4.1855, 4.1854, 4.1844, 4.1833, 4.1728, 4.1487, 4.0226, 3.5759, 2.9747, 3.1887, 2.315]}, \"token.table\": {\"Topic\": [6, 6, 10, 3, 6, 7, 18, 10, 3, 5, 2, 16, 1, 5, 19, 1, 14, 4, 9, 10, 14, 16, 2, 10, 11, 15, 2, 3, 10, 13, 1, 2, 3, 4, 5, 6, 7, 4, 7, 10, 8, 3, 1, 15, 6, 3, 5, 6, 5, 10, 1, 3, 4, 12, 2, 2, 4, 13, 4, 18, 1, 2, 19, 10, 18, 2, 4, 8, 12, 8, 13, 18, 3, 5, 6, 9, 9, 17, 1, 4, 9, 1, 2, 9, 9, 2, 3, 9, 11, 18, 1, 13, 5, 2, 3, 4, 2, 3, 4, 8, 19, 2, 2, 12, 8, 19, 1, 20, 3, 6, 15, 19, 13, 19, 6, 3, 2, 16, 10, 11, 9, 8, 4, 15, 9, 13, 10, 12, 13, 19, 14, 1, 3, 4, 19, 11, 14, 5, 5, 9, 1, 2, 3, 4, 5, 1, 2, 6, 19, 11, 14, 19, 20, 18, 6, 4, 8, 12, 13, 1, 2, 3, 7, 13, 16, 2, 3, 12, 16, 16, 2, 14, 2, 19, 3, 6, 3, 2, 4, 16, 3, 7, 8, 2, 2, 20, 4, 13, 4, 2, 2, 3, 2, 5, 7, 9, 9, 9, 11, 6, 5, 1, 2, 4, 9, 17, 7, 4, 10, 11, 13, 15, 6, 15, 10, 1, 3, 5, 6, 7, 15, 18, 3, 7, 8, 10, 2, 2, 4, 7, 16, 18, 20, 5, 20, 16, 3, 6, 5, 2, 8, 17, 8, 10, 15, 20, 8, 14, 12, 20, 14, 6, 3, 11, 13, 5, 7, 19, 1, 3, 11, 1, 2, 4, 7, 4, 13, 2, 3, 4, 19, 9, 7, 6, 7, 8, 10, 4, 13, 4, 13, 18, 8, 18, 3, 11, 20, 14, 3, 7, 8, 3, 18, 2, 4, 13, 14, 20, 6, 9, 2, 3, 8, 8, 12, 11, 20, 2, 3, 8, 3, 20, 3, 8, 12, 12, 3, 3, 19, 17, 16, 16, 4, 16, 12, 15, 8, 14, 1, 2, 7, 14, 16, 6, 6, 13, 17, 5, 1, 9, 12, 16, 16, 4, 14, 15, 11, 6, 11, 1, 14, 16, 1, 2, 11, 12, 13, 8, 17, 20, 19, 10, 12, 4, 5, 16, 2, 13, 16, 20, 6, 11, 8, 5, 7, 7, 8, 18, 18, 7, 5, 5, 6, 10, 14, 1, 12, 2, 3, 6, 4, 12, 6, 16, 19, 1, 2, 7, 9, 2, 9, 11, 2, 16, 10, 4, 10, 15, 20, 7, 8, 2, 3, 8, 18, 15, 20, 1, 8, 8, 13, 3, 6, 11, 18, 12, 2, 12, 2, 7, 10, 20, 2, 16, 9, 5, 17, 6, 11, 15, 16, 14, 7, 20, 3, 4, 7, 5, 6, 17, 2, 5, 8, 9, 12, 4, 13, 19, 13, 4, 20, 1, 2, 3, 4, 9, 17, 13, 20, 1, 6, 16, 12, 11, 2, 4, 10, 5, 18, 1, 2, 17, 19, 12, 3, 14, 9, 13, 11, 10, 15, 1, 6, 9, 4, 4, 1, 2, 3, 4, 9, 13, 1, 4, 9, 9, 10, 10, 14, 1, 2, 9, 4, 7, 6, 2, 3, 9, 11, 14, 15, 4, 20, 14, 1, 5, 13, 3, 1, 1, 2, 4, 11, 13, 16, 1, 2, 11, 10, 1, 3, 9, 11, 7, 2, 4, 8, 10, 9, 9, 12, 10, 18, 17, 1, 5, 11, 4, 11, 6, 15, 1, 7, 6, 14, 16, 10, 8, 10, 2, 3, 4, 5, 2, 5, 5, 7, 4, 19, 15, 20, 7, 16, 18, 1, 5, 15, 1, 7, 10, 17, 4, 13, 10, 2, 5, 7, 10, 13, 14, 19, 12, 10, 2, 11, 18, 4, 1, 2, 13, 7, 18, 14, 4, 13, 9, 13, 1, 2, 8, 14, 8, 1, 3, 4, 1, 3, 4, 9, 1, 17, 2, 7, 13, 2, 3, 9, 19, 20, 10, 18, 9, 12, 15, 16, 5, 2, 4, 2, 11, 1, 1, 5, 14, 3, 5, 9, 1, 2, 1, 2, 4, 5, 2, 1, 5, 9, 10, 15, 16, 1, 1, 3, 11, 20, 17, 18, 12, 3, 6, 5, 1, 2, 3, 4, 2, 4, 10, 7, 15, 15, 15, 1, 2, 3, 4, 6, 7, 10, 19, 3, 20, 2, 17, 11, 1, 2, 3, 5, 9, 1, 1, 2, 3, 18, 16, 19, 4, 10, 6, 1, 2, 5, 7, 20, 4, 7, 15, 16, 12, 18, 20, 16, 18, 4, 13, 13, 2, 5, 19, 4, 12, 15, 8, 17, 3, 6, 6, 18, 16, 1, 4, 6, 17, 18, 1, 18, 3, 6, 16, 1, 2, 3, 4, 2, 3, 1, 2, 5, 9, 4, 20, 18, 8, 18, 7, 8, 9, 18, 7, 10, 12, 15, 16, 3, 1, 3, 5, 6, 7, 12, 5, 7, 16, 10, 1, 3, 5, 2, 4, 5, 14, 1, 3, 5, 9, 1, 1, 14, 20, 10, 1, 3, 5, 8, 9, 3, 4, 5, 9, 10, 15, 8, 18, 19, 9, 1, 6, 7, 8, 3, 19, 11, 3, 14, 16, 17, 1, 2, 3, 4, 1, 7, 10, 2, 6, 8, 15, 5, 9, 9, 12, 20, 1, 18, 12, 12, 5, 10, 18, 13, 1, 2, 3, 10, 17, 19, 13, 16, 8, 15, 10, 19, 10, 1, 2, 4, 3, 11, 3, 13, 2, 7, 16, 1, 7, 8, 3, 9, 13, 15, 1, 9, 12, 1, 2, 3, 4, 17, 14, 9, 11, 9, 1, 2, 3, 9, 7, 13, 4, 3, 2, 3, 1, 2, 5, 14, 17, 10, 18, 2, 4, 11, 20, 10, 18, 7, 17, 4, 12, 1, 1, 5, 6, 18, 12, 14, 8, 11, 7, 7, 8, 7, 9, 16, 1, 2, 3, 1, 3, 6, 16, 6, 12, 3, 5, 6, 12, 7, 3, 4, 13, 2, 2, 3, 7, 10, 4, 7, 10, 10, 1, 6, 15, 20, 3, 8, 10, 1, 2, 11, 15, 1, 2, 3, 5, 2, 4, 18, 7, 7, 1, 11, 13, 15, 7, 18, 17, 15, 1, 2, 2, 3, 4, 8, 2, 10, 12, 14, 16, 3, 12, 3, 14, 2, 2, 11, 3, 3, 19, 3, 5, 2, 3, 3, 8, 16, 16, 6, 10, 4, 3, 4, 10, 8, 13, 19, 11, 18, 9, 1, 2, 7, 10, 13, 7, 4, 13, 16, 9, 4, 14, 15, 13, 2, 1, 3, 6, 9, 11, 13, 1, 2, 3, 18, 6, 11, 5, 15, 17, 11, 1, 2, 4, 5, 15, 17, 3, 17, 19, 7, 8, 8, 8, 9, 6, 11, 10, 9, 20, 3, 3, 3, 7, 1, 2, 3, 5, 20, 1, 4, 5, 2, 20, 7, 10, 11, 16, 5, 1, 3, 5, 1, 2, 3, 4, 6, 6, 10, 10, 13, 15, 13, 5, 4, 13, 13, 18, 17, 18, 20, 2, 1, 2, 3, 9, 13, 3, 13, 2, 12, 11, 6, 11, 19, 10, 5, 17, 4, 7, 11, 4, 8, 10, 1, 9, 3, 6, 11, 18, 2, 3, 4, 5, 8, 10, 3, 5, 17, 3, 8, 6, 17, 13, 6, 11, 17, 16, 2, 3, 11, 9, 1, 2, 3, 4, 7, 10, 13, 2, 8, 15, 13, 7, 20, 11, 1, 2, 4, 9, 20, 2, 4, 13, 14, 20, 12, 17, 7, 19, 6, 20, 3, 8, 12, 8, 10, 16, 2, 3, 4, 1, 2, 20, 16, 19, 11, 16, 3, 6, 10, 19, 1, 2, 4, 9, 2, 3, 4, 9, 19, 7, 6, 14, 7, 9, 15, 3, 7, 14, 10, 4, 1, 1, 5, 6, 8, 1, 2, 1, 2, 1, 2, 9, 18, 2, 4, 9, 16, 16, 9, 1, 2, 3, 4, 9, 20, 20, 19, 1, 2, 4, 7, 14, 18, 3, 8, 4, 19, 9, 10, 3, 8, 5, 16, 19, 13, 2, 3, 20, 2, 1, 2, 6, 11, 15, 4, 1, 2, 11, 13, 3, 6, 2, 17, 15, 11, 15, 15, 20, 18, 5, 9, 13, 1, 2, 3, 6, 3, 5, 6, 7, 6, 5, 17, 17, 18, 17, 3, 6, 12, 4, 6, 2, 6, 8, 4, 12, 4, 20, 19, 1, 1, 2, 4, 14, 14, 14, 14, 19, 11, 16, 1, 2, 3, 4, 13, 14, 16, 9, 5, 1, 2, 3, 9, 10, 19, 1, 10, 17, 1, 6, 9, 12, 6, 9, 5, 20, 14, 19, 4, 2, 4, 1, 2, 6, 8, 1, 3, 4, 6, 15, 1, 2, 4, 10, 1, 1, 2, 17, 1, 2, 1, 3, 4, 8, 9, 16, 9, 14], \"Freq\": [0.9917414384927248, 0.015121606242970978, 0.9842790972697473, 0.007223976431247289, 0.3846767449639181, 0.6086200143325841, 0.9922299776490129, 0.993671938965016, 0.9981959606966423, 0.9994370182024438, 0.16845654076756922, 0.8254370497610892, 0.07437853170680367, 0.9239466494245167, 0.9902358148131611, 0.9962892134393995, 0.9887092304076358, 0.11079605959297288, 0.04824989691952045, 0.18227738836263283, 0.5557673311841059, 0.1018608934967654, 0.9987494367709037, 0.9881883456092074, 0.9975469085615766, 0.9938522969752872, 0.17014489348246725, 0.7446031678691479, 0.04999102540464244, 0.03508142133659119, 0.2921452971086625, 0.17459707126415341, 0.5086088597694903, 0.0057508916753673716, 0.011041712016705355, 0.007821212678499626, 0.9918031986297297, 0.8885631801234671, 0.06481919855004016, 0.045913598972945106, 0.9951899217150671, 0.9985471461920937, 0.9975629252817368, 0.9935848883492567, 0.9975493015613057, 0.23076066126219233, 0.1224157166451874, 0.6458484360935749, 0.9984143042478542, 0.993270340335829, 0.11083961107125603, 0.5410289926547448, 0.327031723754795, 0.019753594052303054, 0.996376978560829, 0.998294742159441, 0.29644363890026065, 0.7017083604347942, 0.997078622679423, 0.9932739708619216, 0.9943937375316678, 0.005401797425672571, 0.990363694939335, 0.9008356723792817, 0.09335084687868205, 0.9991906098026717, 0.9983178089586697, 0.9915378621823068, 0.9933906802547959, 0.9976600829831982, 0.03972994939688137, 0.9535187855251529, 0.3996984285450465, 0.5432875698921115, 0.056260072925458225, 0.9973143363997188, 0.9924753124506211, 0.9996675822197694, 0.9509311289862823, 0.0401419871905219, 0.00813688929537606, 0.9069338252966658, 0.04531522236041633, 0.04720335662543368, 0.9925904207333754, 0.2150492461297488, 0.7619127587487584, 0.021840939060052612, 0.9971224533488581, 0.9929092988750259, 0.999804154186572, 0.998130762353613, 0.9935345826378329, 0.7855181558681869, 0.11995597454144724, 0.09383652847193857, 0.30436923650153813, 0.18876745917643473, 0.273639650123979, 0.026339645466479263, 0.20632722282075422, 0.998514587064285, 0.9997496584364626, 0.9931771221069151, 0.9973300046576762, 0.9957907244474226, 0.9979075781435176, 0.9841909165883248, 0.7194891759199719, 0.25687135223485996, 0.023068543768664608, 0.9980332762032732, 0.993777184119231, 0.9845464075275675, 0.9931640917187579, 0.9971983732998734, 0.2566076529580587, 0.7413109974343918, 0.02110581744060053, 0.9708676022676245, 0.9914500760033421, 0.9991347223012612, 0.9962562695204933, 0.9980287847109958, 0.7809524323084602, 0.2141321185361907, 0.9977338364345408, 0.8279101128291343, 0.16896124751614985, 0.9888141487436838, 0.9935044446605503, 0.019436755501372537, 0.9792422533548639, 0.9572565568611421, 0.04025845332593588, 0.9987220550981281, 0.9905425481047612, 0.994371904825286, 0.9735599995823198, 0.024667905394822293, 0.4386981516912348, 0.15061094229719038, 0.37959211328972114, 0.021015480320538193, 0.00963209514691334, 0.6153620046162761, 0.36351940643072606, 0.020891919909811842, 0.99569525857182, 0.9940353222369075, 0.8642367379653854, 0.06674999195667611, 0.0632368344852721, 0.9989798203127722, 0.999359626289083, 0.1711614931636287, 0.039498806114683545, 0.08887231375803797, 0.6994580249475212, 0.02246788703891384, 0.43338057666171587, 0.4338798630403584, 0.038445051155474794, 0.02895860996126673, 0.042938628563257565, 0.586117529621527, 0.1781797290049442, 0.02719585337443885, 0.20725115847417191, 0.9979678536377731, 0.9870392411301597, 0.009890172756815228, 0.9980857324879476, 0.995311965344532, 0.17629077239723512, 0.8226902711870973, 0.9981213557226523, 0.1962680403627233, 0.7782454470034942, 0.024746839871821632, 0.5140824745309666, 0.48486286674235035, 0.9978009777816579, 0.9975905326991286, 0.9981494053911004, 0.9973546968338253, 0.7936079049398281, 0.20480203998447177, 0.9955244707159603, 0.9990781909000954, 0.9671202971994287, 0.03134911822364437, 0.9978630153038032, 0.9979448508374931, 0.9971064974640995, 0.9933811332293893, 0.9960010920157191, 0.994093650207623, 0.992692492436382, 0.9993554391321121, 0.9989414121420704, 0.6480861597823995, 0.28862136670471233, 0.05335122233026501, 0.00962071222349041, 0.9886747311903302, 0.9962201438372366, 0.10948203145041165, 0.8888898267759613, 0.6955525644958711, 0.21428639613256636, 0.08957873936689249, 0.9960407917091868, 0.9920477133650314, 0.9920497924458789, 0.0039553985202245455, 0.1906502086748231, 0.4619905471622269, 0.27292249789549367, 0.07040609365999691, 0.11885865421490399, 0.876582574834917, 0.20655883001582676, 0.1816952671435513, 0.3959044241970013, 0.21420915705344998, 0.9975616798054407, 0.16365005722510487, 0.10198481827071754, 0.007115219879352386, 0.23717399597841285, 0.12095873794899056, 0.3652479538067558, 0.9954959050974344, 0.9952234752508834, 0.9903381220519414, 0.9903835141420241, 0.00896274673431696, 0.9978455154367444, 0.23250550153796476, 0.7659004756544722, 0.9847389608317322, 0.15218626691047107, 0.02675802495129162, 0.8194645141333059, 0.9921984792755494, 0.9959867211817718, 0.9937652887357125, 0.9930905391178002, 0.9970480732181812, 0.9962661972428095, 0.9970176560461825, 0.9983936241229139, 0.9952868236178403, 0.997069799115197, 0.9992398185061876, 0.9898379885402793, 0.9914438642803474, 0.17724078838156146, 0.7771326875191541, 0.045096768641462386, 0.872659752781608, 0.08546667681881728, 0.026195668746324802, 0.015611560161951143, 0.9836308267452721, 0.015726655660171503, 0.06991713463485939, 0.321944015295399, 0.13983426926971879, 0.468282204066035, 0.9962064240925118, 0.9941500376852688, 0.22236023058575133, 0.03084766204657822, 0.6927870767960691, 0.053983408581511884, 0.15513364378853675, 0.842154066280628, 0.010442011971818698, 0.9885104666655035, 0.9891783955240064, 0.992715396196205, 0.9925939199104834, 0.9981080371858047, 0.9954759662142234, 0.9954867471261603, 0.9948933602908567, 0.9360899062577466, 0.06223312396173385, 0.9943189053168433, 0.23133604475308223, 0.7686326648247571, 0.3275681049400024, 0.6327766122731786, 0.038011315931604374, 0.9911292354907913, 0.9953228719922788, 0.9946612577859982, 0.993452409867839, 0.07162323330847288, 0.47032589872563857, 0.45600125206394404, 0.19437218711381185, 0.8011926737130294, 0.9919732875051572, 0.9893854455531967, 0.13881893175953408, 0.43169301949611205, 0.428307191892221, 0.9133420645316731, 0.08526452817621631, 0.960654399598089, 0.03549762215604948, 0.9900448917322371, 0.9912947649139945, 0.997306625860854, 0.9985343685922371, 0.9966355246093614, 0.9975945996682245, 0.9900240557266934, 0.9950129416683738, 0.9079651760343637, 0.09079651760343636, 0.9901700596588858, 0.9971014371379259, 0.9964409070295956, 0.9914640764759342, 0.9961502994750437, 0.6243447451706767, 0.10248082938407573, 0.27118004083170805, 0.9949176794367938, 0.9992600439881979, 0.9982982208014638, 0.9892052677032815, 0.9885454259753436, 0.9970783033369274, 0.9987125973823924, 0.9126299120657514, 0.085865717533068, 0.9908247994329252, 0.9960393167877202, 0.9956960204354035, 0.9914078457972088, 0.9902678374641778, 0.9993772578245345, 0.7993445124804325, 0.20028722547478103, 0.9965902538086311, 0.8885601688593932, 0.11080366614073968, 0.36714488265635464, 0.10261813490395005, 0.1368241798719334, 0.380827300643548, 0.011402014989327783, 0.851957076984192, 0.14749644485256036, 0.9960183689474643, 0.9917752099263265, 0.9948191122451099, 0.9983515776599234, 0.9936862944946966, 0.9926096247560245, 0.9945998786416529, 0.5720468092880299, 0.057204680928802994, 0.2431198939474127, 0.12513523953175654, 0.9917614813645131, 0.9947984950982558, 0.9904994423907598, 0.9991036133823407, 0.998747324841597, 0.9986393761422068, 0.9920171393342267, 0.9985367857783859, 0.989879800384123, 0.9935244237350073, 0.9993232518303975, 0.15097626891582, 0.27617610167528045, 0.025776436156359512, 0.5449875073058867, 0.05607650699593111, 0.9392814921818461, 0.21129832781638933, 0.18763291510095373, 0.6000872509985457, 0.9965708664142116, 0.9905601965061598, 0.994095444207519, 0.9898540013164123, 0.9961296702103655, 0.5514597847303474, 0.4418507501183093, 0.000341461167015695, 0.005804839839266815, 0.6099767991831985, 0.12136759640694858, 0.2678457300015417, 0.9906539429771307, 0.009010256063458824, 0.9969056591974378, 0.17797030390177718, 0.5666949150556588, 0.22480459440224485, 0.03044228882530399, 0.2283809164020429, 0.7678323913516959, 0.8738504630936388, 0.09161335500175245, 0.03445288564168468, 0.9982731026497708, 0.9932175227617818, 0.9966234397330749, 0.23722955187775177, 0.7609494368974878, 0.9910176022801342, 0.9966184141434049, 0.9970947835339979, 0.13824515285860237, 0.7766124763527368, 0.08132067815211903, 0.994113908777222, 0.37693393341231785, 0.6203085990801136, 0.9423146637622108, 0.012472728838679165, 0.04427818737731103, 0.9893986386694142, 0.999011057108088, 0.9969677481518175, 0.9981369731328261, 0.9989880542597089, 0.9870017184686001, 0.32227674019179586, 0.6678105647273296, 0.008306101551334946, 0.9912035924875926, 0.9952451011056004, 0.9958655546894484, 0.9926402151284275, 0.9974343277354374, 0.8735150982369978, 0.12524665011486366, 0.8244729064832431, 0.17513313373010064, 0.9905542287618097, 0.09003867335319322, 0.22509668338298308, 0.06902964957078148, 0.6152642679134871, 0.9968079039201455, 0.10290680442422537, 0.17532270383386545, 0.7203476309695775, 0.9971314814237275, 0.01881946132871909, 0.9786119890933925, 0.3829426455913966, 0.1433766303399068, 0.2551741041239354, 0.09001874512480225, 0.12813152027844835, 0.997489527374649, 0.9926755355047189, 0.9894300641824659, 0.996661628623849, 0.9966989910638381, 0.9956898383619458, 0.99119907901955, 0.9959710945050753, 0.09231195232771224, 0.6335956727947522, 0.2727398591500589, 0.9941620968989102, 0.9880099432147387, 0.9841175464973527, 0.014285577287864797, 0.7192948010660488, 0.27454000040688886, 0.9940809039870881, 0.997994343270084, 0.9914337644814316, 0.9990732046713441, 0.9925210860473044, 0.9904491161342802, 0.9944912494025491, 0.9969094186578841, 0.9906948653191082, 0.0011123071092654657, 0.008156918801280083, 0.9962149348444979, 0.9939699408681278, 0.5183148217726576, 0.32656829811109644, 0.09953508780348402, 0.02563278180892398, 0.029294607781627405, 0.9924268250342936, 0.9476205470926339, 0.025077796009771277, 0.027212076521241173, 0.7946329191810264, 0.20195090763716692, 0.9988534497472291, 0.9949377666840333, 0.8531464748608846, 0.08116847408036186, 0.06559290202710323, 0.5374494026834565, 0.4622185232484823, 0.9991792619734992, 0.42999523817646157, 0.3559363043604805, 0.1919486651965224, 0.008312737469140734, 0.012846957906853862, 0.9981819098083475, 0.04564349074789565, 0.9531434832648797, 0.9997243579422078, 0.9977055713140066, 0.9927220150403291, 0.9991935800211433, 0.9988823472615117, 0.9994073050636811, 0.46103085507344277, 0.028927426200686605, 0.11028581239011769, 0.3995600743969837, 0.9948494773542591, 0.9921389031463319, 0.9906761184232419, 0.009246310438616925, 0.9971352683442015, 0.9946900634406801, 0.0053093985345649556, 0.6882307850429824, 0.006636748168206195, 0.29865366756927875, 0.994247940649322, 0.32344296623633395, 0.22507629093765508, 0.103368370652849, 0.3467842112224611, 0.9987728654535609, 0.997261304490492, 0.9945192739774495, 0.9956944283982831, 0.9928964435826353, 0.9943194380322801, 0.9319133299451047, 0.06785907914598818, 0.9961625714495148, 0.9965227227793101, 0.9965464035513079, 0.9927203848551487, 0.9959531840100427, 0.9985416720025141, 0.9953205325688936, 0.9991671345620452, 0.9932698990361335, 0.9889413776064693, 0.9962296653822913, 0.9897316504997399, 0.9942107949911771, 0.02452197640611837, 0.36615769315499475, 0.030652470507647963, 0.5784957161261561, 0.9984407725738299, 0.9993713180263699, 0.8150548579816141, 0.18489670389397728, 0.9932241286475932, 0.9888597036833159, 0.9967800188506117, 0.9954164591066419, 0.9982696498194009, 0.06126166079226139, 0.9364282435388527, 0.3848031500149991, 0.6135322951288098, 0.9956262452655598, 0.9959541462338597, 0.9987194253009261, 0.9942432722003834, 0.9913667566892416, 0.9922865251929093, 0.992599040773531, 0.9977356807547278, 0.4680432242323895, 0.07183919255659932, 0.15964265012577625, 0.10957290985905552, 0.007982132506288812, 0.16762478263206507, 0.015964265012577625, 0.9987872012814651, 0.9980348264433692, 0.9957030257220819, 0.9933208454508556, 0.9804306872100306, 0.9971756830684309, 0.7320149841028707, 0.10858534291040026, 0.15850963850138888, 0.9995506143028408, 0.9952362622082487, 0.9961801412265815, 0.9321033100206236, 0.06720220493594384, 0.9926188252833366, 0.9947021438458469, 0.8432167195192103, 0.1566199910551629, 0.25758808864403016, 0.7367019335219264, 0.9974811663515131, 0.04203640917326923, 0.877398242531428, 0.07960085992385024, 0.5650480665390178, 0.0410944048392013, 0.12086589658588617, 0.27255259680117333, 0.9975502703646211, 0.9976816875583409, 0.6691084598760297, 0.021074282200819836, 0.30934035659060544, 0.4094610477245144, 0.10555511428592299, 0.14615323516512413, 0.0440779598117041, 0.2946263629519169, 0.9970698908079524, 0.9924685653504747, 0.025731939374939377, 0.47032266968639197, 0.5032023699988145, 0.9940318884988524, 0.9967662970391795, 0.924585187835867, 0.07505088334180657, 0.08545695090940976, 0.9132164361887906, 0.9992073797286122, 0.9216376452653288, 0.07832709171503836, 0.9934618700655925, 0.04021132506643785, 0.9474793468779418, 0.011728303144377705, 0.9371524068543158, 0.06216151509055303, 0.012550968580122744, 0.5538114885979161, 0.4330084160142347, 0.9956356084658071, 0.9977995004910748, 0.9383984104416824, 0.06107309581667988, 0.683340320955249, 0.14951530523332027, 0.13622505587924735, 0.029903061046664056, 0.9992651913055012, 0.025553342366947635, 0.5049827182039651, 0.3966852196011871, 0.07179272379285287, 0.9914825486470007, 0.9858693749393943, 0.9951357469689619, 0.14506527082820422, 0.8530703986016785, 0.9992769001682522, 0.6277781430964232, 0.2899785588046687, 0.08224538071360488, 0.9936750560651055, 0.4620255850527574, 0.17386569992240197, 0.36366331657076106, 0.9936483522614818, 0.9910005976913965, 0.9895228151760591, 0.9953211394323721, 0.18974528027561538, 0.5744581879903952, 0.21028651245224161, 0.025415422862605362, 0.996125369678777, 0.9976206701228222, 0.995444041210638, 0.9953807810499152, 0.9962019814390345, 0.9972771842244208, 0.998528280934918, 0.9992198013417777, 0.9927224679291792, 0.22000084675098597, 0.40177264076662933, 0.3670356649638421, 0.0033082834097892624, 0.007903121478941016, 0.9991557807305956, 0.21581154131897431, 0.7639433603865287, 0.019172323716264233, 0.9819490401099474, 0.9931715467476132, 0.996529507804014, 0.0193923334255899, 0.9784313682911268, 0.9982013212538746, 0.11486462628232343, 0.05898453782065257, 0.44704070769336685, 0.37796670945602373, 0.9936412638282285, 0.08624688440465546, 0.24436617247985712, 0.5390430275290966, 0.1293703266069832, 0.9901247313866257, 0.9267943924172678, 0.060443112548952245, 0.9900197270645335, 0.9942022397187422, 0.962122308302326, 0.03469191015513195, 0.993053884652965, 0.999271923416284, 0.9975481242861065, 0.996451489066648, 0.9966835356242559, 0.9966179450623966, 0.9921874955490462, 0.1375134770281703, 0.8602587283855304, 0.0893034223139267, 0.9094368925438658, 0.3107617850078318, 0.688456877555812, 0.9926447518788918, 0.9895873012286753, 0.009884889801396313, 0.9978961750654606, 0.9921401059892476, 0.9942644795904478, 0.9982109537854224, 0.9970355647275427, 0.9969357972214852, 0.9955087192934471, 0.9922814155432839, 0.9162513050497557, 0.07656901223396914, 0.006626164520247329, 0.9977691304248519, 0.653380661263588, 0.34615022397267703, 0.2739119691387797, 0.25588232053723975, 0.4632232794549489, 0.006241032208225359, 0.9779905117471671, 0.018178262300133217, 0.9884578198605926, 0.9984098261051771, 0.9805042955757315, 0.16587268369731847, 0.5946379226885001, 0.07198248537808159, 0.16587268369731847, 0.19772484039249316, 0.5775646653570196, 0.09886242019624658, 0.08065092173904327, 0.0416262821878933, 0.9981087012102958, 0.5848133340890053, 0.33249217187844615, 0.0531365994310414, 0.026102189194195775, 0.003107403475499497, 0.9912353448840527, 0.7880087335023328, 0.20846791891596106, 0.9899536512881403, 0.9916835890826767, 0.3276687918540224, 0.6704302068479877, 0.0015886971726255632, 0.12636262863159684, 0.19440404404861053, 0.6776369535408711, 0.9948509225266927, 0.5544829684650326, 0.1980296315946545, 0.006600987719821817, 0.24011092830851857, 0.9987034623160161, 0.9986731817032459, 0.9964989606923389, 0.9955366765313772, 0.9920127718090874, 0.0393131134354299, 0.8330129981993795, 0.011687682372695376, 0.09881404187824272, 0.01593774869003915, 0.8477875247823607, 0.04935145674408752, 0.00616893209301094, 0.029963384451767425, 0.06653633900318943, 0.9974680771219887, 0.9968606902623256, 0.9949458493942304, 0.9853519331228127, 0.9933943428240445, 0.3646989449553089, 0.5135556571819656, 0.017862805467198803, 0.10122256431412656, 0.4390311185843221, 0.5566287396336941, 0.9965981831941685, 0.9983211877444546, 0.9879590241993091, 0.994045805180404, 0.9962351317084682, 0.1034069459086563, 0.20481246705779022, 0.6604701706423854, 0.0300213713928357, 0.9933502704945295, 0.002410208628582914, 0.003787470702058865, 0.4101447913185027, 0.1444422960730379, 0.019615620454363172, 0.4244106971034941, 0.9478814652327794, 0.05154642409120855, 0.14024553514599897, 0.8590039027692437, 0.9890203814269093, 0.5885051444681021, 0.4069092713179449, 0.9977387024359576, 0.9958536700344776, 0.9234928796802857, 0.07550570714367116, 0.9982431267958882, 0.984987351263873, 0.0005914163798905851, 0.4157657150630813, 0.5151236668846996, 0.0473133103912468, 0.020699573296170476, 0.9934393529930745, 0.9926390387386161, 0.997853739138209, 0.9946829899886015, 0.9990740842859752, 0.9967074653027841, 0.994418082230031, 0.988873371034614, 0.0005311723910198594, 0.7944568395020364, 0.20485548546999244, 0.20448273856683905, 0.7940303744348686, 0.9980633864219798, 0.9955302359269078, 0.9719672296199583, 0.01787330282138277, 0.009362206239771928, 0.9964430689275741, 0.9971532600585447, 0.9985602301251002, 0.29442510779650993, 0.6289990939289076, 0.07494457289365708, 0.9976762828198419, 0.9980531290346955, 0.9941040715997496, 0.9916343891205655, 0.48716268935170287, 0.08549299843388432, 0.22331360797816333, 0.20341437558406958, 0.9966628643035814, 0.9931063220298768, 0.9991259909943211, 0.998989552205798, 0.9956831400569428, 0.30096372785608433, 0.5466253707186132, 0.06621202012833854, 0.08615086709880414, 0.15774708664227655, 0.8386886773147703, 0.9958963600913617, 0.9961002627567833, 0.3309168948019815, 0.6683543195508, 0.39684648270771605, 0.21357556160269808, 0.3463387485449158, 0.04281131752846876, 0.993922382114413, 0.09274950539920791, 0.8996702023723168, 0.12535027143421135, 0.1427830906402937, 0.6798799490372125, 0.05063818912242975, 0.9970129999677688, 0.9946913572116536, 0.995445774049633, 0.994210613808159, 0.9970693359918731, 0.9984031257523507, 0.9986082076543891, 0.4421017388785794, 0.3417118243733998, 0.0057917258368372845, 0.20946741776561514, 0.3622531438373955, 0.632735491235984, 0.9912003738541111, 0.9948421808361041, 0.992939644059173, 0.9982484829519128, 0.9901895838009555, 0.9488869534676548, 0.048660869408597686, 0.9857720174521336, 0.923920173328971, 0.0006967723780761471, 0.07525141683222389, 0.6168919455608642, 0.08655796321954921, 0.290302092028642, 0.005992474376738023, 0.9940922946798921, 0.9946931439769621, 0.10068241966585208, 0.6944631288171456, 0.20480277561297716, 0.9944353883879534, 0.9922895744179692, 0.2352489024912439, 0.080376708351175, 0.6822218172246073, 0.9990963547628471, 0.13863926529242962, 0.7242349679455279, 0.12001608040240176, 0.016553942124469208, 0.056380162773899026, 0.907802331040606, 0.03513546375764722, 0.9987915042195535, 0.9983978254231788, 0.29892454499458493, 0.16071212096483062, 0.5367784840225343, 0.40401967642513764, 0.3563125559616528, 0.23853560231742446, 0.9439854477508166, 0.05232735297953529, 0.003488490198635686, 0.9971286711232326, 0.32582981650131726, 0.4760553726017989, 0.18788427861068419, 0.009414680627550624, 0.11358204588700474, 0.36995294946052976, 0.5159870084581073, 0.995113518335376, 0.994255169560976, 0.1343754821425867, 0.2828957518791299, 0.444146330450234, 0.13720443966137802, 0.9956774217227347, 0.9921126735087533, 0.9937865195489302, 0.9977986471123038, 0.9352133671290382, 0.06455931201657791, 0.9997320306127734, 0.8735220623406567, 0.07577540781750275, 0.04946450232531429, 0.06168838689146432, 0.07257457281348743, 0.1415204169863005, 0.6967158990094794, 0.025401100484720603, 0.9980471937579323, 0.9951570850423479, 0.9970242465247334, 0.9895010033030495, 0.9982055921074132, 0.997589252412401, 0.995193850875361, 0.9980023159079443, 0.9969968324631233, 0.9992481367865189, 0.08029258321524635, 0.9168894986515228, 0.09950294695840682, 0.8993171110812198, 0.34647104373246734, 0.5568284631414654, 0.09545630796710834, 0.9896956134652232, 0.9968014888726477, 0.9969736408641944, 0.9940443136468927, 0.8316502465601796, 0.11845463452489205, 0.04935609771870502, 0.9985954218125445, 0.9978645681613962, 0.9859472691591246, 0.630486157477992, 0.36732671783500404, 0.9944920534156884, 0.439677693891886, 0.19520173478820801, 0.031080664568219528, 0.07732262892581443, 0.25622596644044393, 0.9976753978184537, 0.3868926007682766, 0.09338786915096331, 0.5180803217184393, 0.99038706940047, 0.9968810570792961, 0.9975581848238043, 0.991226387203015, 0.9962271925459996, 0.9985795972662171, 0.18363911598677343, 0.23698190682102666, 0.36858993994488093, 0.1893231838625545, 0.021424563531790234, 0.9843335367432009, 0.9846962700889276, 0.015020198515013794, 0.5033969676078127, 0.49290953078264993, 0.9803716007612041, 0.018520874069796047, 0.21952533710060407, 0.7731109697890839, 0.9969585945285706, 0.9915815695715297, 0.3306892877656372, 0.5700734899628694, 0.09908235009722996, 0.2541605132041135, 0.7449532283568844, 0.9903882734632151, 0.19595355631461578, 0.0749234185908825, 0.7261808263423997, 0.9915065370935973, 0.998505899480451, 0.9957384113053912, 0.9948351996012635, 0.9987375374537258, 0.9979784321757316, 0.9976316555484251, 0.9975309543199639, 0.15163147820391082, 0.840865470039869, 0.996670769507859, 0.997841016415867, 0.9982767766208569, 0.9978593713463845, 0.7277008168539503, 0.2690483819850371, 0.0032331994401635362, 0.9978822756428156, 0.9975783117315623, 0.025827471588450196, 0.059214203154007765, 0.9146704572299923, 0.9995797622851993, 0.996842618633588, 0.9931682214833586, 0.4758265102094529, 0.24420725656252343, 0.2769360641430678, 0.9976744215286132, 0.03724445800148005, 0.9574929411213832, 0.004655557250185007, 0.009863135678392608, 0.12559059430486588, 0.49907466532666594, 0.020383813735344723, 0.3445522063651818, 0.9962892418735121, 0.996675271847644, 0.8724198602591522, 0.1261019857011754, 0.9948696360697551, 0.9953079183680695, 0.992646164118941, 0.10841505300450259, 0.8885320648412495, 0.9907744277449462, 0.9967926698644768, 0.9948708072086978, 0.9905161660555452, 0.9959536159034365, 0.9984632878560349, 0.045303202952122826, 0.05436384354254739, 0.8542889699543161, 0.045303202952122826, 0.9934596782825869, 0.9981576781583549, 0.9890076362521771, 0.9976629499876544, 0.9937586529545651, 0.995068768161157, 0.30882255947661397, 0.690199816661589, 0.9942918803902738, 0.9957451754627343, 0.999420761422465, 0.9958356433588189, 0.998252124210719, 0.7109277505175382, 0.28846957504370174, 0.9960475029938779, 0.845415235196462, 0.15082525322753784, 0.9984324557240762, 0.9963135971347412, 0.7906667609098629, 0.00376507981385649, 0.07153651646327332, 0.133032820089596, 0.008312658152872162, 0.12242278370593547, 0.04534177174293906, 0.6937291076669677, 0.12771265707594504, 0.0007556961957156511, 0.41485027312738565, 0.05048887705404288, 0.5334991342043864, 0.9982853435245036, 0.9972961337049207, 0.9955286361305788, 0.9896383242285882, 0.9921258082109643, 0.12833506678902734, 0.8693172976542447, 0.9977616194056647, 0.9941378546097072, 0.031125277473396468, 0.9677131723546901, 0.9951583549018921, 0.995352386135813, 0.11127800070565003, 0.2931747326283472, 0.01711969241625385, 0.17654682804261781, 0.03477437522051563, 0.16210208756640365, 0.20490131860703828, 0.9969481901966918, 0.994415884896001, 0.9933198098820263, 0.9971651846960278, 0.8903020671641377, 0.10653187128459768, 0.994455108820879, 0.8456776720767689, 0.07831290529153483, 0.06254861916142067, 0.012713133975898511, 0.9825564954868653, 0.2658633890691561, 0.25696419612960275, 0.21914262613650104, 0.10567791615719593, 0.152398679089851, 0.9906340296509826, 0.9902395435471855, 0.1307575135496452, 0.865490208733366, 0.9943559617130068, 0.989167997389295, 0.008086132048985152, 0.9865081099761885, 0.004043066024492576, 0.6466248877431913, 0.14290052767805334, 0.208992021729153, 0.05594444302222685, 0.9234373886200483, 0.01982841018509306, 0.9438300872882833, 0.05557996151970262, 0.9852360316735052, 0.9943525368303368, 0.9880198594935691, 0.9953251356213713, 0.9934027257377999, 0.9997643579494518, 0.2245476821106698, 0.1930322179547863, 0.5751572208448735, 0.7826612071834498, 0.1410542399513456, 0.07592981860734961, 0.9940487687389494, 0.8243875985917417, 0.05136887549013868, 0.09528097873170883, 0.02817002849459218, 0.9961509354982012, 0.9979841217454385, 0.9978015277898536, 0.9928946378903795, 0.9967817920424941, 0.9994840540947694, 0.993229515776209, 0.4334087340956149, 0.5665271309964109, 0.9903856196212811, 0.9968161526918208, 0.9980094041259202, 0.9983789612693902, 0.3731638951627675, 0.5366986633973637, 0.09018461483525529, 0.9975265553603614, 0.9975206973422124, 0.996447476513503, 0.6796550592187868, 0.3201405515125925, 0.6944089194740309, 0.3053237661500603, 0.00018013201542776418, 0.9931691728467054, 0.14012841196165296, 0.22659062359756652, 0.5575321922729597, 0.07751784491495696, 0.9916848205241434, 0.995997061832038, 0.7642162097783755, 0.1037165813885201, 0.11118588251732298, 0.02027381734960784, 0.00042681720736016497, 0.9892089751403484, 0.9863803494784672, 0.9957643261219172, 0.2705436016182512, 0.1890896140342616, 0.424724363830803, 0.1149083039131282, 0.9948327929586135, 0.994503826639341, 0.9969149161322685, 0.9943301276585362, 0.9965681095800771, 0.995518897363066, 0.85057913912811, 0.14721562023371135, 0.9965088086045637, 0.9976624828378807, 0.992669144308355, 0.9981406462162336, 0.9977220212538849, 0.9936919977514012, 0.973579092104584, 0.025070706234452806, 0.9981170194672866, 0.9987598757617899, 0.8195090338932464, 0.12823135796423316, 0.05207364790425712, 0.9934764951590555, 0.9967817202997484, 0.9956337322518894, 0.9844919796125101, 0.008369751155047907, 0.006277313366285931, 0.9955787519039768, 0.9520549573885428, 0.04665962773437071, 0.9980452730952534, 0.9903226208578291, 0.9900061258473634, 0.9970133380916522, 0.9954934900286347, 0.994729580040648, 0.9899656556103517, 0.9933197310252183, 0.9950135755912699, 0.9926492133915117, 0.9943595700680821, 0.028597352829277417, 0.001528102822938488, 0.8522447743931224, 0.11744561696298665, 0.04682513347201164, 0.2019333880980502, 0.4814209035091197, 0.2677812320430666, 0.9899229285008598, 0.9943811958482283, 0.9831141639362584, 0.2859605126974422, 0.7090253807977677, 0.9897366452942724, 0.2407910469217844, 0.7578195385355652, 0.9934680755165708, 0.9946435137266136, 0.9986036666477929, 0.8848819850969106, 0.1026658656742272, 0.012222126865979429, 0.99714114812461, 0.9925862298162577, 0.9979079203840884, 0.99264972373038, 0.9977160508905534, 0.9975759250784367, 0.9742667302026631, 0.025443953476291838, 0.9975243088323803, 0.9895385864763643, 0.9895252395348727, 0.9946043351138444, 0.8437947793003564, 0.1557417361243082, 0.9936673187712819, 0.9929699651750881, 0.6442325589376908, 0.301909723192202, 0.007131725744697685, 0.04618641434661357, 0.9968774464939698, 0.8987552904042386, 0.10012978403161317, 0.9953519599887916, 0.9947737083704322, 0.760376775390765, 0.143352348629132, 0.04361503224510503, 0.05259459770733254, 0.9924590968698156, 0.9976581348711183, 0.7385942849304797, 0.2599234243135138, 0.9881034004457921, 0.9993716919946725, 0.14804253591931565, 0.8514864811045606, 0.9915860674649238, 0.9991821640033991, 0.9973829214151001, 0.9945413511686226, 0.9990163913043657, 0.9885898143130702, 0.9943930932049426, 0.9973043393483273, 0.15034766176538622, 0.8477434422433826, 0.9986386699011192, 0.9389488589479489, 0.03747230337876649, 0.022483382027259895, 0.5453836294277821, 0.38147689159975345, 0.025373462973378096, 0.04753878695012218, 0.9941645128031137, 0.029732136108368282, 0.8361037063201747, 0.09009738214657055, 0.04324674343035387, 0.9978918941422739, 0.875109437428993, 0.12277431777247967, 0.00199228101862036, 0.9620893356379496, 0.03787127150305391, 0.2962681086945231, 0.11816800518541093, 0.2041083725929825, 0.006502067270967587, 0.3717486287531468, 0.003109684346984498, 0.9907099201317024, 0.9984241434149631], \"Term\": [\"accelerator\", \"accept\", \"accept\", \"access\", \"access\", \"access\", \"accident\", \"acquire\", \"add\", \"address\", \"adult\", \"adult\", \"advance\", \"advance\", \"advertising\", \"advice\", \"advocate\", \"age\", \"age\", \"age\", \"age\", \"age\", \"agree\", \"aid\", \"air\", \"algorithm\", \"allow\", \"allow\", \"allow\", \"allow\", \"also\", \"also\", \"also\", \"also\", \"also\", \"also\", \"amendment\", \"american\", \"american\", \"american\", \"animal\", \"announce\", \"anyway\", \"anywhere\", \"apple\", \"application\", \"application\", \"application\", \"appreciate\", \"arab\", \"area\", \"area\", \"area\", \"area\", \"argue\", \"argument\", \"arm\", \"arm\", \"armenian\", \"arrogance\", \"article\", \"article\", \"assist\", \"assumption\", \"assumption\", \"atheist\", \"attack\", \"attitude\", \"audio\", \"author\", \"auto\", \"auto\", \"available\", \"available\", \"available\", \"average\", \"award\", \"ax\", \"back\", \"back\", \"back\", \"bad\", \"bad\", \"bad\", \"ball\", \"base\", \"base\", \"base\", \"baseball\", \"battery\", \"be\", \"beat\", \"beautiful\", \"become\", \"become\", \"become\", \"begin\", \"begin\", \"begin\", \"begin\", \"begin\", \"belief\", \"believe\", \"bend\", \"benefit\", \"benign\", \"bike\", \"biker\", \"bit\", \"bit\", \"bit\", \"black\", \"blank\", \"blanking\", \"blind\", \"block\", \"blood\", \"blood\", \"blow\", \"blow\", \"blue\", \"book\", \"border\", \"box\", \"boy\", \"boy\", \"brain\", \"break\", \"break\", \"brother\", \"btw\", \"build\", \"build\", \"burn\", \"burn\", \"bus\", \"buyer\", \"byte\", \"ca\", \"ca\", \"call\", \"call\", \"call\", \"call\", \"call\", \"can\", \"can\", \"can\", \"canadian\", \"cap\", \"capable\", \"capable\", \"capable\", \"car\", \"card\", \"carry\", \"carry\", \"carry\", \"carry\", \"case\", \"case\", \"case\", \"case\", \"case\", \"case\", \"cause\", \"cause\", \"cause\", \"cause\", \"cd\", \"certain\", \"certain\", \"certainly\", \"channel\", \"character\", \"character\", \"cheap\", \"child\", \"child\", \"child\", \"chip\", \"chip\", \"choose\", \"christian\", \"church\", \"circuit\", \"city\", \"city\", \"civilian\", \"claim\", \"clear\", \"clear\", \"clearly\", \"client\", \"clipper\", \"clock\", \"club\", \"coach\", \"cold\", \"color\", \"com\", \"come\", \"come\", \"come\", \"come\", \"comet\", \"communication\", \"community\", \"community\", \"compare\", \"compare\", \"compare\", \"compatible\", \"compression\", \"compromise\", \"computer\", \"computer\", \"computer\", \"computer\", \"computer\", \"concept\", \"concept\", \"concern\", \"concern\", \"concern\", \"concern\", \"conclusion\", \"condition\", \"condition\", \"condition\", \"condition\", \"condition\", \"condition\", \"conference\", \"configuration\", \"confirm\", \"connect\", \"connect\", \"connection\", \"consistent\", \"consistent\", \"consultation\", \"contain\", \"contain\", \"contain\", \"contest\", \"contradict\", \"contrary\", \"contribute\", \"controller\", \"conversation\", \"convert\", \"convince\", \"cool\", \"cop\", \"copy\", \"corporation\", \"correctly\", \"cost\", \"cost\", \"cost\", \"could\", \"could\", \"could\", \"could\", \"country\", \"country\", \"cover\", \"cover\", \"cover\", \"cover\", \"cpu\", \"crash\", \"create\", \"create\", \"create\", \"create\", \"crime\", \"crime\", \"criminal\", \"criminal\", \"cross\", \"cry\", \"cure\", \"currently\", \"cycle\", \"damage\", \"dangerous\", \"datum\", \"datum\", \"daughter\", \"dealer\", \"dealer\", \"death\", \"death\", \"death\", \"decade\", \"decent\", \"default\", \"defense\", \"define\", \"define\", \"define\", \"degree\", \"degree\", \"deliver\", \"dept\", \"describe\", \"describe\", \"describe\", \"design\", \"design\", \"detail\", \"detail\", \"detailed\", \"detect\", \"development\", \"device\", \"devil\", \"di_di\", \"diagnose\", \"diagnosis\", \"die\", \"die\", \"differential\", \"digital\", \"direct\", \"direction\", \"disclaimer\", \"discussion\", \"discussion\", \"discussion\", \"disease\", \"disk\", \"display\", \"distance\", \"distant\", \"distribution\", \"distribution_usa\", \"division\", \"division\", \"dn\", \"doctor\", \"door\", \"dream\", \"drink\", \"drive\", \"driver\", \"driver\", \"drop\", \"drug\", \"drug\", \"due\", \"due\", \"due\", \"due\", \"due\", \"earth\", \"earth\", \"eat\", \"echo\", \"economic\", \"edge\", \"education\", \"educational\", \"eeg\", \"effect\", \"effect\", \"effect\", \"effect\", \"egg\", \"electronic\", \"element\", \"email\", \"encrypt\", \"encryption\", \"energy\", \"engine\", \"enjoyable\", \"ensure\", \"entry\", \"environment\", \"environment\", \"environment\", \"environment\", \"equipment\", \"equipment\", \"error\", \"error\", \"error\", \"escape\", \"essentially\", \"este\", \"estimate\", \"ethnic\", \"even\", \"even\", \"even\", \"even\", \"ever\", \"ever\", \"ever\", \"evidence\", \"evidence\", \"evil\", \"exactly\", \"exactly\", \"exactly\", \"exactly\", \"examine\", \"examine\", \"exist\", \"exist\", \"exist\", \"existence\", \"expansion\", \"expensive\", \"explain\", \"explain\", \"explicitly\", \"export\", \"external\", \"extra\", \"extra\", \"extra\", \"extremely\", \"eye\", \"eye\", \"fact\", \"fact\", \"fact\", \"fair\", \"faith\", \"family\", \"fan\", \"faq\", \"farin\", \"fast\", \"fast\", \"fast\", \"father\", \"fax\", \"federal\", \"few\", \"field\", \"fight\", \"fight\", \"file\", \"file\", \"film\", \"final\", \"final\", \"final\", \"final\", \"finish\", \"fire\", \"fire\", \"fire\", \"firearm\", \"firm\", \"firm\", \"first\", \"first\", \"first\", \"first\", \"first\", \"flight\", \"floor\", \"fold\", \"folk\", \"font\", \"food\", \"fool\", \"foot\", \"force\", \"force\", \"force\", \"frame\", \"freenet\", \"friend\", \"friend\", \"fuel\", \"fuel\", \"fun\", \"function\", \"funny\", \"game\", \"gang\", \"gas\", \"gay\", \"generate\", \"get\", \"get\", \"get\", \"gift\", \"girl\", \"give\", \"give\", \"give\", \"give\", \"give\", \"glock\", \"go\", \"go\", \"go\", \"goal\", \"goal\", \"god\", \"gold\", \"good\", \"good\", \"good\", \"government\", \"government\", \"graphic\", \"great\", \"great\", \"great\", \"great\", \"great\", \"greek\", \"ground\", \"ground\", \"group\", \"guess\", \"guilty\", \"gun\", \"hardware\", \"have\", \"head\", \"head\", \"head\", \"head\", \"headache\", \"health\", \"hear\", \"hear\", \"helmet\", \"hide\", \"high\", \"high\", \"high\", \"high\", \"hint\", \"history\", \"history\", \"history\", \"history\", \"hit\", \"hockey\", \"hole\", \"homosexual\", \"honor\", \"horse\", \"host\", \"host\", \"hot\", \"house\", \"ice\", \"icon\", \"ide\", \"ill\", \"illegal\", \"image\", \"imho\", \"immediate\", \"impact\", \"implementation\", \"imply\", \"include\", \"include\", \"include\", \"include\", \"indeed\", \"info\", \"information\", \"information\", \"inhabitant\", \"injury\", \"input\", \"insert\", \"instal\", \"insurance\", \"insurance\", \"interested\", \"interested\", \"interface\", \"internal\", \"internet\", \"interpretation\", \"investigation\", \"islamic\", \"islander\", \"israeli\", \"issue\", \"issue\", \"issue\", \"issue\", \"issue\", \"issue\", \"issue\", \"item\", \"jewish\", \"judge\", \"jumper\", \"jungle\", \"justify\", \"keep\", \"keep\", \"keep\", \"key\", \"keyboard\", \"kid\", \"kill\", \"kill\", \"king\", \"knife\", \"know\", \"know\", \"laboratory\", \"laboratory\", \"language\", \"large\", \"large\", \"large\", \"last\", \"last\", \"last\", \"last\", \"laugh\", \"launch\", \"law\", \"law\", \"law\", \"lead\", \"lead\", \"lead\", \"lead\", \"lead\", \"lebanese\", \"leg\", \"level\", \"level\", \"level\", \"liar\", \"library\", \"life\", \"life\", \"light\", \"light\", \"like\", \"line\", \"line\", \"link\", \"list\", \"list\", \"list\", \"little\", \"little\", \"live\", \"live\", \"live\", \"localtalk\", \"logic\", \"look\", \"look\", \"lose\", \"lose\", \"lose\", \"lose\", \"lot\", \"low\", \"low\", \"low\", \"low\", \"lunar\", \"luxury\", \"mac\", \"machine\", \"machine\", \"mail\", \"make\", \"make\", \"make\", \"male\", \"man\", \"man\", \"man\", \"manage\", \"management\", \"manufacture\", \"manufacturer\", \"many\", \"many\", \"many\", \"many\", \"map\", \"market\", \"marriage\", \"mass\", \"master\", \"material\", \"matter\", \"max\", \"maxtor\", \"may\", \"may\", \"may\", \"may\", \"may\", \"maybe\", \"mean\", \"mean\", \"mean\", \"mechanic\", \"medical\", \"medium\", \"member\", \"member\", \"memory\", \"message\", \"message\", \"message\", \"message\", \"metal\", \"method\", \"method\", \"method\", \"method\", \"mhz\", \"mid\", \"mid\", \"migraine\", \"mile\", \"military\", \"military\", \"militia\", \"mind\", \"mine\", \"minor\", \"minority\", \"miracle\", \"mirror\", \"mission\", \"mission\", \"mode\", \"mode\", \"model\", \"model\", \"modem\", \"money\", \"money\", \"monitor\", \"moon\", \"morality\", \"motif\", \"motorcycle\", \"mount\", \"mouse\", \"msg\", \"much\", \"much\", \"much\", \"murder\", \"must\", \"must\", \"name\", \"name\", \"name\", \"name\", \"national\", \"national\", \"national_capital\", \"nature\", \"necessarilly\", \"necessarily\", \"necessarily\", \"necessarily\", \"necessarily\", \"necessary\", \"necessary\", \"necessary\", \"necessary\", \"necessary\", \"nee\", \"need\", \"need\", \"need\", \"need\", \"need\", \"negative\", \"network\", \"network\", \"neurologist\", \"neutral\", \"new\", \"new\", \"new\", \"news\", \"news\", \"news\", \"newspaper\", \"next\", \"next\", \"next\", \"next\", \"nice\", \"nntp_poste\", \"nntp_posting\", \"noise\", \"northern\", \"note\", \"note\", \"note\", \"note\", \"note\", \"number\", \"number\", \"number\", \"number\", \"number\", \"object\", \"objective\", \"observation\", \"occupant\", \"offense\", \"offer\", \"offer\", \"offer\", \"offer\", \"official\", \"official\", \"oil\", \"operate\", \"opponent\", \"optional\", \"orbit\", \"order\", \"order\", \"order\", \"order\", \"organization\", \"organization\", \"organization\", \"original\", \"original\", \"original\", \"original\", \"originator\", \"originator\", \"overall\", \"overall\", \"own\", \"owner\", \"owner\", \"package\", \"pad\", \"page\", \"page\", \"pain\", \"park\", \"part\", \"part\", \"part\", \"part\", \"part\", \"past\", \"patent\", \"patient\", \"pattern\", \"pc\", \"pen\", \"penalty\", \"penguin\", \"people\", \"people\", \"people\", \"performance\", \"performance\", \"period\", \"permit\", \"person\", \"person\", \"person\", \"personally\", \"pgp\", \"physical\", \"pick\", \"pick\", \"pick\", \"picture\", \"pin\", \"pitch\", \"pitcher\", \"place\", \"place\", \"place\", \"place\", \"plane\", \"planet\", \"play\", \"player\", \"playoff\", \"point\", \"point\", \"point\", \"point\", \"police\", \"police\", \"population\", \"port\", \"possible\", \"possible\", \"post\", \"post\", \"post\", \"post\", \"pot\", \"pound\", \"pound\", \"power\", \"power\", \"power\", \"power\", \"practice\", \"prayer\", \"predict\", \"prediction\", \"president\", \"press\", \"pretty\", \"price\", \"price\", \"price\", \"price\", \"primarily\", \"primarily\", \"principle\", \"printer\", \"privacy\", \"private\", \"prize\", \"pro\", \"pro\", \"probability\", \"probably\", \"probably\", \"probably\", \"problem\", \"problem\", \"problem\", \"problem\", \"processor\", \"professional\", \"program\", \"program\", \"program\", \"promise\", \"proposal\", \"protect\", \"protect\", \"protect\", \"prove\", \"provide\", \"provide\", \"provide\", \"provide\", \"public\", \"public\", \"public\", \"publish\", \"pull\", \"purchase\", \"purchase\", \"purchase\", \"purpose\", \"purpose\", \"purpose\", \"put\", \"put\", \"put\", \"quality\", \"question\", \"question\", \"question\", \"question\", \"race\", \"race\", \"race\", \"ram\", \"random\", \"rate\", \"rate\", \"rate\", \"rate\", \"rational\", \"react\", \"realistic\", \"reality\", \"really\", \"really\", \"reason\", \"receive\", \"receive\", \"receive\", \"recent\", \"recent\", \"recent\", \"recent\", \"recent\", \"recommend\", \"registration\", \"release\", \"relevant\", \"religion\", \"religious\", \"remind\", \"remove\", \"replace\", \"report\", \"request\", \"request\", \"require\", \"require\", \"research\", \"research\", \"research\", \"researcher\", \"resolution\", \"respect\", \"restraint\", \"return\", \"return\", \"return\", \"revelation\", \"review\", \"revolver\", \"ride\", \"ride\", \"rider\", \"right\", \"right\", \"right\", \"right\", \"right\", \"ripem\", \"risk\", \"risk\", \"risk\", \"rock\", \"role\", \"route\", \"routine\", \"rsa\", \"rule\", \"run\", \"run\", \"run\", \"run\", \"run\", \"rush\", \"s\", \"s\", \"safety\", \"safety\", \"sale\", \"sale\", \"sample\", \"sample\", \"satellite\", \"saturn\", \"say\", \"say\", \"say\", \"scan\", \"scan\", \"scare\", \"schedule\", \"schedule\", \"schedule\", \"scheme\", \"science\", \"scientific\", \"scientist\", \"score\", \"screen\", \"scsi\", \"season\", \"seat\", \"seat\", \"secret\", \"section\", \"secure\", \"security\", \"see\", \"see\", \"see\", \"select\", \"seller\", \"send\", \"send\", \"send\", \"sense\", \"sensitive\", \"sequence\", \"serious\", \"serious\", \"serious\", \"server\", \"service\", \"service\", \"service\", \"set\", \"set\", \"set\", \"set\", \"set\", \"setup\", \"sex\", \"shall\", \"shall\", \"shape\", \"shell\", \"shipping\", \"shoot\", \"shoot\", \"shot\", \"should\", \"shuttle\", \"sight\", \"signal\", \"sin\", \"single\", \"single\", \"single\", \"single\", \"sink\", \"site\", \"sky\", \"slave\", \"slightly\", \"slip\", \"slow\", \"slow\", \"smoke\", \"society\", \"software\", \"solar\", \"soldier\", \"solution\", \"solution\", \"somehow\", \"son\", \"son\", \"sorry\", \"soul\", \"sound\", \"sound\", \"sound\", \"sound\", \"source\", \"source\", \"source\", \"source\", \"source\", \"source\", \"space\", \"space\", \"space\", \"special\", \"specifically\", \"specification\", \"specifie\", \"specify\", \"speed\", \"speed\", \"sphere\", \"spring\", \"standard\", \"standard\", \"star\", \"stat\", \"state\", \"state\", \"state\", \"state\", \"state\", \"state\", \"state\", \"statement\", \"statistic\", \"status\", \"steal\", \"step\", \"step\", \"stick\", \"still\", \"still\", \"still\", \"still\", \"stock\", \"stop\", \"stop\", \"stop\", \"stop\", \"stop\", \"storage\", \"straightforward\", \"strange\", \"strange\", \"string\", \"struggle\", \"student\", \"student\", \"student\", \"study\", \"study\", \"study\", \"support\", \"support\", \"support\", \"sure\", \"sure\", \"surgery\", \"surrender\", \"surveillance\", \"switch\", \"syndrome\", \"system\", \"table\", \"table\", \"table\", \"take\", \"take\", \"take\", \"talent\", \"talk\", \"talk\", \"talk\", \"talk\", \"tank\", \"tap\", \"tape\", \"taste\", \"tax\", \"team\", \"technique\", \"technology\", \"technology\", \"telephone\", \"terrorism\", \"terrorist\", \"test\", \"thank\", \"thank\", \"thank\", \"theory\", \"there\", \"therefore\", \"thing\", \"thing\", \"think\", \"think\", \"think\", \"thinking\", \"throw\", \"throw\", \"throw\", \"throw\", \"ticket\", \"tie\", \"time\", \"time\", \"time\", \"time\", \"time\", \"timer\", \"tire\", \"title\", \"today\", \"today\", \"today\", \"today\", \"tomorrow\", \"tongue\", \"tool\", \"topic\", \"town\", \"trace\", \"trade\", \"trade\", \"transfer\", \"translation\", \"travel\", \"treatment\", \"trial\", \"truck\", \"true\", \"true\", \"trust\", \"truth\", \"try\", \"try\", \"try\", \"tube\", \"tumor\", \"turkish\", \"turn\", \"turn\", \"turn\", \"tv\", \"type\", \"type\", \"understand\", \"univ\", \"universe\", \"university\", \"unix\", \"unlikely\", \"unusual\", \"up\", \"update\", \"upgrade\", \"usage\", \"use\", \"use\", \"use\", \"use\", \"user\", \"user\", \"user\", \"user\", \"utility\", \"variable\", \"vat\", \"vehicle\", \"vehicle\", \"velocity\", \"version\", \"version\", \"vertical\", \"victim\", \"video\", \"view\", \"view\", \"view\", \"village\", \"violence\", \"visit\", \"voltage\", \"vote\", \"wait\", \"want\", \"want\", \"war\", \"warning\", \"warrant\", \"waste\", \"watch\", \"watch\", \"water\", \"wave\", \"way\", \"way\", \"way\", \"way\", \"weapon\", \"week\", \"week\", \"weekend\", \"welcome\", \"well\", \"well\", \"well\", \"well\", \"western\", \"white\", \"whole\", \"whole\", \"wide_range\", \"will\", \"win\", \"win\", \"wind\", \"window\", \"wing\", \"winner\", \"wire\", \"wisdom\", \"wise\", \"withdraw\", \"woman\", \"woman\", \"wonder\", \"word\", \"word\", \"word\", \"work\", \"work\", \"work\", \"work\", \"workstation\", \"world\", \"world\", \"world\", \"world\", \"worth\", \"would\", \"would\", \"would\", \"write\", \"write\", \"year\", \"year\", \"year\", \"year\", \"year\", \"year\", \"yesterday\", \"young\"]}, \"R\": 30, \"lambda.step\": 0.01, \"plot.opts\": {\"xlab\": \"PC1\", \"ylab\": \"PC2\"}, \"topic.order\": [14, 8, 18, 6, 10, 7, 20, 9, 19, 2, 13, 3, 17, 11, 4, 15, 5, 12, 1, 16]};\n",
       "\n",
       "function LDAvis_load_lib(url, callback){\n",
       "  var s = document.createElement('script');\n",
       "  s.src = url;\n",
       "  s.async = true;\n",
       "  s.onreadystatechange = s.onload = callback;\n",
       "  s.onerror = function(){console.warn(\"failed to load library \" + url);};\n",
       "  document.getElementsByTagName(\"head\")[0].appendChild(s);\n",
       "}\n",
       "\n",
       "if(typeof(LDAvis) !== \"undefined\"){\n",
       "   // already loaded: just create the visualization\n",
       "   !function(LDAvis){\n",
       "       new LDAvis(\"#\" + \"ldavis_el991399208597045602462860019\", ldavis_el991399208597045602462860019_data);\n",
       "   }(LDAvis);\n",
       "}else if(typeof define === \"function\" && define.amd){\n",
       "   // require.js is available: use it to load d3/LDAvis\n",
       "   require.config({paths: {d3: \"https://cdnjs.cloudflare.com/ajax/libs/d3/3.5.5/d3.min\"}});\n",
       "   require([\"d3\"], function(d3){\n",
       "      window.d3 = d3;\n",
       "      LDAvis_load_lib(\"https://cdn.rawgit.com/bmabey/pyLDAvis/files/ldavis.v1.0.0.js\", function(){\n",
       "        new LDAvis(\"#\" + \"ldavis_el991399208597045602462860019\", ldavis_el991399208597045602462860019_data);\n",
       "      });\n",
       "    });\n",
       "}else{\n",
       "    // require.js not available: dynamically load d3 & LDAvis\n",
       "    LDAvis_load_lib(\"https://cdnjs.cloudflare.com/ajax/libs/d3/3.5.5/d3.min.js\", function(){\n",
       "         LDAvis_load_lib(\"https://cdn.rawgit.com/bmabey/pyLDAvis/files/ldavis.v1.0.0.js\", function(){\n",
       "                 new LDAvis(\"#\" + \"ldavis_el991399208597045602462860019\", ldavis_el991399208597045602462860019_data);\n",
       "            })\n",
       "         });\n",
       "}\n",
       "</script>"
      ],
      "text/plain": [
       "PreparedData(topic_coordinates=              x         y  topics  cluster       Freq\n",
       "topic                                                \n",
       "13    -0.338669  0.015796       1        1  24.176510\n",
       "7     -0.310567 -0.102100       2        1  15.732318\n",
       "17    -0.229565  0.076606       3        1  12.436144\n",
       "5     -0.141122 -0.192237       4        1   5.440730\n",
       "9     -0.050184  0.253832       5        1   4.782155\n",
       "6     -0.022137  0.285923       6        1   3.871378\n",
       "19     0.020468 -0.012451       7        1   3.304306\n",
       "8      0.040421 -0.000910       8        1   3.246520\n",
       "18    -0.051648 -0.014667       9        1   3.241524\n",
       "1      0.023227 -0.129377      10        1   3.160994\n",
       "12     0.062991  0.064509      11        1   2.908455\n",
       "2      0.114234 -0.004344      12        1   2.657394\n",
       "16     0.055799 -0.140821      13        1   2.352580\n",
       "10     0.111583 -0.040583      14        1   2.160116\n",
       "3      0.126659  0.020938      15        1   2.000265\n",
       "14     0.095925 -0.076023      16        1   1.896511\n",
       "4      0.131737  0.017561      17        1   1.752224\n",
       "11     0.108807  0.029945      18        1   1.742725\n",
       "0      0.121669 -0.036706      19        1   1.632572\n",
       "15     0.130373 -0.014892      20        1   1.504578, topic_info=           Term          Freq         Total Category  logprob  loglift\n",
       "19         line  11975.000000  11975.000000  Default  30.0000  30.0000\n",
       "197       write  10060.000000  10060.000000  Default  29.0000  29.0000\n",
       "174       would  12046.000000  12046.000000  Default  28.0000  28.0000\n",
       "139      people   5647.000000   5647.000000  Default  27.0000  27.0000\n",
       "177     article   6479.000000   6479.000000  Default  26.0000  26.0000\n",
       "...         ...           ...           ...      ...      ...      ...\n",
       "3369       seat    121.909167    145.088607  Topic20  -4.9370   4.0226\n",
       "756    purchase    167.235867    311.115302  Topic20  -4.6209   3.5759\n",
       "521        lead    254.019126    862.108867  Topic20  -4.2029   2.9747\n",
       "205   condition    153.882865    421.631383  Topic20  -4.7041   3.1887\n",
       "989        stop    136.938599    898.957923  Topic20  -4.8208   2.3150\n",
       "\n",
       "[944 rows x 6 columns], token_table=      Topic      Freq         Term\n",
       "term                              \n",
       "4621      6  0.991741  accelerator\n",
       "1211      6  0.015122       accept\n",
       "1211     10  0.984279       accept\n",
       "81        3  0.007224       access\n",
       "81        6  0.384677       access\n",
       "...     ...       ...          ...\n",
       "40        8  0.006502         year\n",
       "40        9  0.371749         year\n",
       "40       16  0.003110         year\n",
       "720       9  0.990710    yesterday\n",
       "570      14  0.998424        young\n",
       "\n",
       "[1420 rows x 3 columns], R=30, lambda_step=0.01, plot_opts={'xlab': 'PC1', 'ylab': 'PC2'}, topic_order=[14, 8, 18, 6, 10, 7, 20, 9, 19, 2, 13, 3, 17, 11, 4, 15, 5, 12, 1, 16])"
      ]
     },
     "execution_count": 20,
     "metadata": {
      "tags": []
     },
     "output_type": "execute_result"
    }
   ],
   "source": [
    "# Visualize the topics\n",
    "pyLDAvis.enable_notebook()\n",
    "vis = pyLDAvis.gensim.prepare(lda_model, corpus, id2word)\n",
    "vis"
   ]
  },
  {
   "cell_type": "markdown",
   "metadata": {
    "id": "dJ5v57CZHB1d"
   },
   "source": [
    "Полазать по 1-3 и 16 посмотреть, что к чему"
   ]
  },
  {
   "cell_type": "markdown",
   "metadata": {
    "id": "3cQAZkRuJgUl"
   },
   "source": [
    "A good topic model will have fairly big, non-overlapping bubbles scattered throughout the chart instead of being clustered in one quadrant.\n",
    "\n",
    "A model with too many topics, will typically have many overlaps, small sized bubbles clustered in one region of the chart.\n",
    "\n",
    "Alright, if you move the cursor over one of the bubbles, the words and bars on the right-hand side will update. These words are the salient keywords that form the selected topic.\n",
    "\n",
    "We have successfully built a good looking topic model."
   ]
  },
  {
   "cell_type": "markdown",
   "metadata": {
    "id": "-X_cAXG3JjCB"
   },
   "source": [
    "Поэксперементируем с фича инженирингом и найдём модель получше?"
   ]
  },
  {
   "cell_type": "markdown",
   "metadata": {
    "id": "soHklk4ZMch6"
   },
   "source": [
    "перейдём к дз"
   ]
  }
 ],
 "metadata": {
  "colab": {
   "collapsed_sections": [],
   "name": "NLP_6_ Gensim_TopicModeling_Gensim_done.ipynb",
   "provenance": []
  },
  "kernelspec": {
   "display_name": "Python 3",
   "language": "python",
   "name": "python3"
  },
  "language_info": {
   "codemirror_mode": {
    "name": "ipython",
    "version": 3
   },
   "file_extension": ".py",
   "mimetype": "text/x-python",
   "name": "python",
   "nbconvert_exporter": "python",
   "pygments_lexer": "ipython3",
   "version": "3.7.4"
  }
 },
 "nbformat": 4,
 "nbformat_minor": 1
}
