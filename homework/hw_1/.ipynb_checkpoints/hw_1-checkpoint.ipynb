{
 "cells": [
  {
   "cell_type": "code",
   "execution_count": 63,
   "metadata": {},
   "outputs": [],
   "source": [
    "import os\n",
    "\n",
    "import numpy as np\n",
    "import pandas as pd\n",
    "\n",
    "from sklearn.model_selection import train_test_split\n",
    "\n",
    "from nltk.corpus import stopwords\n",
    "STOPWORDS = stopwords.words('russian')\n",
    "from nltk.tokenize import word_tokenize\n",
    "\n",
    "from pymorphy2 import MorphAnalyzer\n",
    "morph = MorphAnalyzer()"
   ]
  },
  {
   "cell_type": "markdown",
   "metadata": {},
   "source": [
    "Датасет я решил взять готовый, вот отсюда:\n",
    "\n",
    "https://habr.com/ru/post/467081/\n",
    "\n",
    "В нем также был выделен нейтральный класс, поэтому его пришлось удалить."
   ]
  },
  {
   "cell_type": "code",
   "execution_count": 31,
   "metadata": {},
   "outputs": [],
   "source": [
    "reviews_positive_path = 'reviews/positive'\n",
    "reviews_positive = []\n",
    "for i in os.listdir(reviews_positive_path):\n",
    "    with open(os.path.join(reviews_positive_path, i), encoding='utf-8') as f:\n",
    "        text = f.read()\n",
    "        reviews_positive.append(text)  "
   ]
  },
  {
   "cell_type": "code",
   "execution_count": 32,
   "metadata": {},
   "outputs": [
    {
     "data": {
      "text/plain": [
       "1001"
      ]
     },
     "execution_count": 32,
     "metadata": {},
     "output_type": "execute_result"
    }
   ],
   "source": [
    "len(reviews_positive)"
   ]
  },
  {
   "cell_type": "code",
   "execution_count": 35,
   "metadata": {},
   "outputs": [],
   "source": [
    "reviews_negative_path = 'reviews/negative'\n",
    "reviews_negative = []\n",
    "for i in os.listdir(reviews_negative_path):\n",
    "    with open(os.path.join(reviews_negative_path, i), encoding='utf-8') as f:\n",
    "        text = f.read()\n",
    "        reviews_negative.append(text)  "
   ]
  },
  {
   "cell_type": "code",
   "execution_count": 36,
   "metadata": {},
   "outputs": [
    {
     "data": {
      "text/plain": [
       "999"
      ]
     },
     "execution_count": 36,
     "metadata": {},
     "output_type": "execute_result"
    }
   ],
   "source": [
    "len(reviews_negative)"
   ]
  },
  {
   "cell_type": "code",
   "execution_count": 41,
   "metadata": {
    "scrolled": true
   },
   "outputs": [
    {
     "data": {
      "text/html": [
       "<div>\n",
       "<style scoped>\n",
       "    .dataframe tbody tr th:only-of-type {\n",
       "        vertical-align: middle;\n",
       "    }\n",
       "\n",
       "    .dataframe tbody tr th {\n",
       "        vertical-align: top;\n",
       "    }\n",
       "\n",
       "    .dataframe thead th {\n",
       "        text-align: right;\n",
       "    }\n",
       "</style>\n",
       "<table border=\"1\" class=\"dataframe\">\n",
       "  <thead>\n",
       "    <tr style=\"text-align: right;\">\n",
       "      <th></th>\n",
       "      <th>text</th>\n",
       "      <th>label</th>\n",
       "    </tr>\n",
       "  </thead>\n",
       "  <tbody>\n",
       "    <tr>\n",
       "      <td>0</td>\n",
       "      <td>Данное кино я не смотрел в кинотеатре, хотя бы...</td>\n",
       "      <td>positive</td>\n",
       "    </tr>\n",
       "    <tr>\n",
       "      <td>1</td>\n",
       "      <td>«Сказка быль, да в ней намек». Обычно так зака...</td>\n",
       "      <td>positive</td>\n",
       "    </tr>\n",
       "    <tr>\n",
       "      <td>2</td>\n",
       "      <td>Подошел к концу самый масштабный сериал в исто...</td>\n",
       "      <td>positive</td>\n",
       "    </tr>\n",
       "    <tr>\n",
       "      <td>3</td>\n",
       "      <td>Киновселенная 'DC', ещё очень молода и только-...</td>\n",
       "      <td>positive</td>\n",
       "    </tr>\n",
       "    <tr>\n",
       "      <td>4</td>\n",
       "      <td>На самом ли деле сон - это лишь субъективное в...</td>\n",
       "      <td>positive</td>\n",
       "    </tr>\n",
       "    <tr>\n",
       "      <td>...</td>\n",
       "      <td>...</td>\n",
       "      <td>...</td>\n",
       "    </tr>\n",
       "    <tr>\n",
       "      <td>994</td>\n",
       "      <td>Вот именно, что это? Комедия? Тогда где смеять...</td>\n",
       "      <td>negative</td>\n",
       "    </tr>\n",
       "    <tr>\n",
       "      <td>995</td>\n",
       "      <td>Фильм «Игры разума» Рона Ховарда, режиссера на...</td>\n",
       "      <td>negative</td>\n",
       "    </tr>\n",
       "    <tr>\n",
       "      <td>996</td>\n",
       "      <td>Это моя первая рецензия, которую меня побудило...</td>\n",
       "      <td>negative</td>\n",
       "    </tr>\n",
       "    <tr>\n",
       "      <td>997</td>\n",
       "      <td>Если Вам нравился первый фильм Форсаж, то можн...</td>\n",
       "      <td>negative</td>\n",
       "    </tr>\n",
       "    <tr>\n",
       "      <td>998</td>\n",
       "      <td>Фильм перенесёт нас в 1963 год в США, во време...</td>\n",
       "      <td>negative</td>\n",
       "    </tr>\n",
       "  </tbody>\n",
       "</table>\n",
       "<p>2000 rows × 2 columns</p>\n",
       "</div>"
      ],
      "text/plain": [
       "                                                  text     label\n",
       "0    Данное кино я не смотрел в кинотеатре, хотя бы...  positive\n",
       "1    «Сказка быль, да в ней намек». Обычно так зака...  positive\n",
       "2    Подошел к концу самый масштабный сериал в исто...  positive\n",
       "3    Киновселенная 'DC', ещё очень молода и только-...  positive\n",
       "4    На самом ли деле сон - это лишь субъективное в...  positive\n",
       "..                                                 ...       ...\n",
       "994  Вот именно, что это? Комедия? Тогда где смеять...  negative\n",
       "995  Фильм «Игры разума» Рона Ховарда, режиссера на...  negative\n",
       "996  Это моя первая рецензия, которую меня побудило...  negative\n",
       "997  Если Вам нравился первый фильм Форсаж, то можн...  negative\n",
       "998  Фильм перенесёт нас в 1963 год в США, во време...  negative\n",
       "\n",
       "[2000 rows x 2 columns]"
      ]
     },
     "execution_count": 41,
     "metadata": {},
     "output_type": "execute_result"
    }
   ],
   "source": [
    "positive = pd.DataFrame(reviews_positive, columns=['text'])\n",
    "positive['label'] = ['positive'] * len(positive)\n",
    "negative = pd.DataFrame(reviews_negative, columns=['text'])\n",
    "negative['label'] = ['negative'] * len(negative)\n",
    "reviews_df = positive.append(negative)\n",
    "reviews_df"
   ]
  },
  {
   "cell_type": "code",
   "execution_count": 44,
   "metadata": {},
   "outputs": [],
   "source": [
    "X_train, X_test, y_train, y_test = train_test_split(reviews_df.text, reviews_df.label)"
   ]
  },
  {
   "cell_type": "code",
   "execution_count": 108,
   "metadata": {},
   "outputs": [
    {
     "data": {
      "text/plain": [
       "159    Всё гениальное в простом. `Леон` не отличается...\n",
       "497    Английское слово Inception имеет не одно значе...\n",
       "13     Зрителю всегда интересен тот фильм, который им...\n",
       "932    Если в течении двадцати четырех часов с неболь...\n",
       "452    Фильм, сценарий которого писался почти десять ...\n",
       "                             ...                        \n",
       "231    По моему мнению название «Игры разума» подходя...\n",
       "298    Кристофер Нолан – человек талантливый и немног...\n",
       "773    Маэстро Тарантино вновь на большом экране. Оче...\n",
       "38     Почему фильмы с высоким рейтингом скорее всего...\n",
       "407    Определенно худший фильм из топ 20 кинопоиска....\n",
       "Name: text, Length: 1500, dtype: object"
      ]
     },
     "execution_count": 108,
     "metadata": {},
     "output_type": "execute_result"
    }
   ],
   "source": [
    "X_train"
   ]
  },
  {
   "cell_type": "code",
   "execution_count": 101,
   "metadata": {},
   "outputs": [],
   "source": [
    "def preprocess_review(text):\n",
    "    text = [w.lower() for w in word_tokenize(text) if w.isalpha() and (w not in STOPWORDS)]\n",
    "    text = [morph.parse(w)[0].normal_form for w in text]\n",
    "    \n",
    "    return text"
   ]
  },
  {
   "cell_type": "code",
   "execution_count": 102,
   "metadata": {},
   "outputs": [
    {
     "name": "stdout",
     "output_type": "stream",
     "text": [
      "Wall time: 1min 4s\n"
     ]
    }
   ],
   "source": [
    "%%time\n",
    "\n",
    "positive_preprocess = reviews_df[reviews_df['label'] == 'positive']['text'].apply(preprocess_review)\n",
    "negative_preprocess = reviews_df[reviews_df['label'] == 'negative']['text'].apply(preprocess_review)"
   ]
  },
  {
   "cell_type": "code",
   "execution_count": 103,
   "metadata": {},
   "outputs": [],
   "source": [
    "positive_words = [w for t in positive_preprocess for w in t]\n",
    "negative_words = [w for t in negative_preprocess for w in t]"
   ]
  },
  {
   "cell_type": "code",
   "execution_count": 105,
   "metadata": {},
   "outputs": [
    {
     "data": {
      "text/plain": [
       "256925"
      ]
     },
     "execution_count": 105,
     "metadata": {},
     "output_type": "execute_result"
    }
   ],
   "source": [
    "len(positive_words)"
   ]
  },
  {
   "cell_type": "code",
   "execution_count": 107,
   "metadata": {},
   "outputs": [
    {
     "data": {
      "text/plain": [
       "234549"
      ]
     },
     "execution_count": 107,
     "metadata": {},
     "output_type": "execute_result"
    }
   ],
   "source": [
    "len(negative_words)"
   ]
  },
  {
   "cell_type": "code",
   "execution_count": null,
   "metadata": {},
   "outputs": [],
   "source": []
  }
 ],
 "metadata": {
  "kernelspec": {
   "display_name": "Python 3",
   "language": "python",
   "name": "python3"
  },
  "language_info": {
   "codemirror_mode": {
    "name": "ipython",
    "version": 3
   },
   "file_extension": ".py",
   "mimetype": "text/x-python",
   "name": "python",
   "nbconvert_exporter": "python",
   "pygments_lexer": "ipython3",
   "version": "3.7.3"
  }
 },
 "nbformat": 4,
 "nbformat_minor": 2
}
