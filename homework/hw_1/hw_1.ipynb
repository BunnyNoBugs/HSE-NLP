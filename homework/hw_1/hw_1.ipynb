{
 "cells": [
  {
   "cell_type": "code",
   "execution_count": 268,
   "metadata": {},
   "outputs": [],
   "source": [
    "import os\n",
    "\n",
    "import numpy as np\n",
    "import pandas as pd\n",
    "\n",
    "from sklearn.model_selection import train_test_split\n",
    "\n",
    "from nltk.corpus import stopwords\n",
    "STOPWORDS = stopwords.words('russian')\n",
    "from nltk.tokenize import word_tokenize\n",
    "\n",
    "from pymorphy2 import MorphAnalyzer\n",
    "morph = MorphAnalyzer()\n",
    "\n",
    "from collections import Counter\n",
    "\n",
    "import matplotlib.pyplot as plt\n",
    "\n",
    "from sklearn.linear_model import LogisticRegression"
   ]
  },
  {
   "cell_type": "markdown",
   "metadata": {},
   "source": [
    "Датасет я решил взять готовый, вот отсюда:\n",
    "\n",
    "https://habr.com/ru/post/467081/\n",
    "\n",
    "В нем также был выделен нейтральный класс, поэтому его пришлось удалить."
   ]
  },
  {
   "cell_type": "code",
   "execution_count": 31,
   "metadata": {},
   "outputs": [],
   "source": [
    "reviews_positive_path = 'reviews/positive'\n",
    "reviews_positive = []\n",
    "for i in os.listdir(reviews_positive_path):\n",
    "    with open(os.path.join(reviews_positive_path, i), encoding='utf-8') as f:\n",
    "        text = f.read()\n",
    "        reviews_positive.append(text)  "
   ]
  },
  {
   "cell_type": "code",
   "execution_count": 32,
   "metadata": {},
   "outputs": [
    {
     "data": {
      "text/plain": [
       "1001"
      ]
     },
     "execution_count": 32,
     "metadata": {},
     "output_type": "execute_result"
    }
   ],
   "source": [
    "len(reviews_positive)"
   ]
  },
  {
   "cell_type": "code",
   "execution_count": 35,
   "metadata": {},
   "outputs": [],
   "source": [
    "reviews_negative_path = 'reviews/negative'\n",
    "reviews_negative = []\n",
    "for i in os.listdir(reviews_negative_path):\n",
    "    with open(os.path.join(reviews_negative_path, i), encoding='utf-8') as f:\n",
    "        text = f.read()\n",
    "        reviews_negative.append(text)  "
   ]
  },
  {
   "cell_type": "code",
   "execution_count": 36,
   "metadata": {},
   "outputs": [
    {
     "data": {
      "text/plain": [
       "999"
      ]
     },
     "execution_count": 36,
     "metadata": {},
     "output_type": "execute_result"
    }
   ],
   "source": [
    "len(reviews_negative)"
   ]
  },
  {
   "cell_type": "code",
   "execution_count": 41,
   "metadata": {
    "scrolled": true
   },
   "outputs": [
    {
     "data": {
      "text/html": [
       "<div>\n",
       "<style scoped>\n",
       "    .dataframe tbody tr th:only-of-type {\n",
       "        vertical-align: middle;\n",
       "    }\n",
       "\n",
       "    .dataframe tbody tr th {\n",
       "        vertical-align: top;\n",
       "    }\n",
       "\n",
       "    .dataframe thead th {\n",
       "        text-align: right;\n",
       "    }\n",
       "</style>\n",
       "<table border=\"1\" class=\"dataframe\">\n",
       "  <thead>\n",
       "    <tr style=\"text-align: right;\">\n",
       "      <th></th>\n",
       "      <th>text</th>\n",
       "      <th>label</th>\n",
       "    </tr>\n",
       "  </thead>\n",
       "  <tbody>\n",
       "    <tr>\n",
       "      <td>0</td>\n",
       "      <td>Данное кино я не смотрел в кинотеатре, хотя бы...</td>\n",
       "      <td>positive</td>\n",
       "    </tr>\n",
       "    <tr>\n",
       "      <td>1</td>\n",
       "      <td>«Сказка быль, да в ней намек». Обычно так зака...</td>\n",
       "      <td>positive</td>\n",
       "    </tr>\n",
       "    <tr>\n",
       "      <td>2</td>\n",
       "      <td>Подошел к концу самый масштабный сериал в исто...</td>\n",
       "      <td>positive</td>\n",
       "    </tr>\n",
       "    <tr>\n",
       "      <td>3</td>\n",
       "      <td>Киновселенная 'DC', ещё очень молода и только-...</td>\n",
       "      <td>positive</td>\n",
       "    </tr>\n",
       "    <tr>\n",
       "      <td>4</td>\n",
       "      <td>На самом ли деле сон - это лишь субъективное в...</td>\n",
       "      <td>positive</td>\n",
       "    </tr>\n",
       "    <tr>\n",
       "      <td>...</td>\n",
       "      <td>...</td>\n",
       "      <td>...</td>\n",
       "    </tr>\n",
       "    <tr>\n",
       "      <td>994</td>\n",
       "      <td>Вот именно, что это? Комедия? Тогда где смеять...</td>\n",
       "      <td>negative</td>\n",
       "    </tr>\n",
       "    <tr>\n",
       "      <td>995</td>\n",
       "      <td>Фильм «Игры разума» Рона Ховарда, режиссера на...</td>\n",
       "      <td>negative</td>\n",
       "    </tr>\n",
       "    <tr>\n",
       "      <td>996</td>\n",
       "      <td>Это моя первая рецензия, которую меня побудило...</td>\n",
       "      <td>negative</td>\n",
       "    </tr>\n",
       "    <tr>\n",
       "      <td>997</td>\n",
       "      <td>Если Вам нравился первый фильм Форсаж, то можн...</td>\n",
       "      <td>negative</td>\n",
       "    </tr>\n",
       "    <tr>\n",
       "      <td>998</td>\n",
       "      <td>Фильм перенесёт нас в 1963 год в США, во време...</td>\n",
       "      <td>negative</td>\n",
       "    </tr>\n",
       "  </tbody>\n",
       "</table>\n",
       "<p>2000 rows × 2 columns</p>\n",
       "</div>"
      ],
      "text/plain": [
       "                                                  text     label\n",
       "0    Данное кино я не смотрел в кинотеатре, хотя бы...  positive\n",
       "1    «Сказка быль, да в ней намек». Обычно так зака...  positive\n",
       "2    Подошел к концу самый масштабный сериал в исто...  positive\n",
       "3    Киновселенная 'DC', ещё очень молода и только-...  positive\n",
       "4    На самом ли деле сон - это лишь субъективное в...  positive\n",
       "..                                                 ...       ...\n",
       "994  Вот именно, что это? Комедия? Тогда где смеять...  negative\n",
       "995  Фильм «Игры разума» Рона Ховарда, режиссера на...  negative\n",
       "996  Это моя первая рецензия, которую меня побудило...  negative\n",
       "997  Если Вам нравился первый фильм Форсаж, то можн...  negative\n",
       "998  Фильм перенесёт нас в 1963 год в США, во време...  negative\n",
       "\n",
       "[2000 rows x 2 columns]"
      ]
     },
     "execution_count": 41,
     "metadata": {},
     "output_type": "execute_result"
    }
   ],
   "source": [
    "positive = pd.DataFrame(reviews_positive, columns=['text'])\n",
    "positive['label'] = ['positive'] * len(positive)\n",
    "negative = pd.DataFrame(reviews_negative, columns=['text'])\n",
    "negative['label'] = ['negative'] * len(negative)\n",
    "reviews_df = positive.append(negative)\n",
    "reviews_df"
   ]
  },
  {
   "cell_type": "code",
   "execution_count": 171,
   "metadata": {},
   "outputs": [],
   "source": [
    "train = reviews_df.sample(frac=0.75, random_state=42)\n",
    "test = reviews_df.drop(train.index)\n",
    "\n",
    "X_train = train['text']\n",
    "X_test = test['text']\n",
    "y_train = train['label']\n",
    "y_test = test['label']"
   ]
  },
  {
   "cell_type": "code",
   "execution_count": 172,
   "metadata": {},
   "outputs": [
    {
     "data": {
      "text/plain": [
       "859    В 90-х и начале нулевый Кевин Смит снимал отли...\n",
       "353    Созерцать сие кино, не подключая скрытые эмоци...\n",
       "332    Ох сходил я буквально прошлым вечером на это '...\n",
       "905    Warning funs! Хочу начать эту рецензию с таких...\n",
       "288    Ужасный фильм. Плохо с чувством юмора, плохо с...\n",
       "                             ...                        \n",
       "773    Маэстро Тарантино вновь на большом экране. Оче...\n",
       "218    Сколько можно уже штамповать отвратительный шл...\n",
       "998    Фильм перенесёт нас в 1963 год в США, во време...\n",
       "4      На самом ли деле сон - это лишь субъективное в...\n",
       "2      Ну наконец-то мне выпала уникальная возможност...\n",
       "Name: text, Length: 1500, dtype: object"
      ]
     },
     "execution_count": 172,
     "metadata": {},
     "output_type": "execute_result"
    }
   ],
   "source": [
    "X_train"
   ]
  },
  {
   "cell_type": "code",
   "execution_count": 173,
   "metadata": {},
   "outputs": [],
   "source": [
    "def preprocess_review(text):\n",
    "    text = [w.lower() for w in word_tokenize(text) if w.isalpha() and (w not in STOPWORDS)]\n",
    "    text = [morph.parse(w)[0].normal_form for w in text]\n",
    "    text = [w for w in text if w not in STOPWORDS]\n",
    "    \n",
    "    return text"
   ]
  },
  {
   "cell_type": "code",
   "execution_count": 174,
   "metadata": {},
   "outputs": [
    {
     "name": "stdout",
     "output_type": "stream",
     "text": [
      "Wall time: 1min 7s\n"
     ]
    }
   ],
   "source": [
    "%%time\n",
    "\n",
    "positive_preprocess = reviews_df[reviews_df['label'] == 'positive']['text'].apply(preprocess_review)\n",
    "negative_preprocess = reviews_df[reviews_df['label'] == 'negative']['text'].apply(preprocess_review)"
   ]
  },
  {
   "cell_type": "code",
   "execution_count": 175,
   "metadata": {},
   "outputs": [
    {
     "data": {
      "text/html": [
       "<div>\n",
       "<style scoped>\n",
       "    .dataframe tbody tr th:only-of-type {\n",
       "        vertical-align: middle;\n",
       "    }\n",
       "\n",
       "    .dataframe tbody tr th {\n",
       "        vertical-align: top;\n",
       "    }\n",
       "\n",
       "    .dataframe thead th {\n",
       "        text-align: right;\n",
       "    }\n",
       "</style>\n",
       "<table border=\"1\" class=\"dataframe\">\n",
       "  <thead>\n",
       "    <tr style=\"text-align: right;\">\n",
       "      <th></th>\n",
       "      <th>text</th>\n",
       "      <th>label</th>\n",
       "    </tr>\n",
       "  </thead>\n",
       "  <tbody>\n",
       "    <tr>\n",
       "      <td>0</td>\n",
       "      <td>Данное кино я не смотрел в кинотеатре, хотя бы...</td>\n",
       "      <td>positive</td>\n",
       "    </tr>\n",
       "    <tr>\n",
       "      <td>1</td>\n",
       "      <td>«Сказка быль, да в ней намек». Обычно так зака...</td>\n",
       "      <td>positive</td>\n",
       "    </tr>\n",
       "    <tr>\n",
       "      <td>2</td>\n",
       "      <td>Подошел к концу самый масштабный сериал в исто...</td>\n",
       "      <td>positive</td>\n",
       "    </tr>\n",
       "    <tr>\n",
       "      <td>3</td>\n",
       "      <td>Киновселенная 'DC', ещё очень молода и только-...</td>\n",
       "      <td>positive</td>\n",
       "    </tr>\n",
       "    <tr>\n",
       "      <td>4</td>\n",
       "      <td>На самом ли деле сон - это лишь субъективное в...</td>\n",
       "      <td>positive</td>\n",
       "    </tr>\n",
       "    <tr>\n",
       "      <td>...</td>\n",
       "      <td>...</td>\n",
       "      <td>...</td>\n",
       "    </tr>\n",
       "    <tr>\n",
       "      <td>996</td>\n",
       "      <td>Эй, моряк, ты слишком долго плавал,\\n\\n\\nЯ теб...</td>\n",
       "      <td>positive</td>\n",
       "    </tr>\n",
       "    <tr>\n",
       "      <td>997</td>\n",
       "      <td>Анонс выхода на экраны седьмой части экшн-фран...</td>\n",
       "      <td>positive</td>\n",
       "    </tr>\n",
       "    <tr>\n",
       "      <td>998</td>\n",
       "      <td>Что же такое 'Начало'? Фильм-шедевр, фильм-фен...</td>\n",
       "      <td>positive</td>\n",
       "    </tr>\n",
       "    <tr>\n",
       "      <td>999</td>\n",
       "      <td>Признаться честно, мне стыдно! Стыдно, за то ч...</td>\n",
       "      <td>positive</td>\n",
       "    </tr>\n",
       "    <tr>\n",
       "      <td>1000</td>\n",
       "      <td>Я смотрел фильм давно, но помню, что на протяж...</td>\n",
       "      <td>positive</td>\n",
       "    </tr>\n",
       "  </tbody>\n",
       "</table>\n",
       "<p>1001 rows × 2 columns</p>\n",
       "</div>"
      ],
      "text/plain": [
       "                                                   text     label\n",
       "0     Данное кино я не смотрел в кинотеатре, хотя бы...  positive\n",
       "1     «Сказка быль, да в ней намек». Обычно так зака...  positive\n",
       "2     Подошел к концу самый масштабный сериал в исто...  positive\n",
       "3     Киновселенная 'DC', ещё очень молода и только-...  positive\n",
       "4     На самом ли деле сон - это лишь субъективное в...  positive\n",
       "...                                                 ...       ...\n",
       "996   Эй, моряк, ты слишком долго плавал,\\n\\n\\nЯ теб...  positive\n",
       "997   Анонс выхода на экраны седьмой части экшн-фран...  positive\n",
       "998   Что же такое 'Начало'? Фильм-шедевр, фильм-фен...  positive\n",
       "999   Признаться честно, мне стыдно! Стыдно, за то ч...  positive\n",
       "1000  Я смотрел фильм давно, но помню, что на протяж...  positive\n",
       "\n",
       "[1001 rows x 2 columns]"
      ]
     },
     "execution_count": 175,
     "metadata": {},
     "output_type": "execute_result"
    }
   ],
   "source": [
    "reviews_df[reviews_df['label'] == 'positive']"
   ]
  },
  {
   "cell_type": "code",
   "execution_count": 176,
   "metadata": {},
   "outputs": [],
   "source": [
    "positive_words = [w for t in positive_preprocess for w in t]\n",
    "negative_words = [w for t in negative_preprocess for w in t]"
   ]
  },
  {
   "cell_type": "code",
   "execution_count": 177,
   "metadata": {},
   "outputs": [
    {
     "data": {
      "text/plain": [
       "236691"
      ]
     },
     "execution_count": 177,
     "metadata": {},
     "output_type": "execute_result"
    }
   ],
   "source": [
    "len(positive_words)"
   ]
  },
  {
   "cell_type": "code",
   "execution_count": 178,
   "metadata": {},
   "outputs": [
    {
     "data": {
      "text/plain": [
       "214746"
      ]
     },
     "execution_count": 178,
     "metadata": {},
     "output_type": "execute_result"
    }
   ],
   "source": [
    "len(negative_words)"
   ]
  },
  {
   "cell_type": "code",
   "execution_count": 179,
   "metadata": {},
   "outputs": [],
   "source": [
    "positive_keywords = dict(Counter(positive_words))\n",
    "negative_keywords = dict(Counter(negative_words))"
   ]
  },
  {
   "cell_type": "code",
   "execution_count": 180,
   "metadata": {},
   "outputs": [
    {
     "data": {
      "text/plain": [
       "False"
      ]
     },
     "execution_count": 180,
     "metadata": {},
     "output_type": "execute_result"
    }
   ],
   "source": [
    "'нас' in negative_keywords #проверяем, что стоп-слова во всех падежах отфильтрованы"
   ]
  },
  {
   "cell_type": "code",
   "execution_count": 181,
   "metadata": {},
   "outputs": [],
   "source": [
    "def filter_keywords(keywords, threshold=1):\n",
    "    keywords = [k for k in keywords if keywords[k] >= threshold]\n",
    "    keywords = set(keywords)\n",
    "    \n",
    "    return keywords"
   ]
  },
  {
   "cell_type": "code",
   "execution_count": 182,
   "metadata": {},
   "outputs": [],
   "source": [
    "positive_keywords = filter_keywords(positive_keywords)\n",
    "negative_keywords = filter_keywords(negative_keywords)"
   ]
  },
  {
   "cell_type": "code",
   "execution_count": 183,
   "metadata": {},
   "outputs": [
    {
     "data": {
      "text/plain": [
       "19415"
      ]
     },
     "execution_count": 183,
     "metadata": {},
     "output_type": "execute_result"
    }
   ],
   "source": [
    "len(positive_keywords)"
   ]
  },
  {
   "cell_type": "code",
   "execution_count": 184,
   "metadata": {},
   "outputs": [
    {
     "data": {
      "text/plain": [
       "20597"
      ]
     },
     "execution_count": 184,
     "metadata": {},
     "output_type": "execute_result"
    }
   ],
   "source": [
    "len(negative_keywords)"
   ]
  },
  {
   "cell_type": "code",
   "execution_count": 185,
   "metadata": {},
   "outputs": [],
   "source": [
    "intersection = positive_keywords & negative_keywords\n",
    "positive_keywords -= intersection\n",
    "negative_keywords -= intersection"
   ]
  },
  {
   "cell_type": "code",
   "execution_count": 186,
   "metadata": {},
   "outputs": [
    {
     "data": {
      "text/plain": [
       "6939"
      ]
     },
     "execution_count": 186,
     "metadata": {},
     "output_type": "execute_result"
    }
   ],
   "source": [
    "len(positive_keywords)"
   ]
  },
  {
   "cell_type": "code",
   "execution_count": 187,
   "metadata": {
    "scrolled": false
   },
   "outputs": [
    {
     "data": {
      "text/plain": [
       "8121"
      ]
     },
     "execution_count": 187,
     "metadata": {},
     "output_type": "execute_result"
    }
   ],
   "source": [
    "len(negative_keywords)"
   ]
  },
  {
   "cell_type": "code",
   "execution_count": 255,
   "metadata": {},
   "outputs": [],
   "source": [
    "def vectorize_dataset(dataset):\n",
    "    def vectorize_review(text):\n",
    "        text = set(preprocess_review(text))\n",
    "        positive_count = 0\n",
    "        negative_count = 0\n",
    "\n",
    "        for word in text:\n",
    "            if word in positive_keywords:\n",
    "                positive_count += 1\n",
    "            elif word in negative_keywords:\n",
    "                negative_count += 1\n",
    "\n",
    "        return positive_count, negative_count\n",
    "    \n",
    "    dataset = [vectorize_review(t) for t in dataset]\n",
    "    dataset = np.vstack(dataset)\n",
    "    \n",
    "    return dataset"
   ]
  },
  {
   "cell_type": "code",
   "execution_count": 271,
   "metadata": {},
   "outputs": [
    {
     "name": "stdout",
     "output_type": "stream",
     "text": [
      "Wall time: 52.7 s\n"
     ]
    }
   ],
   "source": [
    "%%time\n",
    "\n",
    "X_train_vectorized = vectorize_dataset(X_train)\n",
    "X_test_vectorized = vectorize_dataset(X_test)"
   ]
  },
  {
   "cell_type": "code",
   "execution_count": 307,
   "metadata": {},
   "outputs": [
    {
     "data": {
      "image/png": "[encoded data removed]",
      "text/plain": [
       "<Figure size 432x288 with 1 Axes>"
      ]
     },
     "metadata": {
      "needs_background": "light"
     },
     "output_type": "display_data"
    }
   ],
   "source": [
    "# Визуализируем отзывы в двух измерениях - количество строго положительных и строго отрицательных слов\n",
    "plt.scatter(X_train_vectorized[:, 0], X_train_vectorized[:, 1])\n",
    "plt.show()\n",
    "# Очевидно, что в обучающей выборке нет таких отзывов, в которых встречаются и строго положительные, и строго отрицательные\n",
    "# слова. Однако мы не можем гарантировать, что таких отзывов не будет и в тестовой выборке"
   ]
  },
  {
   "cell_type": "code",
   "execution_count": 300,
   "metadata": {},
   "outputs": [],
   "source": [
    "def accuracy(pred, true):\n",
    "    metric = (pred == true)\n",
    "    metric = len(metric[metric == True]) / len(true)\n",
    "    \n",
    "    return metric"
   ]
  },
  {
   "cell_type": "code",
   "execution_count": 310,
   "metadata": {},
   "outputs": [
    {
     "name": "stdout",
     "output_type": "stream",
     "text": [
      "Wall time: 2.96 ms\n"
     ]
    },
    {
     "name": "stderr",
     "output_type": "stream",
     "text": [
      "c:\\program files\\python37\\lib\\site-packages\\sklearn\\linear_model\\logistic.py:432: FutureWarning: Default solver will be changed to 'lbfgs' in 0.22. Specify a solver to silence this warning.\n",
      "  FutureWarning)\n"
     ]
    },
    {
     "data": {
      "text/plain": [
       "LogisticRegression(C=1.0, class_weight=None, dual=False, fit_intercept=True,\n",
       "                   intercept_scaling=1, l1_ratio=None, max_iter=100,\n",
       "                   multi_class='warn', n_jobs=None, penalty='l2',\n",
       "                   random_state=None, solver='warn', tol=0.0001, verbose=0,\n",
       "                   warm_start=False)"
      ]
     },
     "execution_count": 310,
     "metadata": {},
     "output_type": "execute_result"
    }
   ],
   "source": [
    "%%time\n",
    "\n",
    "LR = LogisticRegression()\n",
    "LR.fit(X_train_vectorized, y_train)"
   ]
  },
  {
   "cell_type": "code",
   "execution_count": 311,
   "metadata": {},
   "outputs": [
    {
     "data": {
      "text/plain": [
       "0.990909090909091"
      ]
     },
     "execution_count": 311,
     "metadata": {},
     "output_type": "execute_result"
    }
   ],
   "source": [
    "accuracy(LR.predict(X_test_vectorized), y_test)"
   ]
  },
  {
   "cell_type": "markdown",
   "metadata": {},
   "source": [
    "Некоторые улучшающие мульки я уже добавил: работа с массивами numpy должна быть быстрее, чем со списками, а логистическая регрессия добавляет веса количеству строго положительных и строго отрицательных слов, которые встречаются в текстах. Это может быть нужно для того, чтобы учесть ситуацию, когда в тестовой выборке появятся тексты, в которых будут перемешаны строго положительные и строго отрицательные слова.\n",
    "Кроме того, можно улучшить эту программу, сделав классификацию на эмбеддингах. Тогда мы не будем настолько привязаны к распределению строго положительных и строго отрицательных слов из обучающей выборки."
   ]
  }
 ],
 "metadata": {
  "kernelspec": {
   "display_name": "Python 3",
   "language": "python",
   "name": "python3"
  },
  "language_info": {
   "codemirror_mode": {
    "name": "ipython",
    "version": 3
   },
   "file_extension": ".py",
   "mimetype": "text/x-python",
   "name": "python",
   "nbconvert_exporter": "python",
   "pygments_lexer": "ipython3",
   "version": "3.7.3"
  }
 },
 "nbformat": 4,
 "nbformat_minor": 2
}
